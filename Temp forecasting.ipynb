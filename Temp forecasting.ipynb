{
 "cells": [
  {
   "cell_type": "code",
   "execution_count": 1,
   "id": "d72ae63d",
   "metadata": {},
   "outputs": [],
   "source": [
    "import pandas as pd\n",
    "data=pd.read_csv('GlobalLandTemperaturesByMajorCity.csv')"
   ]
  },
  {
   "cell_type": "code",
   "execution_count": 2,
   "id": "872915ab",
   "metadata": {
    "collapsed": true
   },
   "outputs": [
    {
     "data": {
      "text/html": [
       "<div>\n",
       "<style scoped>\n",
       "    .dataframe tbody tr th:only-of-type {\n",
       "        vertical-align: middle;\n",
       "    }\n",
       "\n",
       "    .dataframe tbody tr th {\n",
       "        vertical-align: top;\n",
       "    }\n",
       "\n",
       "    .dataframe thead th {\n",
       "        text-align: right;\n",
       "    }\n",
       "</style>\n",
       "<table border=\"1\" class=\"dataframe\">\n",
       "  <thead>\n",
       "    <tr style=\"text-align: right;\">\n",
       "      <th></th>\n",
       "      <th>dt</th>\n",
       "      <th>AverageTemperature</th>\n",
       "      <th>AverageTemperatureUncertainty</th>\n",
       "      <th>City</th>\n",
       "      <th>Country</th>\n",
       "      <th>Latitude</th>\n",
       "      <th>Longitude</th>\n",
       "    </tr>\n",
       "  </thead>\n",
       "  <tbody>\n",
       "    <tr>\n",
       "      <th>0</th>\n",
       "      <td>1849-01-01</td>\n",
       "      <td>26.704</td>\n",
       "      <td>1.435</td>\n",
       "      <td>Abidjan</td>\n",
       "      <td>Côte D'Ivoire</td>\n",
       "      <td>5.63N</td>\n",
       "      <td>3.23W</td>\n",
       "    </tr>\n",
       "    <tr>\n",
       "      <th>1</th>\n",
       "      <td>1849-02-01</td>\n",
       "      <td>27.434</td>\n",
       "      <td>1.362</td>\n",
       "      <td>Abidjan</td>\n",
       "      <td>Côte D'Ivoire</td>\n",
       "      <td>5.63N</td>\n",
       "      <td>3.23W</td>\n",
       "    </tr>\n",
       "    <tr>\n",
       "      <th>2</th>\n",
       "      <td>1849-03-01</td>\n",
       "      <td>28.101</td>\n",
       "      <td>1.612</td>\n",
       "      <td>Abidjan</td>\n",
       "      <td>Côte D'Ivoire</td>\n",
       "      <td>5.63N</td>\n",
       "      <td>3.23W</td>\n",
       "    </tr>\n",
       "    <tr>\n",
       "      <th>3</th>\n",
       "      <td>1849-04-01</td>\n",
       "      <td>26.140</td>\n",
       "      <td>1.387</td>\n",
       "      <td>Abidjan</td>\n",
       "      <td>Côte D'Ivoire</td>\n",
       "      <td>5.63N</td>\n",
       "      <td>3.23W</td>\n",
       "    </tr>\n",
       "    <tr>\n",
       "      <th>4</th>\n",
       "      <td>1849-05-01</td>\n",
       "      <td>25.427</td>\n",
       "      <td>1.200</td>\n",
       "      <td>Abidjan</td>\n",
       "      <td>Côte D'Ivoire</td>\n",
       "      <td>5.63N</td>\n",
       "      <td>3.23W</td>\n",
       "    </tr>\n",
       "  </tbody>\n",
       "</table>\n",
       "</div>"
      ],
      "text/plain": [
       "           dt  AverageTemperature  AverageTemperatureUncertainty     City  \\\n",
       "0  1849-01-01              26.704                          1.435  Abidjan   \n",
       "1  1849-02-01              27.434                          1.362  Abidjan   \n",
       "2  1849-03-01              28.101                          1.612  Abidjan   \n",
       "3  1849-04-01              26.140                          1.387  Abidjan   \n",
       "4  1849-05-01              25.427                          1.200  Abidjan   \n",
       "\n",
       "         Country Latitude Longitude  \n",
       "0  Côte D'Ivoire    5.63N     3.23W  \n",
       "1  Côte D'Ivoire    5.63N     3.23W  \n",
       "2  Côte D'Ivoire    5.63N     3.23W  \n",
       "3  Côte D'Ivoire    5.63N     3.23W  \n",
       "4  Côte D'Ivoire    5.63N     3.23W  "
      ]
     },
     "execution_count": 2,
     "metadata": {},
     "output_type": "execute_result"
    }
   ],
   "source": [
    "data.head()"
   ]
  },
  {
   "cell_type": "code",
   "execution_count": 3,
   "id": "80fac3f0",
   "metadata": {
    "collapsed": true
   },
   "outputs": [
    {
     "data": {
      "text/plain": [
       "array([\"Côte D'Ivoire\", 'Ethiopia', 'India', 'Syria', 'Egypt', 'Turkey',\n",
       "       'Iraq', 'Thailand', 'Brazil', 'Germany', 'Colombia',\n",
       "       'South Africa', 'Morocco', 'China', 'United States', 'Senegal',\n",
       "       'Tanzania', 'Bangladesh', 'Pakistan', 'Zimbabwe', 'Vietnam',\n",
       "       'Nigeria', 'Indonesia', 'Saudi Arabia', 'Afghanistan', 'Ukraine',\n",
       "       'Congo (Democratic Republic Of The)', 'Peru', 'United Kingdom',\n",
       "       'Angola', 'Spain', 'Philippines', 'Iran', 'Australia', 'Mexico',\n",
       "       'Somalia', 'Canada', 'Russia', 'Japan', 'Kenya', 'France', 'Burma',\n",
       "       'Italy', 'Chile', 'Dominican Republic', 'South Korea', 'Singapore',\n",
       "       'Taiwan', 'Sudan'], dtype=object)"
      ]
     },
     "execution_count": 3,
     "metadata": {},
     "output_type": "execute_result"
    }
   ],
   "source": [
    "data.Country.unique()"
   ]
  },
  {
   "cell_type": "code",
   "execution_count": 5,
   "id": "936f3291",
   "metadata": {
    "collapsed": true
   },
   "outputs": [
    {
     "data": {
      "text/plain": [
       "array(['Ahmadabad', 'Bangalore', 'Bombay', 'Calcutta', 'Delhi',\n",
       "       'Hyderabad', 'Jaipur', 'Kanpur', 'Lakhnau', 'Madras', 'Nagpur',\n",
       "       'New Delhi', 'Pune', 'Surat'], dtype=object)"
      ]
     },
     "execution_count": 5,
     "metadata": {},
     "output_type": "execute_result"
    }
   ],
   "source": [
    "data[data['Country']=='India'].City.unique()"
   ]
  },
  {
   "cell_type": "code",
   "execution_count": 6,
   "id": "54cb0549",
   "metadata": {},
   "outputs": [],
   "source": [
    "df=data[data['City']=='Bombay']"
   ]
  },
  {
   "cell_type": "code",
   "execution_count": 7,
   "id": "5cf934df",
   "metadata": {
    "collapsed": true
   },
   "outputs": [
    {
     "data": {
      "text/html": [
       "<div>\n",
       "<style scoped>\n",
       "    .dataframe tbody tr th:only-of-type {\n",
       "        vertical-align: middle;\n",
       "    }\n",
       "\n",
       "    .dataframe tbody tr th {\n",
       "        vertical-align: top;\n",
       "    }\n",
       "\n",
       "    .dataframe thead th {\n",
       "        text-align: right;\n",
       "    }\n",
       "</style>\n",
       "<table border=\"1\" class=\"dataframe\">\n",
       "  <thead>\n",
       "    <tr style=\"text-align: right;\">\n",
       "      <th></th>\n",
       "      <th>dt</th>\n",
       "      <th>AverageTemperature</th>\n",
       "      <th>AverageTemperatureUncertainty</th>\n",
       "      <th>City</th>\n",
       "      <th>Country</th>\n",
       "      <th>Latitude</th>\n",
       "      <th>Longitude</th>\n",
       "    </tr>\n",
       "  </thead>\n",
       "  <tbody>\n",
       "    <tr>\n",
       "      <th>30016</th>\n",
       "      <td>1796-01-01</td>\n",
       "      <td>24.317</td>\n",
       "      <td>2.190</td>\n",
       "      <td>Bombay</td>\n",
       "      <td>India</td>\n",
       "      <td>18.48N</td>\n",
       "      <td>72.68E</td>\n",
       "    </tr>\n",
       "    <tr>\n",
       "      <th>30017</th>\n",
       "      <td>1796-02-01</td>\n",
       "      <td>23.923</td>\n",
       "      <td>1.484</td>\n",
       "      <td>Bombay</td>\n",
       "      <td>India</td>\n",
       "      <td>18.48N</td>\n",
       "      <td>72.68E</td>\n",
       "    </tr>\n",
       "    <tr>\n",
       "      <th>30018</th>\n",
       "      <td>1796-03-01</td>\n",
       "      <td>24.407</td>\n",
       "      <td>2.309</td>\n",
       "      <td>Bombay</td>\n",
       "      <td>India</td>\n",
       "      <td>18.48N</td>\n",
       "      <td>72.68E</td>\n",
       "    </tr>\n",
       "    <tr>\n",
       "      <th>30019</th>\n",
       "      <td>1796-04-01</td>\n",
       "      <td>27.171</td>\n",
       "      <td>1.650</td>\n",
       "      <td>Bombay</td>\n",
       "      <td>India</td>\n",
       "      <td>18.48N</td>\n",
       "      <td>72.68E</td>\n",
       "    </tr>\n",
       "    <tr>\n",
       "      <th>30020</th>\n",
       "      <td>1796-05-01</td>\n",
       "      <td>29.050</td>\n",
       "      <td>1.290</td>\n",
       "      <td>Bombay</td>\n",
       "      <td>India</td>\n",
       "      <td>18.48N</td>\n",
       "      <td>72.68E</td>\n",
       "    </tr>\n",
       "  </tbody>\n",
       "</table>\n",
       "</div>"
      ],
      "text/plain": [
       "               dt  AverageTemperature  AverageTemperatureUncertainty    City  \\\n",
       "30016  1796-01-01              24.317                          2.190  Bombay   \n",
       "30017  1796-02-01              23.923                          1.484  Bombay   \n",
       "30018  1796-03-01              24.407                          2.309  Bombay   \n",
       "30019  1796-04-01              27.171                          1.650  Bombay   \n",
       "30020  1796-05-01              29.050                          1.290  Bombay   \n",
       "\n",
       "      Country Latitude Longitude  \n",
       "30016   India   18.48N    72.68E  \n",
       "30017   India   18.48N    72.68E  \n",
       "30018   India   18.48N    72.68E  \n",
       "30019   India   18.48N    72.68E  \n",
       "30020   India   18.48N    72.68E  "
      ]
     },
     "execution_count": 7,
     "metadata": {},
     "output_type": "execute_result"
    }
   ],
   "source": [
    "df.head()"
   ]
  },
  {
   "cell_type": "code",
   "execution_count": 8,
   "id": "88491791",
   "metadata": {
    "collapsed": true
   },
   "outputs": [
    {
     "name": "stdout",
     "output_type": "stream",
     "text": [
      "<class 'pandas.core.frame.DataFrame'>\n",
      "Int64Index: 2613 entries, 30016 to 32628\n",
      "Data columns (total 7 columns):\n",
      " #   Column                         Non-Null Count  Dtype  \n",
      "---  ------                         --------------  -----  \n",
      " 0   dt                             2613 non-null   object \n",
      " 1   AverageTemperature             2508 non-null   float64\n",
      " 2   AverageTemperatureUncertainty  2508 non-null   float64\n",
      " 3   City                           2613 non-null   object \n",
      " 4   Country                        2613 non-null   object \n",
      " 5   Latitude                       2613 non-null   object \n",
      " 6   Longitude                      2613 non-null   object \n",
      "dtypes: float64(2), object(5)\n",
      "memory usage: 163.3+ KB\n"
     ]
    }
   ],
   "source": [
    "df.info()"
   ]
  },
  {
   "cell_type": "code",
   "execution_count": 9,
   "id": "2ce75e64",
   "metadata": {
    "collapsed": true
   },
   "outputs": [
    {
     "name": "stderr",
     "output_type": "stream",
     "text": [
      "C:\\Users\\admin\\AppData\\Local\\Temp\\ipykernel_2636\\1030579655.py:1: SettingWithCopyWarning: \n",
      "A value is trying to be set on a copy of a slice from a DataFrame.\n",
      "Try using .loc[row_indexer,col_indexer] = value instead\n",
      "\n",
      "See the caveats in the documentation: https://pandas.pydata.org/pandas-docs/stable/user_guide/indexing.html#returning-a-view-versus-a-copy\n",
      "  df['dt']=pd.to_datetime(df['dt'])\n"
     ]
    }
   ],
   "source": [
    "df['dt']=pd.to_datetime(df['dt'])"
   ]
  },
  {
   "cell_type": "code",
   "execution_count": 10,
   "id": "01bc88eb",
   "metadata": {
    "collapsed": true
   },
   "outputs": [
    {
     "name": "stdout",
     "output_type": "stream",
     "text": [
      "<class 'pandas.core.frame.DataFrame'>\n",
      "Int64Index: 2613 entries, 30016 to 32628\n",
      "Data columns (total 7 columns):\n",
      " #   Column                         Non-Null Count  Dtype         \n",
      "---  ------                         --------------  -----         \n",
      " 0   dt                             2613 non-null   datetime64[ns]\n",
      " 1   AverageTemperature             2508 non-null   float64       \n",
      " 2   AverageTemperatureUncertainty  2508 non-null   float64       \n",
      " 3   City                           2613 non-null   object        \n",
      " 4   Country                        2613 non-null   object        \n",
      " 5   Latitude                       2613 non-null   object        \n",
      " 6   Longitude                      2613 non-null   object        \n",
      "dtypes: datetime64[ns](1), float64(2), object(4)\n",
      "memory usage: 163.3+ KB\n"
     ]
    }
   ],
   "source": [
    "df.info()"
   ]
  },
  {
   "cell_type": "code",
   "execution_count": 11,
   "id": "03792fe3",
   "metadata": {},
   "outputs": [],
   "source": [
    "df=df[['dt','AverageTemperature']]"
   ]
  },
  {
   "cell_type": "code",
   "execution_count": 12,
   "id": "e5b20c04",
   "metadata": {
    "collapsed": true
   },
   "outputs": [
    {
     "data": {
      "text/html": [
       "<div>\n",
       "<style scoped>\n",
       "    .dataframe tbody tr th:only-of-type {\n",
       "        vertical-align: middle;\n",
       "    }\n",
       "\n",
       "    .dataframe tbody tr th {\n",
       "        vertical-align: top;\n",
       "    }\n",
       "\n",
       "    .dataframe thead th {\n",
       "        text-align: right;\n",
       "    }\n",
       "</style>\n",
       "<table border=\"1\" class=\"dataframe\">\n",
       "  <thead>\n",
       "    <tr style=\"text-align: right;\">\n",
       "      <th></th>\n",
       "      <th>dt</th>\n",
       "      <th>AverageTemperature</th>\n",
       "    </tr>\n",
       "  </thead>\n",
       "  <tbody>\n",
       "    <tr>\n",
       "      <th>30016</th>\n",
       "      <td>1796-01-01</td>\n",
       "      <td>24.317</td>\n",
       "    </tr>\n",
       "    <tr>\n",
       "      <th>30017</th>\n",
       "      <td>1796-02-01</td>\n",
       "      <td>23.923</td>\n",
       "    </tr>\n",
       "    <tr>\n",
       "      <th>30018</th>\n",
       "      <td>1796-03-01</td>\n",
       "      <td>24.407</td>\n",
       "    </tr>\n",
       "    <tr>\n",
       "      <th>30019</th>\n",
       "      <td>1796-04-01</td>\n",
       "      <td>27.171</td>\n",
       "    </tr>\n",
       "    <tr>\n",
       "      <th>30020</th>\n",
       "      <td>1796-05-01</td>\n",
       "      <td>29.050</td>\n",
       "    </tr>\n",
       "  </tbody>\n",
       "</table>\n",
       "</div>"
      ],
      "text/plain": [
       "              dt  AverageTemperature\n",
       "30016 1796-01-01              24.317\n",
       "30017 1796-02-01              23.923\n",
       "30018 1796-03-01              24.407\n",
       "30019 1796-04-01              27.171\n",
       "30020 1796-05-01              29.050"
      ]
     },
     "execution_count": 12,
     "metadata": {},
     "output_type": "execute_result"
    }
   ],
   "source": [
    "df.head()"
   ]
  },
  {
   "cell_type": "code",
   "execution_count": 13,
   "id": "87814f62",
   "metadata": {},
   "outputs": [],
   "source": [
    "df.set_index(df['dt'],inplace=True,drop=True)"
   ]
  },
  {
   "cell_type": "code",
   "execution_count": 14,
   "id": "265b19de",
   "metadata": {
    "collapsed": true
   },
   "outputs": [
    {
     "data": {
      "text/html": [
       "<div>\n",
       "<style scoped>\n",
       "    .dataframe tbody tr th:only-of-type {\n",
       "        vertical-align: middle;\n",
       "    }\n",
       "\n",
       "    .dataframe tbody tr th {\n",
       "        vertical-align: top;\n",
       "    }\n",
       "\n",
       "    .dataframe thead th {\n",
       "        text-align: right;\n",
       "    }\n",
       "</style>\n",
       "<table border=\"1\" class=\"dataframe\">\n",
       "  <thead>\n",
       "    <tr style=\"text-align: right;\">\n",
       "      <th></th>\n",
       "      <th>dt</th>\n",
       "      <th>AverageTemperature</th>\n",
       "    </tr>\n",
       "    <tr>\n",
       "      <th>dt</th>\n",
       "      <th></th>\n",
       "      <th></th>\n",
       "    </tr>\n",
       "  </thead>\n",
       "  <tbody>\n",
       "    <tr>\n",
       "      <th>1796-01-01</th>\n",
       "      <td>1796-01-01</td>\n",
       "      <td>24.317</td>\n",
       "    </tr>\n",
       "  </tbody>\n",
       "</table>\n",
       "</div>"
      ],
      "text/plain": [
       "                   dt  AverageTemperature\n",
       "dt                                       \n",
       "1796-01-01 1796-01-01              24.317"
      ]
     },
     "execution_count": 14,
     "metadata": {},
     "output_type": "execute_result"
    }
   ],
   "source": [
    "df.head(1)"
   ]
  },
  {
   "cell_type": "code",
   "execution_count": 15,
   "id": "3ab9e957",
   "metadata": {},
   "outputs": [],
   "source": [
    "df=pd.DataFrame(df.AverageTemperature)"
   ]
  },
  {
   "cell_type": "code",
   "execution_count": 18,
   "id": "7e8dd9f5",
   "metadata": {
    "collapsed": true
   },
   "outputs": [
    {
     "data": {
      "text/html": [
       "<div>\n",
       "<style scoped>\n",
       "    .dataframe tbody tr th:only-of-type {\n",
       "        vertical-align: middle;\n",
       "    }\n",
       "\n",
       "    .dataframe tbody tr th {\n",
       "        vertical-align: top;\n",
       "    }\n",
       "\n",
       "    .dataframe thead th {\n",
       "        text-align: right;\n",
       "    }\n",
       "</style>\n",
       "<table border=\"1\" class=\"dataframe\">\n",
       "  <thead>\n",
       "    <tr style=\"text-align: right;\">\n",
       "      <th></th>\n",
       "      <th>AverageTemperature</th>\n",
       "    </tr>\n",
       "    <tr>\n",
       "      <th>dt</th>\n",
       "      <th></th>\n",
       "    </tr>\n",
       "  </thead>\n",
       "  <tbody>\n",
       "    <tr>\n",
       "      <th>2013-05-01</th>\n",
       "      <td>29.718</td>\n",
       "    </tr>\n",
       "    <tr>\n",
       "      <th>2013-06-01</th>\n",
       "      <td>27.686</td>\n",
       "    </tr>\n",
       "    <tr>\n",
       "      <th>2013-07-01</th>\n",
       "      <td>26.519</td>\n",
       "    </tr>\n",
       "    <tr>\n",
       "      <th>2013-08-01</th>\n",
       "      <td>26.953</td>\n",
       "    </tr>\n",
       "    <tr>\n",
       "      <th>2013-09-01</th>\n",
       "      <td>NaN</td>\n",
       "    </tr>\n",
       "  </tbody>\n",
       "</table>\n",
       "</div>"
      ],
      "text/plain": [
       "            AverageTemperature\n",
       "dt                            \n",
       "2013-05-01              29.718\n",
       "2013-06-01              27.686\n",
       "2013-07-01              26.519\n",
       "2013-08-01              26.953\n",
       "2013-09-01                 NaN"
      ]
     },
     "execution_count": 18,
     "metadata": {},
     "output_type": "execute_result"
    }
   ],
   "source": [
    "df.tail()"
   ]
  },
  {
   "cell_type": "code",
   "execution_count": 17,
   "id": "c7ca755d",
   "metadata": {
    "collapsed": true
   },
   "outputs": [
    {
     "data": {
      "text/plain": [
       "AverageTemperature    105\n",
       "dtype: int64"
      ]
     },
     "execution_count": 17,
     "metadata": {},
     "output_type": "execute_result"
    }
   ],
   "source": [
    "df.isna().sum()"
   ]
  },
  {
   "cell_type": "code",
   "execution_count": 19,
   "id": "448e4f67",
   "metadata": {
    "collapsed": true
   },
   "outputs": [
    {
     "data": {
      "text/plain": [
       "AverageTemperature    0\n",
       "dtype: int64"
      ]
     },
     "execution_count": 19,
     "metadata": {},
     "output_type": "execute_result"
    }
   ],
   "source": [
    "df=df['1970':'2012']\n",
    "df.isna().sum()"
   ]
  },
  {
   "cell_type": "code",
   "execution_count": 22,
   "id": "125690a1",
   "metadata": {},
   "outputs": [],
   "source": [
    "from statsmodels.tsa.stattools import adfuller"
   ]
  },
  {
   "cell_type": "code",
   "execution_count": 23,
   "id": "b5426406",
   "metadata": {},
   "outputs": [],
   "source": [
    "def adf_test(series,title):\n",
    "    print('This is Augmented Dickey Fulley Test result on {}'.format(title))\n",
    "    print()\n",
    "    print(\"H0: Data has unit root and is non stationary\")\n",
    "    print('Ha: Data has no unit root and is stationary')\n",
    "    print('if p>0.05 then accept H0 and p<=0.05 reject H0' )\n",
    "    \n",
    "    result=adfuller(series.dropna())\n",
    "    dfout=pd.Series(result[:4],index=['Adf test stat','P-value','#lags','#observations'])\n",
    "    \n",
    "    if result[1]>0.05:\n",
    "        print('-----------------------------------------')\n",
    "        print('Data has unit root and is non stationary')\n",
    "        \n",
    "    else:\n",
    "        print('-----------------------------------------')\n",
    "        print('Data has no unit root and is stationary')"
   ]
  },
  {
   "cell_type": "code",
   "execution_count": 24,
   "id": "abd81235",
   "metadata": {
    "collapsed": true
   },
   "outputs": [
    {
     "name": "stdout",
     "output_type": "stream",
     "text": [
      "This is Augmented Dickey Fulley Test result on Average Temperature\n",
      "\n",
      "H0: Data has unit root and is non stationary\n",
      "Ha: Data has no unit root and is stationary\n",
      "if p>0.05 then accept H0 and p<=0.05 reject H0\n",
      "-----------------------------------------\n",
      "Data has no unit root and is stationary\n"
     ]
    }
   ],
   "source": [
    "adf_test(df.AverageTemperature,'Average Temperature')"
   ]
  },
  {
   "cell_type": "code",
   "execution_count": 25,
   "id": "2429506e",
   "metadata": {},
   "outputs": [],
   "source": [
    "y=df['AverageTemperature']"
   ]
  },
  {
   "cell_type": "code",
   "execution_count": 26,
   "id": "bebb89a6",
   "metadata": {
    "collapsed": true
   },
   "outputs": [
    {
     "data": {
      "text/plain": [
       "dt\n",
       "1970-01-01    24.599\n",
       "1970-02-01    24.568\n",
       "1970-03-01    25.658\n",
       "1970-04-01    27.835\n",
       "1970-05-01    29.348\n",
       "               ...  \n",
       "2012-08-01    27.405\n",
       "2012-09-01    27.491\n",
       "2012-10-01    28.689\n",
       "2012-11-01    27.540\n",
       "2012-12-01    26.828\n",
       "Name: AverageTemperature, Length: 516, dtype: float64"
      ]
     },
     "execution_count": 26,
     "metadata": {},
     "output_type": "execute_result"
    }
   ],
   "source": [
    "y"
   ]
  },
  {
   "cell_type": "code",
   "execution_count": 27,
   "id": "6a3963b1",
   "metadata": {},
   "outputs": [],
   "source": [
    "train=y[:'2009']\n",
    "test=y['2010':]"
   ]
  },
  {
   "cell_type": "code",
   "execution_count": 30,
   "id": "faf3aa94",
   "metadata": {
    "collapsed": true
   },
   "outputs": [
    {
     "data": {
      "text/plain": [
       "DatetimeIndex(['1970-01-01', '1970-02-01', '1970-03-01', '1970-04-01',\n",
       "               '1970-05-01', '1970-06-01', '1970-07-01', '1970-08-01',\n",
       "               '1970-09-01', '1970-10-01',\n",
       "               ...\n",
       "               '2009-03-01', '2009-04-01', '2009-05-01', '2009-06-01',\n",
       "               '2009-07-01', '2009-08-01', '2009-09-01', '2009-10-01',\n",
       "               '2009-11-01', '2009-12-01'],\n",
       "              dtype='datetime64[ns]', name='dt', length=480, freq=None)"
      ]
     },
     "execution_count": 30,
     "metadata": {},
     "output_type": "execute_result"
    }
   ],
   "source": [
    "train.index"
   ]
  },
  {
   "cell_type": "code",
   "execution_count": 29,
   "id": "5f0a3df1",
   "metadata": {
    "collapsed": true
   },
   "outputs": [
    {
     "data": {
      "text/plain": [
       "dt\n",
       "2010-01-01    26.120\n",
       "2010-02-01    25.615\n",
       "2010-03-01    27.362\n",
       "2010-04-01    29.178\n",
       "2010-05-01    30.682\n",
       "2010-06-01    28.881\n",
       "2010-07-01    27.364\n",
       "2010-08-01    27.279\n",
       "2010-09-01    27.587\n",
       "2010-10-01    28.774\n",
       "2010-11-01    28.883\n",
       "2010-12-01    25.460\n",
       "2011-01-01    24.543\n",
       "2011-02-01    25.031\n",
       "2011-03-01    26.990\n",
       "2011-04-01    27.716\n",
       "2011-05-01    29.546\n",
       "2011-06-01    28.394\n",
       "2011-07-01    27.133\n",
       "2011-08-01    27.122\n",
       "2011-09-01    27.390\n",
       "2011-10-01    28.864\n",
       "2011-11-01    29.040\n",
       "2011-12-01    26.850\n",
       "2012-01-01    23.844\n",
       "2012-02-01    24.693\n",
       "2012-03-01    25.574\n",
       "2012-04-01    28.223\n",
       "2012-05-01    29.235\n",
       "2012-06-01    28.847\n",
       "2012-07-01    27.941\n",
       "2012-08-01    27.405\n",
       "2012-09-01    27.491\n",
       "2012-10-01    28.689\n",
       "2012-11-01    27.540\n",
       "2012-12-01    26.828\n",
       "Name: AverageTemperature, dtype: float64"
      ]
     },
     "execution_count": 29,
     "metadata": {},
     "output_type": "execute_result"
    }
   ],
   "source": [
    "test"
   ]
  },
  {
   "cell_type": "code",
   "execution_count": 31,
   "id": "bcca39f1",
   "metadata": {},
   "outputs": [
    {
     "name": "stdout",
     "output_type": "stream",
     "text": [
      "Performing stepwise search to minimize aic\n",
      " ARIMA(2,0,2)(1,0,1)[12] intercept   : AIC=1156.667, Time=2.48 sec\n",
      " ARIMA(0,0,0)(0,0,0)[12] intercept   : AIC=1781.435, Time=0.05 sec\n",
      " ARIMA(1,0,0)(1,0,0)[12] intercept   : AIC=1048.702, Time=1.02 sec\n",
      " ARIMA(0,0,1)(0,0,1)[12] intercept   : AIC=1311.368, Time=0.35 sec\n",
      " ARIMA(0,0,0)(0,0,0)[12]             : AIC=4535.087, Time=0.05 sec\n",
      " ARIMA(1,0,0)(0,0,0)[12] intercept   : AIC=1539.825, Time=0.21 sec\n",
      " ARIMA(1,0,0)(2,0,0)[12] intercept   : AIC=1005.722, Time=3.11 sec\n",
      " ARIMA(1,0,0)(2,0,1)[12] intercept   : AIC=inf, Time=2.61 sec\n",
      " ARIMA(1,0,0)(1,0,1)[12] intercept   : AIC=951.200, Time=1.27 sec\n",
      " ARIMA(1,0,0)(0,0,1)[12] intercept   : AIC=1311.409, Time=0.46 sec\n",
      " ARIMA(1,0,0)(1,0,2)[12] intercept   : AIC=992.994, Time=2.74 sec\n",
      " ARIMA(1,0,0)(0,0,2)[12] intercept   : AIC=1210.803, Time=1.64 sec\n",
      " ARIMA(1,0,0)(2,0,2)[12] intercept   : AIC=inf, Time=3.46 sec\n",
      " ARIMA(0,0,0)(1,0,1)[12] intercept   : AIC=1080.607, Time=1.12 sec\n",
      " ARIMA(2,0,0)(1,0,1)[12] intercept   : AIC=1192.991, Time=1.67 sec\n",
      " ARIMA(1,0,1)(1,0,1)[12] intercept   : AIC=inf, Time=1.44 sec\n",
      " ARIMA(0,0,1)(1,0,1)[12] intercept   : AIC=974.005, Time=1.28 sec\n",
      " ARIMA(2,0,1)(1,0,1)[12] intercept   : AIC=1270.670, Time=1.84 sec\n",
      " ARIMA(1,0,0)(1,0,1)[12]             : AIC=inf, Time=1.17 sec\n",
      "\n",
      "Best model:  ARIMA(1,0,0)(1,0,1)[12] intercept\n",
      "Total fit time: 27.961 seconds\n"
     ]
    }
   ],
   "source": [
    "from pmdarima.arima import auto_arima\n",
    "\n",
    "arima_model=auto_arima(train,seasonal=True,m=12,stationary=True,trace=1,random_state=42)"
   ]
  },
  {
   "cell_type": "code",
   "execution_count": 32,
   "id": "af05c3c6",
   "metadata": {},
   "outputs": [],
   "source": [
    "from statsmodels.graphics.tsaplots import plot_acf,plot_pacf"
   ]
  },
  {
   "cell_type": "code",
   "execution_count": 35,
   "id": "a0fffd93",
   "metadata": {
    "collapsed": true
   },
   "outputs": [
    {
     "data": {
      "image/png": "[encoded data removed]",
      "text/plain": [
       "<Figure size 432x288 with 1 Axes>"
      ]
     },
     "metadata": {
      "needs_background": "light"
     },
     "output_type": "display_data"
    }
   ],
   "source": [
    "plot_acf(train,title='ACF Plot for q',lags=40);"
   ]
  },
  {
   "cell_type": "code",
   "execution_count": 37,
   "id": "df1e328f",
   "metadata": {
    "collapsed": true
   },
   "outputs": [
    {
     "data": {
      "image/png": "[encoded data removed]",
      "text/plain": [
       "<Figure size 432x288 with 1 Axes>"
      ]
     },
     "metadata": {
      "needs_background": "light"
     },
     "output_type": "display_data"
    }
   ],
   "source": [
    "plot_pacf(train,title='ACF Plot for p',lags=40,method='ywm');"
   ]
  },
  {
   "cell_type": "code",
   "execution_count": null,
   "id": "4870a229",
   "metadata": {},
   "outputs": [],
   "source": [
    "# pacf and acf plot (p,d,q)=== (4,0,1)"
   ]
  },
  {
   "cell_type": "code",
   "execution_count": 40,
   "id": "5590d774",
   "metadata": {},
   "outputs": [],
   "source": [
    "from statsmodels.tsa.arima.model import ARIMA"
   ]
  },
  {
   "cell_type": "code",
   "execution_count": 63,
   "id": "63c7f3ca",
   "metadata": {
    "collapsed": true
   },
   "outputs": [
    {
     "data": {
      "text/html": [
       "<table class=\"simpletable\">\n",
       "<caption>SARIMAX Results</caption>\n",
       "<tr>\n",
       "  <th>Dep. Variable:</th>   <td>AverageTemperature</td> <th>  No. Observations:  </th>    <td>480</td>  \n",
       "</tr>\n",
       "<tr>\n",
       "  <th>Model:</th>             <td>ARIMA(1, 0, 1)</td>   <th>  Log Likelihood     </th> <td>-708.399</td>\n",
       "</tr>\n",
       "<tr>\n",
       "  <th>Date:</th>             <td>Thu, 07 Dec 2023</td>  <th>  AIC                </th> <td>1424.798</td>\n",
       "</tr>\n",
       "<tr>\n",
       "  <th>Time:</th>                 <td>12:24:02</td>      <th>  BIC                </th> <td>1441.493</td>\n",
       "</tr>\n",
       "<tr>\n",
       "  <th>Sample:</th>              <td>01-01-1970</td>     <th>  HQIC               </th> <td>1431.360</td>\n",
       "</tr>\n",
       "<tr>\n",
       "  <th></th>                    <td>- 12-01-2009</td>    <th>                     </th>     <td> </td>   \n",
       "</tr>\n",
       "<tr>\n",
       "  <th>Covariance Type:</th>         <td>opg</td>        <th>                     </th>     <td> </td>   \n",
       "</tr>\n",
       "</table>\n",
       "<table class=\"simpletable\">\n",
       "<tr>\n",
       "     <td></td>       <th>coef</th>     <th>std err</th>      <th>z</th>      <th>P>|z|</th>  <th>[0.025</th>    <th>0.975]</th>  \n",
       "</tr>\n",
       "<tr>\n",
       "  <th>const</th>  <td>   27.1438</td> <td>    0.132</td> <td>  205.729</td> <td> 0.000</td> <td>   26.885</td> <td>   27.402</td>\n",
       "</tr>\n",
       "<tr>\n",
       "  <th>ar.L1</th>  <td>    0.4478</td> <td>    0.056</td> <td>    8.044</td> <td> 0.000</td> <td>    0.339</td> <td>    0.557</td>\n",
       "</tr>\n",
       "<tr>\n",
       "  <th>ma.L1</th>  <td>    0.5000</td> <td>    0.054</td> <td>    9.224</td> <td> 0.000</td> <td>    0.394</td> <td>    0.606</td>\n",
       "</tr>\n",
       "<tr>\n",
       "  <th>sigma2</th> <td>    1.1184</td> <td>    0.081</td> <td>   13.823</td> <td> 0.000</td> <td>    0.960</td> <td>    1.277</td>\n",
       "</tr>\n",
       "</table>\n",
       "<table class=\"simpletable\">\n",
       "<tr>\n",
       "  <th>Ljung-Box (L1) (Q):</th>     <td>4.57</td> <th>  Jarque-Bera (JB):  </th> <td>3.20</td> \n",
       "</tr>\n",
       "<tr>\n",
       "  <th>Prob(Q):</th>                <td>0.03</td> <th>  Prob(JB):          </th> <td>0.20</td> \n",
       "</tr>\n",
       "<tr>\n",
       "  <th>Heteroskedasticity (H):</th> <td>0.84</td> <th>  Skew:              </th> <td>-0.09</td>\n",
       "</tr>\n",
       "<tr>\n",
       "  <th>Prob(H) (two-sided):</th>    <td>0.27</td> <th>  Kurtosis:          </th> <td>2.64</td> \n",
       "</tr>\n",
       "</table><br/><br/>Warnings:<br/>[1] Covariance matrix calculated using the outer product of gradients (complex-step)."
      ],
      "text/plain": [
       "<class 'statsmodels.iolib.summary.Summary'>\n",
       "\"\"\"\n",
       "                               SARIMAX Results                                \n",
       "==============================================================================\n",
       "Dep. Variable:     AverageTemperature   No. Observations:                  480\n",
       "Model:                 ARIMA(1, 0, 1)   Log Likelihood                -708.399\n",
       "Date:                Thu, 07 Dec 2023   AIC                           1424.798\n",
       "Time:                        12:24:02   BIC                           1441.493\n",
       "Sample:                    01-01-1970   HQIC                          1431.360\n",
       "                         - 12-01-2009                                         \n",
       "Covariance Type:                  opg                                         \n",
       "==============================================================================\n",
       "                 coef    std err          z      P>|z|      [0.025      0.975]\n",
       "------------------------------------------------------------------------------\n",
       "const         27.1438      0.132    205.729      0.000      26.885      27.402\n",
       "ar.L1          0.4478      0.056      8.044      0.000       0.339       0.557\n",
       "ma.L1          0.5000      0.054      9.224      0.000       0.394       0.606\n",
       "sigma2         1.1184      0.081     13.823      0.000       0.960       1.277\n",
       "===================================================================================\n",
       "Ljung-Box (L1) (Q):                   4.57   Jarque-Bera (JB):                 3.20\n",
       "Prob(Q):                              0.03   Prob(JB):                         0.20\n",
       "Heteroskedasticity (H):               0.84   Skew:                            -0.09\n",
       "Prob(H) (two-sided):                  0.27   Kurtosis:                         2.64\n",
       "===================================================================================\n",
       "\n",
       "Warnings:\n",
       "[1] Covariance matrix calculated using the outer product of gradients (complex-step).\n",
       "\"\"\""
      ]
     },
     "execution_count": 63,
     "metadata": {},
     "output_type": "execute_result"
    }
   ],
   "source": [
    "model=ARIMA(train,order=(1,0,1))\n",
    "result=model.fit()\n",
    "result.summary()"
   ]
  },
  {
   "cell_type": "code",
   "execution_count": 64,
   "id": "03b63f47",
   "metadata": {
    "collapsed": true
   },
   "outputs": [
    {
     "name": "stderr",
     "output_type": "stream",
     "text": [
      "C:\\ProgramData\\Anaconda3\\lib\\site-packages\\statsmodels\\tsa\\base\\tsa_model.py:471: ValueWarning: No frequency information was provided, so inferred frequency MS will be used.\n",
      "  self._init_dates(dates, freq)\n"
     ]
    },
    {
     "data": {
      "text/html": [
       "<table class=\"simpletable\">\n",
       "<caption>SARIMAX Results</caption>\n",
       "<tr>\n",
       "  <th>Dep. Variable:</th>   <td>AverageTemperature</td> <th>  No. Observations:  </th>    <td>480</td>  \n",
       "</tr>\n",
       "<tr>\n",
       "  <th>Model:</th>             <td>ARIMA(4, 0, 1)</td>   <th>  Log Likelihood     </th> <td>-637.545</td>\n",
       "</tr>\n",
       "<tr>\n",
       "  <th>Date:</th>             <td>Thu, 07 Dec 2023</td>  <th>  AIC                </th> <td>1289.090</td>\n",
       "</tr>\n",
       "<tr>\n",
       "  <th>Time:</th>                 <td>12:24:07</td>      <th>  BIC                </th> <td>1318.306</td>\n",
       "</tr>\n",
       "<tr>\n",
       "  <th>Sample:</th>              <td>01-01-1970</td>     <th>  HQIC               </th> <td>1300.574</td>\n",
       "</tr>\n",
       "<tr>\n",
       "  <th></th>                    <td>- 12-01-2009</td>    <th>                     </th>     <td> </td>   \n",
       "</tr>\n",
       "<tr>\n",
       "  <th>Covariance Type:</th>         <td>opg</td>        <th>                     </th>     <td> </td>   \n",
       "</tr>\n",
       "</table>\n",
       "<table class=\"simpletable\">\n",
       "<tr>\n",
       "     <td></td>       <th>coef</th>     <th>std err</th>      <th>z</th>      <th>P>|z|</th>  <th>[0.025</th>    <th>0.975]</th>  \n",
       "</tr>\n",
       "<tr>\n",
       "  <th>const</th>  <td>   27.1506</td> <td>    0.082</td> <td>  330.493</td> <td> 0.000</td> <td>   26.990</td> <td>   27.312</td>\n",
       "</tr>\n",
       "<tr>\n",
       "  <th>ar.L1</th>  <td>    0.9568</td> <td>    0.256</td> <td>    3.734</td> <td> 0.000</td> <td>    0.455</td> <td>    1.459</td>\n",
       "</tr>\n",
       "<tr>\n",
       "  <th>ar.L2</th>  <td>   -0.3908</td> <td>    0.252</td> <td>   -1.551</td> <td> 0.121</td> <td>   -0.885</td> <td>    0.103</td>\n",
       "</tr>\n",
       "<tr>\n",
       "  <th>ar.L3</th>  <td>   -0.3080</td> <td>    0.142</td> <td>   -2.164</td> <td> 0.030</td> <td>   -0.587</td> <td>   -0.029</td>\n",
       "</tr>\n",
       "<tr>\n",
       "  <th>ar.L4</th>  <td>    0.1932</td> <td>    0.058</td> <td>    3.335</td> <td> 0.001</td> <td>    0.080</td> <td>    0.307</td>\n",
       "</tr>\n",
       "<tr>\n",
       "  <th>ma.L1</th>  <td>    0.0186</td> <td>    0.267</td> <td>    0.070</td> <td> 0.945</td> <td>   -0.505</td> <td>    0.542</td>\n",
       "</tr>\n",
       "<tr>\n",
       "  <th>sigma2</th> <td>    0.8311</td> <td>    0.063</td> <td>   13.180</td> <td> 0.000</td> <td>    0.708</td> <td>    0.955</td>\n",
       "</tr>\n",
       "</table>\n",
       "<table class=\"simpletable\">\n",
       "<tr>\n",
       "  <th>Ljung-Box (L1) (Q):</th>     <td>0.00</td> <th>  Jarque-Bera (JB):  </th> <td>11.73</td>\n",
       "</tr>\n",
       "<tr>\n",
       "  <th>Prob(Q):</th>                <td>0.97</td> <th>  Prob(JB):          </th> <td>0.00</td> \n",
       "</tr>\n",
       "<tr>\n",
       "  <th>Heteroskedasticity (H):</th> <td>0.85</td> <th>  Skew:              </th> <td>-0.31</td>\n",
       "</tr>\n",
       "<tr>\n",
       "  <th>Prob(H) (two-sided):</th>    <td>0.31</td> <th>  Kurtosis:          </th> <td>2.56</td> \n",
       "</tr>\n",
       "</table><br/><br/>Warnings:<br/>[1] Covariance matrix calculated using the outer product of gradients (complex-step)."
      ],
      "text/plain": [
       "<class 'statsmodels.iolib.summary.Summary'>\n",
       "\"\"\"\n",
       "                               SARIMAX Results                                \n",
       "==============================================================================\n",
       "Dep. Variable:     AverageTemperature   No. Observations:                  480\n",
       "Model:                 ARIMA(4, 0, 1)   Log Likelihood                -637.545\n",
       "Date:                Thu, 07 Dec 2023   AIC                           1289.090\n",
       "Time:                        12:24:07   BIC                           1318.306\n",
       "Sample:                    01-01-1970   HQIC                          1300.574\n",
       "                         - 12-01-2009                                         \n",
       "Covariance Type:                  opg                                         \n",
       "==============================================================================\n",
       "                 coef    std err          z      P>|z|      [0.025      0.975]\n",
       "------------------------------------------------------------------------------\n",
       "const         27.1506      0.082    330.493      0.000      26.990      27.312\n",
       "ar.L1          0.9568      0.256      3.734      0.000       0.455       1.459\n",
       "ar.L2         -0.3908      0.252     -1.551      0.121      -0.885       0.103\n",
       "ar.L3         -0.3080      0.142     -2.164      0.030      -0.587      -0.029\n",
       "ar.L4          0.1932      0.058      3.335      0.001       0.080       0.307\n",
       "ma.L1          0.0186      0.267      0.070      0.945      -0.505       0.542\n",
       "sigma2         0.8311      0.063     13.180      0.000       0.708       0.955\n",
       "===================================================================================\n",
       "Ljung-Box (L1) (Q):                   0.00   Jarque-Bera (JB):                11.73\n",
       "Prob(Q):                              0.97   Prob(JB):                         0.00\n",
       "Heteroskedasticity (H):               0.85   Skew:                            -0.31\n",
       "Prob(H) (two-sided):                  0.31   Kurtosis:                         2.56\n",
       "===================================================================================\n",
       "\n",
       "Warnings:\n",
       "[1] Covariance matrix calculated using the outer product of gradients (complex-step).\n",
       "\"\"\""
      ]
     },
     "execution_count": 64,
     "metadata": {},
     "output_type": "execute_result"
    }
   ],
   "source": [
    "model1=ARIMA(train,order=(4,0,1))\n",
    "result1=model1.fit()\n",
    "result1.summary()"
   ]
  },
  {
   "cell_type": "code",
   "execution_count": 72,
   "id": "dc756996",
   "metadata": {},
   "outputs": [],
   "source": [
    "pred=result.get_forecast(steps=36)"
   ]
  },
  {
   "cell_type": "code",
   "execution_count": 76,
   "id": "211cf439",
   "metadata": {
    "collapsed": true
   },
   "outputs": [
    {
     "data": {
      "text/plain": [
       "2010-01-01    26.720834\n",
       "2010-02-01    26.954395\n",
       "2010-03-01    27.058991\n",
       "2010-04-01    27.105832\n",
       "2010-05-01    27.126809\n",
       "2010-06-01    27.136203\n",
       "2010-07-01    27.140410\n",
       "2010-08-01    27.142294\n",
       "2010-09-01    27.143138\n",
       "2010-10-01    27.143516\n",
       "2010-11-01    27.143685\n",
       "2010-12-01    27.143761\n",
       "2011-01-01    27.143795\n",
       "2011-02-01    27.143810\n",
       "2011-03-01    27.143817\n",
       "2011-04-01    27.143820\n",
       "2011-05-01    27.143821\n",
       "2011-06-01    27.143822\n",
       "2011-07-01    27.143822\n",
       "2011-08-01    27.143822\n",
       "2011-09-01    27.143822\n",
       "2011-10-01    27.143822\n",
       "2011-11-01    27.143822\n",
       "2011-12-01    27.143822\n",
       "2012-01-01    27.143822\n",
       "2012-02-01    27.143822\n",
       "2012-03-01    27.143822\n",
       "2012-04-01    27.143822\n",
       "2012-05-01    27.143822\n",
       "2012-06-01    27.143822\n",
       "2012-07-01    27.143822\n",
       "2012-08-01    27.143822\n",
       "2012-09-01    27.143822\n",
       "2012-10-01    27.143822\n",
       "2012-11-01    27.143822\n",
       "2012-12-01    27.143822\n",
       "Freq: MS, Name: predicted_mean, dtype: float64"
      ]
     },
     "execution_count": 76,
     "metadata": {},
     "output_type": "execute_result"
    }
   ],
   "source": [
    "pred.predicted_mean"
   ]
  },
  {
   "cell_type": "code",
   "execution_count": 73,
   "id": "5e469c6e",
   "metadata": {},
   "outputs": [],
   "source": [
    "pred_ci=pred.conf_int()"
   ]
  },
  {
   "cell_type": "code",
   "execution_count": 74,
   "id": "97a0bfc2",
   "metadata": {
    "collapsed": true
   },
   "outputs": [
    {
     "data": {
      "text/html": [
       "<div>\n",
       "<style scoped>\n",
       "    .dataframe tbody tr th:only-of-type {\n",
       "        vertical-align: middle;\n",
       "    }\n",
       "\n",
       "    .dataframe tbody tr th {\n",
       "        vertical-align: top;\n",
       "    }\n",
       "\n",
       "    .dataframe thead th {\n",
       "        text-align: right;\n",
       "    }\n",
       "</style>\n",
       "<table border=\"1\" class=\"dataframe\">\n",
       "  <thead>\n",
       "    <tr style=\"text-align: right;\">\n",
       "      <th></th>\n",
       "      <th>lower AverageTemperature</th>\n",
       "      <th>upper AverageTemperature</th>\n",
       "    </tr>\n",
       "  </thead>\n",
       "  <tbody>\n",
       "    <tr>\n",
       "      <th>2010-01-01</th>\n",
       "      <td>24.648117</td>\n",
       "      <td>28.793551</td>\n",
       "    </tr>\n",
       "    <tr>\n",
       "      <th>2010-02-01</th>\n",
       "      <td>24.098539</td>\n",
       "      <td>29.810251</td>\n",
       "    </tr>\n",
       "    <tr>\n",
       "      <th>2010-03-01</th>\n",
       "      <td>24.070681</td>\n",
       "      <td>30.047301</td>\n",
       "    </tr>\n",
       "    <tr>\n",
       "      <th>2010-04-01</th>\n",
       "      <td>24.091659</td>\n",
       "      <td>30.120006</td>\n",
       "    </tr>\n",
       "    <tr>\n",
       "      <th>2010-05-01</th>\n",
       "      <td>24.107475</td>\n",
       "      <td>30.146143</td>\n",
       "    </tr>\n",
       "    <tr>\n",
       "      <th>2010-06-01</th>\n",
       "      <td>24.115836</td>\n",
       "      <td>30.156571</td>\n",
       "    </tr>\n",
       "    <tr>\n",
       "      <th>2010-07-01</th>\n",
       "      <td>24.119835</td>\n",
       "      <td>30.160985</td>\n",
       "    </tr>\n",
       "    <tr>\n",
       "      <th>2010-08-01</th>\n",
       "      <td>24.121678</td>\n",
       "      <td>30.162911</td>\n",
       "    </tr>\n",
       "    <tr>\n",
       "      <th>2010-09-01</th>\n",
       "      <td>24.122513</td>\n",
       "      <td>30.163763</td>\n",
       "    </tr>\n",
       "    <tr>\n",
       "      <th>2010-10-01</th>\n",
       "      <td>24.122889</td>\n",
       "      <td>30.164143</td>\n",
       "    </tr>\n",
       "    <tr>\n",
       "      <th>2010-11-01</th>\n",
       "      <td>24.123058</td>\n",
       "      <td>30.164312</td>\n",
       "    </tr>\n",
       "    <tr>\n",
       "      <th>2010-12-01</th>\n",
       "      <td>24.123134</td>\n",
       "      <td>30.164388</td>\n",
       "    </tr>\n",
       "    <tr>\n",
       "      <th>2011-01-01</th>\n",
       "      <td>24.123168</td>\n",
       "      <td>30.164422</td>\n",
       "    </tr>\n",
       "    <tr>\n",
       "      <th>2011-02-01</th>\n",
       "      <td>24.123183</td>\n",
       "      <td>30.164437</td>\n",
       "    </tr>\n",
       "    <tr>\n",
       "      <th>2011-03-01</th>\n",
       "      <td>24.123190</td>\n",
       "      <td>30.164444</td>\n",
       "    </tr>\n",
       "    <tr>\n",
       "      <th>2011-04-01</th>\n",
       "      <td>24.123193</td>\n",
       "      <td>30.164447</td>\n",
       "    </tr>\n",
       "    <tr>\n",
       "      <th>2011-05-01</th>\n",
       "      <td>24.123194</td>\n",
       "      <td>30.164448</td>\n",
       "    </tr>\n",
       "    <tr>\n",
       "      <th>2011-06-01</th>\n",
       "      <td>24.123195</td>\n",
       "      <td>30.164449</td>\n",
       "    </tr>\n",
       "    <tr>\n",
       "      <th>2011-07-01</th>\n",
       "      <td>24.123195</td>\n",
       "      <td>30.164449</td>\n",
       "    </tr>\n",
       "    <tr>\n",
       "      <th>2011-08-01</th>\n",
       "      <td>24.123195</td>\n",
       "      <td>30.164449</td>\n",
       "    </tr>\n",
       "    <tr>\n",
       "      <th>2011-09-01</th>\n",
       "      <td>24.123195</td>\n",
       "      <td>30.164449</td>\n",
       "    </tr>\n",
       "    <tr>\n",
       "      <th>2011-10-01</th>\n",
       "      <td>24.123195</td>\n",
       "      <td>30.164449</td>\n",
       "    </tr>\n",
       "    <tr>\n",
       "      <th>2011-11-01</th>\n",
       "      <td>24.123195</td>\n",
       "      <td>30.164449</td>\n",
       "    </tr>\n",
       "    <tr>\n",
       "      <th>2011-12-01</th>\n",
       "      <td>24.123195</td>\n",
       "      <td>30.164449</td>\n",
       "    </tr>\n",
       "    <tr>\n",
       "      <th>2012-01-01</th>\n",
       "      <td>24.123195</td>\n",
       "      <td>30.164449</td>\n",
       "    </tr>\n",
       "    <tr>\n",
       "      <th>2012-02-01</th>\n",
       "      <td>24.123195</td>\n",
       "      <td>30.164449</td>\n",
       "    </tr>\n",
       "    <tr>\n",
       "      <th>2012-03-01</th>\n",
       "      <td>24.123195</td>\n",
       "      <td>30.164449</td>\n",
       "    </tr>\n",
       "    <tr>\n",
       "      <th>2012-04-01</th>\n",
       "      <td>24.123195</td>\n",
       "      <td>30.164449</td>\n",
       "    </tr>\n",
       "    <tr>\n",
       "      <th>2012-05-01</th>\n",
       "      <td>24.123195</td>\n",
       "      <td>30.164449</td>\n",
       "    </tr>\n",
       "    <tr>\n",
       "      <th>2012-06-01</th>\n",
       "      <td>24.123195</td>\n",
       "      <td>30.164449</td>\n",
       "    </tr>\n",
       "    <tr>\n",
       "      <th>2012-07-01</th>\n",
       "      <td>24.123195</td>\n",
       "      <td>30.164449</td>\n",
       "    </tr>\n",
       "    <tr>\n",
       "      <th>2012-08-01</th>\n",
       "      <td>24.123195</td>\n",
       "      <td>30.164449</td>\n",
       "    </tr>\n",
       "    <tr>\n",
       "      <th>2012-09-01</th>\n",
       "      <td>24.123195</td>\n",
       "      <td>30.164449</td>\n",
       "    </tr>\n",
       "    <tr>\n",
       "      <th>2012-10-01</th>\n",
       "      <td>24.123195</td>\n",
       "      <td>30.164449</td>\n",
       "    </tr>\n",
       "    <tr>\n",
       "      <th>2012-11-01</th>\n",
       "      <td>24.123195</td>\n",
       "      <td>30.164449</td>\n",
       "    </tr>\n",
       "    <tr>\n",
       "      <th>2012-12-01</th>\n",
       "      <td>24.123195</td>\n",
       "      <td>30.164449</td>\n",
       "    </tr>\n",
       "  </tbody>\n",
       "</table>\n",
       "</div>"
      ],
      "text/plain": [
       "            lower AverageTemperature  upper AverageTemperature\n",
       "2010-01-01                 24.648117                 28.793551\n",
       "2010-02-01                 24.098539                 29.810251\n",
       "2010-03-01                 24.070681                 30.047301\n",
       "2010-04-01                 24.091659                 30.120006\n",
       "2010-05-01                 24.107475                 30.146143\n",
       "2010-06-01                 24.115836                 30.156571\n",
       "2010-07-01                 24.119835                 30.160985\n",
       "2010-08-01                 24.121678                 30.162911\n",
       "2010-09-01                 24.122513                 30.163763\n",
       "2010-10-01                 24.122889                 30.164143\n",
       "2010-11-01                 24.123058                 30.164312\n",
       "2010-12-01                 24.123134                 30.164388\n",
       "2011-01-01                 24.123168                 30.164422\n",
       "2011-02-01                 24.123183                 30.164437\n",
       "2011-03-01                 24.123190                 30.164444\n",
       "2011-04-01                 24.123193                 30.164447\n",
       "2011-05-01                 24.123194                 30.164448\n",
       "2011-06-01                 24.123195                 30.164449\n",
       "2011-07-01                 24.123195                 30.164449\n",
       "2011-08-01                 24.123195                 30.164449\n",
       "2011-09-01                 24.123195                 30.164449\n",
       "2011-10-01                 24.123195                 30.164449\n",
       "2011-11-01                 24.123195                 30.164449\n",
       "2011-12-01                 24.123195                 30.164449\n",
       "2012-01-01                 24.123195                 30.164449\n",
       "2012-02-01                 24.123195                 30.164449\n",
       "2012-03-01                 24.123195                 30.164449\n",
       "2012-04-01                 24.123195                 30.164449\n",
       "2012-05-01                 24.123195                 30.164449\n",
       "2012-06-01                 24.123195                 30.164449\n",
       "2012-07-01                 24.123195                 30.164449\n",
       "2012-08-01                 24.123195                 30.164449\n",
       "2012-09-01                 24.123195                 30.164449\n",
       "2012-10-01                 24.123195                 30.164449\n",
       "2012-11-01                 24.123195                 30.164449\n",
       "2012-12-01                 24.123195                 30.164449"
      ]
     },
     "execution_count": 74,
     "metadata": {},
     "output_type": "execute_result"
    }
   ],
   "source": [
    "pred_ci"
   ]
  },
  {
   "cell_type": "code",
   "execution_count": 79,
   "id": "73653d7d",
   "metadata": {},
   "outputs": [],
   "source": [
    "import matplotlib.pyplot as plt"
   ]
  },
  {
   "cell_type": "code",
   "execution_count": 80,
   "id": "cb710005",
   "metadata": {
    "collapsed": true
   },
   "outputs": [
    {
     "data": {
      "image/png": "[encoded data removed]",
      "text/plain": [
       "<Figure size 1080x432 with 1 Axes>"
      ]
     },
     "metadata": {
      "needs_background": "light"
     },
     "output_type": "display_data"
    }
   ],
   "source": [
    "ax1=y['2000':].plot(label='Observed')\n",
    "pred.predicted_mean.plot(ax=ax1,label=\"ARIMA Forecast\",figsize=(15,6),linestyle='dashed')\n",
    "\n",
    "pred_ci=pred.conf_int()\n",
    "ax1.fill_between(pred_ci.index,pred_ci.iloc[:,0],pred_ci.iloc[:,1],color='k',alpha=0.2)\n",
    "ax1.set_xlabel('Date')\n",
    "ax1.set_ylabel('Average Temperature')\n",
    "plt.legend(loc='upper left');"
   ]
  },
  {
   "cell_type": "code",
   "execution_count": 82,
   "id": "42608d0b",
   "metadata": {
    "collapsed": true
   },
   "outputs": [
    {
     "data": {
      "image/png": "[encoded data removed]",
      "text/plain": [
       "<Figure size 1080x432 with 1 Axes>"
      ]
     },
     "metadata": {
      "needs_background": "light"
     },
     "output_type": "display_data"
    }
   ],
   "source": [
    "pred1=result1.get_forecast(steps=36)\n",
    "ax1=y['2000':].plot(label='Observed')\n",
    "pred1.predicted_mean.plot(ax=ax1,label=\"ARIMA Forecast\",figsize=(15,6),linestyle='dashed')\n",
    "\n",
    "pred_ci1=pred1.conf_int()\n",
    "ax1.fill_between(pred_ci1.index,pred_ci1.iloc[:,0],pred_ci1.iloc[:,1],color='k',alpha=0.2)\n",
    "ax1.set_xlabel('Date')\n",
    "ax1.set_ylabel('Average Temperature')\n",
    "plt.legend(loc='upper left');"
   ]
  },
  {
   "cell_type": "code",
   "execution_count": 83,
   "id": "d503f960",
   "metadata": {},
   "outputs": [],
   "source": [
    "from statsmodels.tsa.statespace.sarimax import SARIMAX"
   ]
  },
  {
   "cell_type": "code",
   "execution_count": 85,
   "id": "2b435dd0",
   "metadata": {
    "collapsed": true
   },
   "outputs": [
    {
     "name": "stderr",
     "output_type": "stream",
     "text": [
      "C:\\ProgramData\\Anaconda3\\lib\\site-packages\\statsmodels\\tsa\\base\\tsa_model.py:471: ValueWarning: No frequency information was provided, so inferred frequency MS will be used.\n",
      "  self._init_dates(dates, freq)\n"
     ]
    },
    {
     "name": "stdout",
     "output_type": "stream",
     "text": [
      "                                      SARIMAX Results                                       \n",
      "============================================================================================\n",
      "Dep. Variable:                   AverageTemperature   No. Observations:                  480\n",
      "Model:             SARIMAX(1, 0, 0)x(1, 0, [1], 12)   Log Likelihood                -381.775\n",
      "Date:                              Thu, 07 Dec 2023   AIC                            771.550\n",
      "Time:                                      12:46:00   BIC                            788.135\n",
      "Sample:                                  01-01-1970   HQIC                           778.076\n",
      "                                       - 12-01-2009                                         \n",
      "Covariance Type:                                opg                                         \n",
      "==============================================================================\n",
      "                 coef    std err          z      P>|z|      [0.025      0.975]\n",
      "------------------------------------------------------------------------------\n",
      "ar.L1          0.3819      0.043      8.785      0.000       0.297       0.467\n",
      "ar.S.L12       1.0006      0.000   7434.253      0.000       1.000       1.001\n",
      "ma.S.L12      -0.9995      2.540     -0.393      0.694      -5.978       3.979\n",
      "sigma2         0.2727      0.691      0.395      0.693      -1.081       1.627\n",
      "===================================================================================\n",
      "Ljung-Box (L1) (Q):                   0.19   Jarque-Bera (JB):                 3.93\n",
      "Prob(Q):                              0.66   Prob(JB):                         0.14\n",
      "Heteroskedasticity (H):               0.69   Skew:                             0.13\n",
      "Prob(H) (two-sided):                  0.02   Kurtosis:                         3.36\n",
      "===================================================================================\n",
      "\n",
      "Warnings:\n",
      "[1] Covariance matrix calculated using the outer product of gradients (complex-step).\n"
     ]
    }
   ],
   "source": [
    "model3=SARIMAX(train,order=(1,0,0),seasonal_order=(1,0,1,12),enforce_invertibility=False,enforce_stationarity=False)\n",
    "result2=model3.fit()\n",
    "print(result2.summary())"
   ]
  },
  {
   "cell_type": "code",
   "execution_count": 86,
   "id": "84dcf2a6",
   "metadata": {
    "collapsed": true
   },
   "outputs": [
    {
     "data": {
      "image/png": "[encoded data removed]",
      "text/plain": [
       "<Figure size 1080x432 with 1 Axes>"
      ]
     },
     "metadata": {
      "needs_background": "light"
     },
     "output_type": "display_data"
    }
   ],
   "source": [
    "pred2=result2.get_forecast(steps=36)\n",
    "ax1=y['2000':].plot(label='Observed')\n",
    "pred2.predicted_mean.plot(ax=ax1,label=\"ARIMA Forecast\",figsize=(15,6),linestyle='dashed')\n",
    "\n",
    "pred_ci2=pred2.conf_int()\n",
    "ax1.fill_between(pred_ci2.index,pred_ci2.iloc[:,0],pred_ci2.iloc[:,1],color='k',alpha=0.2)\n",
    "ax1.set_xlabel('Date')\n",
    "ax1.set_ylabel('Average Temperature')\n",
    "plt.legend(loc='upper left');"
   ]
  },
  {
   "cell_type": "code",
   "execution_count": 91,
   "id": "333129ef",
   "metadata": {},
   "outputs": [
    {
     "name": "stderr",
     "output_type": "stream",
     "text": [
      "C:\\ProgramData\\Anaconda3\\lib\\site-packages\\statsmodels\\tsa\\statespace\\kalman_filter.py:2290: ValueWarning: Dynamic prediction specified to begin during out-of-sample forecasting period, and so has no effect.\n",
      "  warn('Dynamic prediction specified to begin during'\n"
     ]
    }
   ],
   "source": [
    "result_pred=result2.predict(start=len(train)+36,end=len(train)+72,dynamic=True)"
   ]
  },
  {
   "cell_type": "code",
   "execution_count": 92,
   "id": "c0637e6d",
   "metadata": {
    "collapsed": true
   },
   "outputs": [
    {
     "data": {
      "text/plain": [
       "2013-01-01    25.008484\n",
       "2013-02-01    24.929932\n",
       "2013-03-01    26.520455\n",
       "2013-04-01    28.146651\n",
       "2013-05-01    29.794149\n",
       "2013-06-01    28.953927\n",
       "2013-07-01    27.848052\n",
       "2013-08-01    27.419655\n",
       "2013-09-01    27.822658\n",
       "2013-10-01    28.783853\n",
       "2013-11-01    28.360176\n",
       "2013-12-01    26.580219\n",
       "2014-01-01    25.022637\n",
       "2014-02-01    24.944041\n",
       "2014-03-01    26.535464\n",
       "2014-04-01    28.162581\n",
       "2014-05-01    29.811011\n",
       "2014-06-01    28.970313\n",
       "2014-07-01    27.863812\n",
       "2014-08-01    27.435173\n",
       "2014-09-01    27.838404\n",
       "2014-10-01    28.800144\n",
       "2014-11-01    28.376226\n",
       "2014-12-01    26.595262\n",
       "2015-01-01    25.036799\n",
       "2015-02-01    24.958158\n",
       "2015-03-01    26.550481\n",
       "2015-04-01    28.178519\n",
       "2015-05-01    29.827882\n",
       "2015-06-01    28.986709\n",
       "2015-07-01    27.879582\n",
       "2015-08-01    27.450700\n",
       "2015-09-01    27.854159\n",
       "2015-10-01    28.816443\n",
       "2015-11-01    28.392285\n",
       "2015-12-01    26.610313\n",
       "2016-01-01    25.050968\n",
       "Freq: MS, Name: predicted_mean, dtype: float64"
      ]
     },
     "execution_count": 92,
     "metadata": {},
     "output_type": "execute_result"
    }
   ],
   "source": [
    "result_pred"
   ]
  },
  {
   "cell_type": "code",
   "execution_count": 94,
   "id": "5612aa74",
   "metadata": {},
   "outputs": [],
   "source": [
    "df1=df.copy()"
   ]
  },
  {
   "cell_type": "code",
   "execution_count": 95,
   "id": "c68b5227",
   "metadata": {},
   "outputs": [],
   "source": [
    "df1['pred']=result_pred"
   ]
  },
  {
   "cell_type": "code",
   "execution_count": 98,
   "id": "5ddcb1e3",
   "metadata": {},
   "outputs": [],
   "source": [
    "df1.drop(columns='pred',inplace=True)"
   ]
  },
  {
   "cell_type": "code",
   "execution_count": 100,
   "id": "4ec0481c",
   "metadata": {},
   "outputs": [],
   "source": [
    "df2=pd.DataFrame(result_pred)"
   ]
  },
  {
   "cell_type": "code",
   "execution_count": 107,
   "id": "982bcebe",
   "metadata": {},
   "outputs": [],
   "source": [
    "df2.index.names=['dt']"
   ]
  },
  {
   "cell_type": "code",
   "execution_count": 110,
   "id": "b9992db8",
   "metadata": {},
   "outputs": [],
   "source": [
    "df_final=pd.concat([df1,df2],join='outer')"
   ]
  },
  {
   "cell_type": "code",
   "execution_count": 114,
   "id": "12726d07",
   "metadata": {
    "collapsed": true
   },
   "outputs": [
    {
     "data": {
      "text/html": [
       "<div>\n",
       "<style scoped>\n",
       "    .dataframe tbody tr th:only-of-type {\n",
       "        vertical-align: middle;\n",
       "    }\n",
       "\n",
       "    .dataframe tbody tr th {\n",
       "        vertical-align: top;\n",
       "    }\n",
       "\n",
       "    .dataframe thead th {\n",
       "        text-align: right;\n",
       "    }\n",
       "</style>\n",
       "<table border=\"1\" class=\"dataframe\">\n",
       "  <thead>\n",
       "    <tr style=\"text-align: right;\">\n",
       "      <th></th>\n",
       "      <th>AverageTemperature</th>\n",
       "      <th>predicted_mean</th>\n",
       "    </tr>\n",
       "    <tr>\n",
       "      <th>dt</th>\n",
       "      <th></th>\n",
       "      <th></th>\n",
       "    </tr>\n",
       "  </thead>\n",
       "  <tbody>\n",
       "    <tr>\n",
       "      <th>1970-01-01</th>\n",
       "      <td>24.599</td>\n",
       "      <td>NaN</td>\n",
       "    </tr>\n",
       "    <tr>\n",
       "      <th>1970-02-01</th>\n",
       "      <td>24.568</td>\n",
       "      <td>NaN</td>\n",
       "    </tr>\n",
       "    <tr>\n",
       "      <th>1970-03-01</th>\n",
       "      <td>25.658</td>\n",
       "      <td>NaN</td>\n",
       "    </tr>\n",
       "    <tr>\n",
       "      <th>1970-04-01</th>\n",
       "      <td>27.835</td>\n",
       "      <td>NaN</td>\n",
       "    </tr>\n",
       "    <tr>\n",
       "      <th>1970-05-01</th>\n",
       "      <td>29.348</td>\n",
       "      <td>NaN</td>\n",
       "    </tr>\n",
       "    <tr>\n",
       "      <th>...</th>\n",
       "      <td>...</td>\n",
       "      <td>...</td>\n",
       "    </tr>\n",
       "    <tr>\n",
       "      <th>2015-09-01</th>\n",
       "      <td>NaN</td>\n",
       "      <td>27.854159</td>\n",
       "    </tr>\n",
       "    <tr>\n",
       "      <th>2015-10-01</th>\n",
       "      <td>NaN</td>\n",
       "      <td>28.816443</td>\n",
       "    </tr>\n",
       "    <tr>\n",
       "      <th>2015-11-01</th>\n",
       "      <td>NaN</td>\n",
       "      <td>28.392285</td>\n",
       "    </tr>\n",
       "    <tr>\n",
       "      <th>2015-12-01</th>\n",
       "      <td>NaN</td>\n",
       "      <td>26.610313</td>\n",
       "    </tr>\n",
       "    <tr>\n",
       "      <th>2016-01-01</th>\n",
       "      <td>NaN</td>\n",
       "      <td>25.050968</td>\n",
       "    </tr>\n",
       "  </tbody>\n",
       "</table>\n",
       "<p>553 rows × 2 columns</p>\n",
       "</div>"
      ],
      "text/plain": [
       "            AverageTemperature  predicted_mean\n",
       "dt                                            \n",
       "1970-01-01              24.599             NaN\n",
       "1970-02-01              24.568             NaN\n",
       "1970-03-01              25.658             NaN\n",
       "1970-04-01              27.835             NaN\n",
       "1970-05-01              29.348             NaN\n",
       "...                        ...             ...\n",
       "2015-09-01                 NaN       27.854159\n",
       "2015-10-01                 NaN       28.816443\n",
       "2015-11-01                 NaN       28.392285\n",
       "2015-12-01                 NaN       26.610313\n",
       "2016-01-01                 NaN       25.050968\n",
       "\n",
       "[553 rows x 2 columns]"
      ]
     },
     "execution_count": 114,
     "metadata": {},
     "output_type": "execute_result"
    }
   ],
   "source": [
    "df_final"
   ]
  },
  {
   "cell_type": "code",
   "execution_count": 113,
   "id": "71fec09b",
   "metadata": {
    "collapsed": true
   },
   "outputs": [
    {
     "data": {
      "text/plain": [
       "<AxesSubplot:xlabel='dt'>"
      ]
     },
     "execution_count": 113,
     "metadata": {},
     "output_type": "execute_result"
    },
    {
     "data": {
      "image/png": "[encoded data removed]",
      "text/plain": [
       "<Figure size 432x288 with 1 Axes>"
      ]
     },
     "metadata": {
      "needs_background": "light"
     },
     "output_type": "display_data"
    }
   ],
   "source": [
    "df_final['2010':].plot()"
   ]
  },
  {
   "cell_type": "code",
   "execution_count": null,
   "id": "4e3a6234",
   "metadata": {},
   "outputs": [],
   "source": []
  }
 ],
 "metadata": {
  "kernelspec": {
   "display_name": "Python 3 (ipykernel)",
   "language": "python",
   "name": "python3"
  },
  "language_info": {
   "codemirror_mode": {
    "name": "ipython",
    "version": 3
   },
   "file_extension": ".py",
   "mimetype": "text/x-python",
   "name": "python",
   "nbconvert_exporter": "python",
   "pygments_lexer": "ipython3",
   "version": "3.9.12"
  }
 },
 "nbformat": 4,
 "nbformat_minor": 5
}
