{
 "cells": [
  {
   "cell_type": "markdown",
   "id": "1bb9a51b",
   "metadata": {
    "papermill": {
     "duration": 0.044652,
     "end_time": "2021-10-18T14:51:29.532867",
     "exception": false,
     "start_time": "2021-10-18T14:51:29.488215",
     "status": "completed"
    },
    "tags": []
   },
   "source": [
    "# Problem \n",
    "Loan Prediction Problem\n",
    "\n",
    "Classification Problem, here I try to predict whether loan should be approved or not"
   ]
  },
  {
   "cell_type": "markdown",
   "id": "dd7d9d8d",
   "metadata": {
    "papermill": {
     "duration": 0.042208,
     "end_time": "2021-10-18T14:51:29.617834",
     "exception": false,
     "start_time": "2021-10-18T14:51:29.575626",
     "status": "completed"
    },
    "tags": []
   },
   "source": [
    "# Trying to show application of Neural Network on this dataset\n",
    "* `Applying a Sequential NN using Keras`\n",
    "* `Evaluate model performance`"
   ]
  },
  {
   "cell_type": "markdown",
   "id": "62679726",
   "metadata": {
    "papermill": {
     "duration": 0.047236,
     "end_time": "2021-10-18T14:51:29.707735",
     "exception": false,
     "start_time": "2021-10-18T14:51:29.660499",
     "status": "completed"
    },
    "tags": []
   },
   "source": [
    "# Approaching Problem steps:\n",
    "1. Will Pre-process the data: impute the missing values, normalize the variables... \n",
    "2. Will Define the architecture of your model \n",
    "3. Since it is a regression problem, will make sure to use the 'linear' activation function in the output layer \n",
    "4. Train model \n",
    "5. Will perform the same pre-processing steps on test set as, did for the training set \n",
    "6. Generate predictions for the test set using the trained model \n",
    "7. Save the predictions in a csv file (to check the format, refer to the sample submission file provided on the problem page) \n",
    "8. Submit predictions on the problem page and check your rank on the leaderboard if any\n"
   ]
  },
  {
   "cell_type": "code",
   "execution_count": 1,
   "id": "8a57ed71",
   "metadata": {
    "_cell_guid": "b1076dfc-b9ad-4769-8c92-a6c4dae69d19",
    "_uuid": "8f2839f25d086af736a60e9eeb907d3b93b6e0e5",
    "execution": {
     "iopub.execute_input": "2021-10-18T14:51:29.827865Z",
     "iopub.status.busy": "2021-10-18T14:51:29.827196Z",
     "iopub.status.idle": "2021-10-18T14:51:29.842381Z",
     "shell.execute_reply": "2021-10-18T14:51:29.841678Z",
     "shell.execute_reply.started": "2021-10-18T13:51:15.415526Z"
    },
    "papermill": {
     "duration": 0.080801,
     "end_time": "2021-10-18T14:51:29.842578",
     "exception": false,
     "start_time": "2021-10-18T14:51:29.761777",
     "status": "completed"
    },
    "tags": []
   },
   "outputs": [],
   "source": [
    "import numpy as np \n",
    "import pandas as pd"
   ]
  },
  {
   "cell_type": "code",
   "execution_count": 2,
   "id": "91ef513b",
   "metadata": {
    "execution": {
     "iopub.execute_input": "2021-10-18T14:51:29.937277Z",
     "iopub.status.busy": "2021-10-18T14:51:29.936620Z",
     "iopub.status.idle": "2021-10-18T14:51:29.953405Z",
     "shell.execute_reply": "2021-10-18T14:51:29.953963Z",
     "shell.execute_reply.started": "2021-10-18T14:38:32.310527Z"
    },
    "papermill": {
     "duration": 0.066673,
     "end_time": "2021-10-18T14:51:29.954140",
     "exception": false,
     "start_time": "2021-10-18T14:51:29.887467",
     "status": "completed"
    },
    "tags": []
   },
   "outputs": [],
   "source": [
    "train_df = pd.read_csv('train.csv')\n",
    "test_df=pd.read_csv('test.csv')"
   ]
  },
  {
   "cell_type": "code",
   "execution_count": 3,
   "id": "5e5eea24",
   "metadata": {
    "collapsed": true,
    "execution": {
     "iopub.execute_input": "2021-10-18T14:51:30.049605Z",
     "iopub.status.busy": "2021-10-18T14:51:30.048894Z",
     "iopub.status.idle": "2021-10-18T14:51:30.071650Z",
     "shell.execute_reply": "2021-10-18T14:51:30.071096Z",
     "shell.execute_reply.started": "2021-10-18T14:38:34.149592Z"
    },
    "papermill": {
     "duration": 0.07433,
     "end_time": "2021-10-18T14:51:30.071810",
     "exception": false,
     "start_time": "2021-10-18T14:51:29.997480",
     "status": "completed"
    },
    "tags": []
   },
   "outputs": [
    {
     "data": {
      "text/html": [
       "<div>\n",
       "<style scoped>\n",
       "    .dataframe tbody tr th:only-of-type {\n",
       "        vertical-align: middle;\n",
       "    }\n",
       "\n",
       "    .dataframe tbody tr th {\n",
       "        vertical-align: top;\n",
       "    }\n",
       "\n",
       "    .dataframe thead th {\n",
       "        text-align: right;\n",
       "    }\n",
       "</style>\n",
       "<table border=\"1\" class=\"dataframe\">\n",
       "  <thead>\n",
       "    <tr style=\"text-align: right;\">\n",
       "      <th></th>\n",
       "      <th>Loan_ID</th>\n",
       "      <th>Gender</th>\n",
       "      <th>Married</th>\n",
       "      <th>Dependents</th>\n",
       "      <th>Education</th>\n",
       "      <th>Self_Employed</th>\n",
       "      <th>ApplicantIncome</th>\n",
       "      <th>CoapplicantIncome</th>\n",
       "      <th>LoanAmount</th>\n",
       "      <th>Loan_Amount_Term</th>\n",
       "      <th>Credit_History</th>\n",
       "      <th>Property_Area</th>\n",
       "      <th>Loan_Status</th>\n",
       "    </tr>\n",
       "  </thead>\n",
       "  <tbody>\n",
       "    <tr>\n",
       "      <th>0</th>\n",
       "      <td>LP001002</td>\n",
       "      <td>Male</td>\n",
       "      <td>No</td>\n",
       "      <td>0</td>\n",
       "      <td>Graduate</td>\n",
       "      <td>No</td>\n",
       "      <td>5849</td>\n",
       "      <td>0.0</td>\n",
       "      <td>NaN</td>\n",
       "      <td>360.0</td>\n",
       "      <td>1.0</td>\n",
       "      <td>Urban</td>\n",
       "      <td>Y</td>\n",
       "    </tr>\n",
       "    <tr>\n",
       "      <th>1</th>\n",
       "      <td>LP001003</td>\n",
       "      <td>Male</td>\n",
       "      <td>Yes</td>\n",
       "      <td>1</td>\n",
       "      <td>Graduate</td>\n",
       "      <td>No</td>\n",
       "      <td>4583</td>\n",
       "      <td>1508.0</td>\n",
       "      <td>128.0</td>\n",
       "      <td>360.0</td>\n",
       "      <td>1.0</td>\n",
       "      <td>Rural</td>\n",
       "      <td>N</td>\n",
       "    </tr>\n",
       "    <tr>\n",
       "      <th>2</th>\n",
       "      <td>LP001005</td>\n",
       "      <td>Male</td>\n",
       "      <td>Yes</td>\n",
       "      <td>0</td>\n",
       "      <td>Graduate</td>\n",
       "      <td>Yes</td>\n",
       "      <td>3000</td>\n",
       "      <td>0.0</td>\n",
       "      <td>66.0</td>\n",
       "      <td>360.0</td>\n",
       "      <td>1.0</td>\n",
       "      <td>Urban</td>\n",
       "      <td>Y</td>\n",
       "    </tr>\n",
       "    <tr>\n",
       "      <th>3</th>\n",
       "      <td>LP001006</td>\n",
       "      <td>Male</td>\n",
       "      <td>Yes</td>\n",
       "      <td>0</td>\n",
       "      <td>Not Graduate</td>\n",
       "      <td>No</td>\n",
       "      <td>2583</td>\n",
       "      <td>2358.0</td>\n",
       "      <td>120.0</td>\n",
       "      <td>360.0</td>\n",
       "      <td>1.0</td>\n",
       "      <td>Urban</td>\n",
       "      <td>Y</td>\n",
       "    </tr>\n",
       "    <tr>\n",
       "      <th>4</th>\n",
       "      <td>LP001008</td>\n",
       "      <td>Male</td>\n",
       "      <td>No</td>\n",
       "      <td>0</td>\n",
       "      <td>Graduate</td>\n",
       "      <td>No</td>\n",
       "      <td>6000</td>\n",
       "      <td>0.0</td>\n",
       "      <td>141.0</td>\n",
       "      <td>360.0</td>\n",
       "      <td>1.0</td>\n",
       "      <td>Urban</td>\n",
       "      <td>Y</td>\n",
       "    </tr>\n",
       "  </tbody>\n",
       "</table>\n",
       "</div>"
      ],
      "text/plain": [
       "    Loan_ID Gender Married Dependents     Education Self_Employed  \\\n",
       "0  LP001002   Male      No          0      Graduate            No   \n",
       "1  LP001003   Male     Yes          1      Graduate            No   \n",
       "2  LP001005   Male     Yes          0      Graduate           Yes   \n",
       "3  LP001006   Male     Yes          0  Not Graduate            No   \n",
       "4  LP001008   Male      No          0      Graduate            No   \n",
       "\n",
       "   ApplicantIncome  CoapplicantIncome  LoanAmount  Loan_Amount_Term  \\\n",
       "0             5849                0.0         NaN             360.0   \n",
       "1             4583             1508.0       128.0             360.0   \n",
       "2             3000                0.0        66.0             360.0   \n",
       "3             2583             2358.0       120.0             360.0   \n",
       "4             6000                0.0       141.0             360.0   \n",
       "\n",
       "   Credit_History Property_Area Loan_Status  \n",
       "0             1.0         Urban           Y  \n",
       "1             1.0         Rural           N  \n",
       "2             1.0         Urban           Y  \n",
       "3             1.0         Urban           Y  \n",
       "4             1.0         Urban           Y  "
      ]
     },
     "execution_count": 3,
     "metadata": {},
     "output_type": "execute_result"
    }
   ],
   "source": [
    "train_df.head()"
   ]
  },
  {
   "cell_type": "code",
   "execution_count": 4,
   "id": "591f60e6",
   "metadata": {
    "collapsed": true,
    "execution": {
     "iopub.execute_input": "2021-10-18T14:51:30.169627Z",
     "iopub.status.busy": "2021-10-18T14:51:30.168915Z",
     "iopub.status.idle": "2021-10-18T14:51:30.172512Z",
     "shell.execute_reply": "2021-10-18T14:51:30.172994Z",
     "shell.execute_reply.started": "2021-10-18T13:51:15.472710Z"
    },
    "papermill": {
     "duration": 0.056337,
     "end_time": "2021-10-18T14:51:30.173178",
     "exception": false,
     "start_time": "2021-10-18T14:51:30.116841",
     "status": "completed"
    },
    "tags": []
   },
   "outputs": [
    {
     "data": {
      "text/plain": [
       "Loan_ID               0\n",
       "Gender               13\n",
       "Married               3\n",
       "Dependents           15\n",
       "Education             0\n",
       "Self_Employed        32\n",
       "ApplicantIncome       0\n",
       "CoapplicantIncome     0\n",
       "LoanAmount           22\n",
       "Loan_Amount_Term     14\n",
       "Credit_History       50\n",
       "Property_Area         0\n",
       "Loan_Status           0\n",
       "dtype: int64"
      ]
     },
     "execution_count": 4,
     "metadata": {},
     "output_type": "execute_result"
    }
   ],
   "source": [
    "train_df.isnull().sum()"
   ]
  },
  {
   "cell_type": "code",
   "execution_count": 5,
   "id": "cac4a147",
   "metadata": {},
   "outputs": [],
   "source": [
    "# ! pip install pandas-profiling"
   ]
  },
  {
   "cell_type": "code",
   "execution_count": 6,
   "id": "6af3c1f3",
   "metadata": {
    "execution": {
     "iopub.execute_input": "2021-10-18T14:51:30.327567Z",
     "iopub.status.busy": "2021-10-18T14:51:30.326627Z",
     "iopub.status.idle": "2021-10-18T14:51:51.134697Z",
     "shell.execute_reply": "2021-10-18T14:51:51.134139Z",
     "shell.execute_reply.started": "2021-10-18T13:51:15.488954Z"
    },
    "papermill": {
     "duration": 20.856616,
     "end_time": "2021-10-18T14:51:51.134843",
     "exception": false,
     "start_time": "2021-10-18T14:51:30.278227",
     "status": "completed"
    },
    "tags": []
   },
   "outputs": [],
   "source": [
    "# import pandas_profiling\n",
    "\n",
    "# train_report = pandas_profiling.ProfileReport(train_df)\n",
    "# train_report"
   ]
  },
  {
   "cell_type": "markdown",
   "id": "c912add4",
   "metadata": {
    "papermill": {
     "duration": null,
     "end_time": null,
     "exception": null,
     "start_time": null,
     "status": "pending"
    },
    "tags": []
   },
   "source": [
    "# 1.Pre-Processing\n",
    "* `Missing Value Treatment`:\n",
    "    * if Categorical Variables\n",
    "        * fill By Mode\n",
    "    * if Numerical Variables \n",
    "        * fill By Mean/Median\n",
    "        \n",
    "        \n",
    "* `Convert Categories to Number`:\n",
    "    * OneHot Encoding\n",
    "    * Label Encoding\n",
    "\n",
    "\n",
    "* `Scaling(bring all var to same scale [generally b/w 0 to 1])`:\n",
    "    * Min-Max Scaler\n",
    "        * Helps in reducing time complexity\n",
    "        * NN converges fast\n"
   ]
  },
  {
   "cell_type": "markdown",
   "id": "c11716e7",
   "metadata": {
    "papermill": {
     "duration": null,
     "end_time": null,
     "exception": null,
     "start_time": null,
     "status": "pending"
    },
    "tags": []
   },
   "source": [
    "# 1.1.Missing Value Treatment"
   ]
  },
  {
   "cell_type": "code",
   "execution_count": 7,
   "id": "649527c9",
   "metadata": {},
   "outputs": [
    {
     "data": {
      "text/plain": [
       "'Male'"
      ]
     },
     "execution_count": 7,
     "metadata": {},
     "output_type": "execute_result"
    }
   ],
   "source": [
    "train_df['Gender'].mode()[0]"
   ]
  },
  {
   "cell_type": "code",
   "execution_count": 8,
   "id": "465c1c29",
   "metadata": {
    "execution": {
     "iopub.execute_input": "2021-10-18T13:51:30.590763Z",
     "iopub.status.busy": "2021-10-18T13:51:30.590520Z",
     "iopub.status.idle": "2021-10-18T13:51:30.603356Z",
     "shell.execute_reply": "2021-10-18T13:51:30.602782Z",
     "shell.execute_reply.started": "2021-10-18T13:51:30.590734Z"
    },
    "papermill": {
     "duration": null,
     "end_time": null,
     "exception": null,
     "start_time": null,
     "status": "pending"
    },
    "tags": []
   },
   "outputs": [],
   "source": [
    "# For All Categorical Data\n",
    "\n",
    "train_df['Gender'].fillna(train_df['Gender'].mode()[0], inplace=True)\n",
    "\n",
    "train_df['Married'].fillna(train_df['Married'].mode()[0], inplace=True)\n",
    "\n",
    "train_df['Dependents'].fillna(train_df['Dependents'].mode()[0], inplace=True)\n",
    "\n",
    "train_df['Self_Employed'].fillna(train_df['Self_Employed'].mode()[0], inplace=True)\n",
    "\n",
    "train_df['Loan_Amount_Term'].fillna(train_df['Loan_Amount_Term'].mode()[0], inplace=True)\n",
    "\n",
    "train_df['Credit_History'].fillna(train_df['Credit_History'].mode()[0], inplace=True)"
   ]
  },
  {
   "cell_type": "code",
   "execution_count": 9,
   "id": "78f5bb19",
   "metadata": {},
   "outputs": [],
   "source": [
    "# For All Categorical  Test Data\n",
    "\n",
    "test_df['Gender'].fillna(test_df['Gender'].mode()[0], inplace=True)\n",
    "\n",
    "test_df['Married'].fillna(test_df['Married'].mode()[0], inplace=True)\n",
    "\n",
    "test_df['Dependents'].fillna(test_df['Dependents'].mode()[0], inplace=True)\n",
    "\n",
    "test_df['Self_Employed'].fillna(test_df['Self_Employed'].mode()[0], inplace=True)\n",
    "\n",
    "test_df['Loan_Amount_Term'].fillna(test_df['Loan_Amount_Term'].mode()[0], inplace=True)\n",
    "\n",
    "test_df['Credit_History'].fillna(test_df['Credit_History'].mode()[0], inplace=True)"
   ]
  },
  {
   "cell_type": "code",
   "execution_count": 10,
   "id": "61f683b7",
   "metadata": {
    "execution": {
     "iopub.execute_input": "2021-10-18T13:51:30.605128Z",
     "iopub.status.busy": "2021-10-18T13:51:30.604701Z",
     "iopub.status.idle": "2021-10-18T13:51:30.617682Z",
     "shell.execute_reply": "2021-10-18T13:51:30.617021Z",
     "shell.execute_reply.started": "2021-10-18T13:51:30.605087Z"
    },
    "papermill": {
     "duration": null,
     "end_time": null,
     "exception": null,
     "start_time": null,
     "status": "pending"
    },
    "tags": []
   },
   "outputs": [],
   "source": [
    "# For Continious data\n",
    "train_df['LoanAmount'].fillna(train_df['LoanAmount'].mean(), inplace=True)"
   ]
  },
  {
   "cell_type": "code",
   "execution_count": 11,
   "id": "9f9a4bf6",
   "metadata": {},
   "outputs": [],
   "source": [
    "# For Continious Test data\n",
    "test_df['LoanAmount'].fillna(test_df['LoanAmount'].mean(), inplace=True)"
   ]
  },
  {
   "cell_type": "code",
   "execution_count": 12,
   "id": "fc7e7f47",
   "metadata": {
    "collapsed": true,
    "execution": {
     "iopub.execute_input": "2021-10-18T13:51:30.619750Z",
     "iopub.status.busy": "2021-10-18T13:51:30.619490Z",
     "iopub.status.idle": "2021-10-18T13:51:30.638951Z",
     "shell.execute_reply": "2021-10-18T13:51:30.638300Z",
     "shell.execute_reply.started": "2021-10-18T13:51:30.619721Z"
    },
    "papermill": {
     "duration": null,
     "end_time": null,
     "exception": null,
     "start_time": null,
     "status": "pending"
    },
    "tags": []
   },
   "outputs": [
    {
     "data": {
      "text/plain": [
       "Loan_ID              0\n",
       "Gender               0\n",
       "Married              0\n",
       "Dependents           0\n",
       "Education            0\n",
       "Self_Employed        0\n",
       "ApplicantIncome      0\n",
       "CoapplicantIncome    0\n",
       "LoanAmount           0\n",
       "Loan_Amount_Term     0\n",
       "Credit_History       0\n",
       "Property_Area        0\n",
       "Loan_Status          0\n",
       "dtype: int64"
      ]
     },
     "execution_count": 12,
     "metadata": {},
     "output_type": "execute_result"
    }
   ],
   "source": [
    "train_df.isnull().sum()"
   ]
  },
  {
   "cell_type": "markdown",
   "id": "1e169400",
   "metadata": {
    "papermill": {
     "duration": null,
     "end_time": null,
     "exception": null,
     "start_time": null,
     "status": "pending"
    },
    "tags": []
   },
   "source": [
    "# 1.2.Converting Categories to Numbers"
   ]
  },
  {
   "cell_type": "code",
   "execution_count": 13,
   "id": "0029b4d7",
   "metadata": {
    "execution": {
     "iopub.execute_input": "2021-10-18T13:51:30.640573Z",
     "iopub.status.busy": "2021-10-18T13:51:30.640007Z",
     "iopub.status.idle": "2021-10-18T13:51:30.659946Z",
     "shell.execute_reply": "2021-10-18T13:51:30.659202Z",
     "shell.execute_reply.started": "2021-10-18T13:51:30.640536Z"
    },
    "papermill": {
     "duration": null,
     "end_time": null,
     "exception": null,
     "start_time": null,
     "status": "pending"
    },
    "tags": []
   },
   "outputs": [],
   "source": [
    "train_df['Gender'] = train_df['Gender'].map({'Male': 0, 'Female': 1})\n",
    "train_df['Married'] = train_df['Married'].map({'No': 0, 'Yes': 1})\n",
    "train_df['Dependents'] = train_df['Dependents'].map({'0': 0, '1': 1, '2': 2, '3+': 3})\n",
    "train_df['Education'] = train_df['Education'].map({'Graduate': 1, 'Not Graduate': 0})\n",
    "train_df['Self_Employed'] = train_df['Self_Employed'].map({'No': 0, 'Yes': 1})\n",
    "train_df['Property_Area'] = train_df['Property_Area'].map({'Rural': 0, 'Semiurban': 1, 'Urban': 2})\n",
    "train_df['Loan_Status'] = train_df['Loan_Status'].map({'N': 0, 'Y': 1})"
   ]
  },
  {
   "cell_type": "code",
   "execution_count": 14,
   "id": "f17872d2",
   "metadata": {},
   "outputs": [],
   "source": [
    "test_df['Gender'] = test_df['Gender'].map({'Male': 0, 'Female': 1})\n",
    "test_df['Married'] = test_df['Married'].map({'No': 0, 'Yes': 1})\n",
    "test_df['Dependents'] = test_df['Dependents'].map({'0': 0, '1': 1, '2': 2, '3+': 3})\n",
    "test_df['Education'] = test_df['Education'].map({'Graduate': 1, 'Not Graduate': 0})\n",
    "test_df['Self_Employed'] = test_df['Self_Employed'].map({'No': 0, 'Yes': 1})\n",
    "test_df['Property_Area'] = test_df['Property_Area'].map({'Rural': 0, 'Semiurban': 1, 'Urban': 2})\n",
    "# test_df['Loan_Status'] = test_df['Loan_Status'].map({'N': 0, 'Y': 1})"
   ]
  },
  {
   "cell_type": "markdown",
   "id": "b3089990",
   "metadata": {
    "papermill": {
     "duration": null,
     "end_time": null,
     "exception": null,
     "start_time": null,
     "status": "pending"
    },
    "tags": []
   },
   "source": [
    "# 1.3.Scaling"
   ]
  },
  {
   "attachments": {
    "9e630c23-ecf2-47b9-9dbc-7dda9699c40d.png": {
     "image/png": "[encoded data removed]"
    }
   },
   "cell_type": "markdown",
   "id": "1562a253",
   "metadata": {
    "papermill": {
     "duration": null,
     "end_time": null,
     "exception": null,
     "start_time": null,
     "status": "pending"
    },
    "tags": []
   },
   "source": [
    "![image.png](attachment:9e630c23-ecf2-47b9-9dbc-7dda9699c40d.png)"
   ]
  },
  {
   "cell_type": "code",
   "execution_count": 15,
   "id": "6cd0f4e9",
   "metadata": {
    "execution": {
     "iopub.execute_input": "2021-10-18T13:51:30.662247Z",
     "iopub.status.busy": "2021-10-18T13:51:30.661030Z",
     "iopub.status.idle": "2021-10-18T13:51:30.680564Z",
     "shell.execute_reply": "2021-10-18T13:51:30.679531Z",
     "shell.execute_reply.started": "2021-10-18T13:51:30.662168Z"
    },
    "papermill": {
     "duration": null,
     "end_time": null,
     "exception": null,
     "start_time": null,
     "status": "pending"
    },
    "tags": []
   },
   "outputs": [
    {
     "data": {
      "text/plain": [
       "0    0\n",
       "1    1\n",
       "2    0\n",
       "3    0\n",
       "4    0\n",
       "Name: Dependents, dtype: int64"
      ]
     },
     "execution_count": 15,
     "metadata": {},
     "output_type": "execute_result"
    }
   ],
   "source": [
    "# Not scaled single column\n",
    "train_df.Dependents.head()"
   ]
  },
  {
   "cell_type": "code",
   "execution_count": 16,
   "id": "9c689915",
   "metadata": {
    "scrolled": true
   },
   "outputs": [
    {
     "data": {
      "text/html": [
       "<div>\n",
       "<style scoped>\n",
       "    .dataframe tbody tr th:only-of-type {\n",
       "        vertical-align: middle;\n",
       "    }\n",
       "\n",
       "    .dataframe tbody tr th {\n",
       "        vertical-align: top;\n",
       "    }\n",
       "\n",
       "    .dataframe thead th {\n",
       "        text-align: right;\n",
       "    }\n",
       "</style>\n",
       "<table border=\"1\" class=\"dataframe\">\n",
       "  <thead>\n",
       "    <tr style=\"text-align: right;\">\n",
       "      <th></th>\n",
       "      <th>Loan_ID</th>\n",
       "      <th>Gender</th>\n",
       "      <th>Married</th>\n",
       "      <th>Dependents</th>\n",
       "      <th>Education</th>\n",
       "      <th>Self_Employed</th>\n",
       "      <th>ApplicantIncome</th>\n",
       "      <th>CoapplicantIncome</th>\n",
       "      <th>LoanAmount</th>\n",
       "      <th>Loan_Amount_Term</th>\n",
       "      <th>Credit_History</th>\n",
       "      <th>Property_Area</th>\n",
       "      <th>Loan_Status</th>\n",
       "    </tr>\n",
       "  </thead>\n",
       "  <tbody>\n",
       "    <tr>\n",
       "      <th>0</th>\n",
       "      <td>LP001002</td>\n",
       "      <td>0</td>\n",
       "      <td>0</td>\n",
       "      <td>0</td>\n",
       "      <td>1</td>\n",
       "      <td>0</td>\n",
       "      <td>5849</td>\n",
       "      <td>0.0</td>\n",
       "      <td>146.412162</td>\n",
       "      <td>360.0</td>\n",
       "      <td>1.0</td>\n",
       "      <td>2</td>\n",
       "      <td>1</td>\n",
       "    </tr>\n",
       "    <tr>\n",
       "      <th>1</th>\n",
       "      <td>LP001003</td>\n",
       "      <td>0</td>\n",
       "      <td>1</td>\n",
       "      <td>1</td>\n",
       "      <td>1</td>\n",
       "      <td>0</td>\n",
       "      <td>4583</td>\n",
       "      <td>1508.0</td>\n",
       "      <td>128.000000</td>\n",
       "      <td>360.0</td>\n",
       "      <td>1.0</td>\n",
       "      <td>0</td>\n",
       "      <td>0</td>\n",
       "    </tr>\n",
       "    <tr>\n",
       "      <th>2</th>\n",
       "      <td>LP001005</td>\n",
       "      <td>0</td>\n",
       "      <td>1</td>\n",
       "      <td>0</td>\n",
       "      <td>1</td>\n",
       "      <td>1</td>\n",
       "      <td>3000</td>\n",
       "      <td>0.0</td>\n",
       "      <td>66.000000</td>\n",
       "      <td>360.0</td>\n",
       "      <td>1.0</td>\n",
       "      <td>2</td>\n",
       "      <td>1</td>\n",
       "    </tr>\n",
       "    <tr>\n",
       "      <th>3</th>\n",
       "      <td>LP001006</td>\n",
       "      <td>0</td>\n",
       "      <td>1</td>\n",
       "      <td>0</td>\n",
       "      <td>0</td>\n",
       "      <td>0</td>\n",
       "      <td>2583</td>\n",
       "      <td>2358.0</td>\n",
       "      <td>120.000000</td>\n",
       "      <td>360.0</td>\n",
       "      <td>1.0</td>\n",
       "      <td>2</td>\n",
       "      <td>1</td>\n",
       "    </tr>\n",
       "    <tr>\n",
       "      <th>4</th>\n",
       "      <td>LP001008</td>\n",
       "      <td>0</td>\n",
       "      <td>0</td>\n",
       "      <td>0</td>\n",
       "      <td>1</td>\n",
       "      <td>0</td>\n",
       "      <td>6000</td>\n",
       "      <td>0.0</td>\n",
       "      <td>141.000000</td>\n",
       "      <td>360.0</td>\n",
       "      <td>1.0</td>\n",
       "      <td>2</td>\n",
       "      <td>1</td>\n",
       "    </tr>\n",
       "  </tbody>\n",
       "</table>\n",
       "</div>"
      ],
      "text/plain": [
       "    Loan_ID  Gender  Married  Dependents  Education  Self_Employed  \\\n",
       "0  LP001002       0        0           0          1              0   \n",
       "1  LP001003       0        1           1          1              0   \n",
       "2  LP001005       0        1           0          1              1   \n",
       "3  LP001006       0        1           0          0              0   \n",
       "4  LP001008       0        0           0          1              0   \n",
       "\n",
       "   ApplicantIncome  CoapplicantIncome  LoanAmount  Loan_Amount_Term  \\\n",
       "0             5849                0.0  146.412162             360.0   \n",
       "1             4583             1508.0  128.000000             360.0   \n",
       "2             3000                0.0   66.000000             360.0   \n",
       "3             2583             2358.0  120.000000             360.0   \n",
       "4             6000                0.0  141.000000             360.0   \n",
       "\n",
       "   Credit_History  Property_Area  Loan_Status  \n",
       "0             1.0              2            1  \n",
       "1             1.0              0            0  \n",
       "2             1.0              2            1  \n",
       "3             1.0              2            1  \n",
       "4             1.0              2            1  "
      ]
     },
     "execution_count": 16,
     "metadata": {},
     "output_type": "execute_result"
    }
   ],
   "source": [
    "train_df.head()"
   ]
  },
  {
   "cell_type": "code",
   "execution_count": 17,
   "id": "26bb2350",
   "metadata": {},
   "outputs": [],
   "source": [
    "# from sklearn.preprocessing import StandardScaler\n",
    "# sc = StandardScaler()\n",
    "\n",
    "# X_train = sc.fit_transform(X_train)\n",
    "# X_test = sc.transform(test)"
   ]
  },
  {
   "cell_type": "code",
   "execution_count": 18,
   "id": "e650a60a",
   "metadata": {
    "execution": {
     "iopub.execute_input": "2021-10-18T13:51:30.716835Z",
     "iopub.status.busy": "2021-10-18T13:51:30.715658Z",
     "iopub.status.idle": "2021-10-18T13:51:30.733387Z",
     "shell.execute_reply": "2021-10-18T13:51:30.732504Z",
     "shell.execute_reply.started": "2021-10-18T13:51:30.716782Z"
    },
    "papermill": {
     "duration": null,
     "end_time": null,
     "exception": null,
     "start_time": null,
     "status": "pending"
    },
    "tags": []
   },
   "outputs": [],
   "source": [
    "# applying for loop to bring all the variables in range 0 to 1\n",
    "for i in  train_df.columns[1:]:\n",
    "    train_df[i] = (train_df[i] - train_df[i].min()) / (train_df[i].max() - train_df[i].min())"
   ]
  },
  {
   "cell_type": "code",
   "execution_count": 19,
   "id": "b5d0bde3",
   "metadata": {
    "collapsed": true,
    "execution": {
     "iopub.execute_input": "2021-10-18T13:51:30.686202Z",
     "iopub.status.busy": "2021-10-18T13:51:30.685147Z",
     "iopub.status.idle": "2021-10-18T13:51:30.698787Z",
     "shell.execute_reply": "2021-10-18T13:51:30.697493Z",
     "shell.execute_reply.started": "2021-10-18T13:51:30.686147Z"
    },
    "papermill": {
     "duration": null,
     "end_time": null,
     "exception": null,
     "start_time": null,
     "status": "pending"
    },
    "tags": []
   },
   "outputs": [
    {
     "data": {
      "text/plain": [
       "0    0.000000\n",
       "1    0.333333\n",
       "2    0.000000\n",
       "3    0.000000\n",
       "4    0.000000\n",
       "Name: Dependents, dtype: float64"
      ]
     },
     "execution_count": 19,
     "metadata": {},
     "output_type": "execute_result"
    }
   ],
   "source": [
    "# Scaled single column\n",
    "train_df.Dependents.head()"
   ]
  },
  {
   "cell_type": "code",
   "execution_count": 20,
   "id": "6c0efe2a",
   "metadata": {
    "collapsed": true,
    "execution": {
     "iopub.execute_input": "2021-10-18T13:51:30.767455Z",
     "iopub.status.busy": "2021-10-18T13:51:30.767228Z",
     "iopub.status.idle": "2021-10-18T13:51:30.783669Z",
     "shell.execute_reply": "2021-10-18T13:51:30.782623Z",
     "shell.execute_reply.started": "2021-10-18T13:51:30.767416Z"
    },
    "papermill": {
     "duration": null,
     "end_time": null,
     "exception": null,
     "start_time": null,
     "status": "pending"
    },
    "tags": []
   },
   "outputs": [
    {
     "name": "stdout",
     "output_type": "stream",
     "text": [
      "<class 'pandas.core.frame.DataFrame'>\n",
      "RangeIndex: 614 entries, 0 to 613\n",
      "Data columns (total 13 columns):\n",
      " #   Column             Non-Null Count  Dtype  \n",
      "---  ------             --------------  -----  \n",
      " 0   Loan_ID            614 non-null    object \n",
      " 1   Gender             614 non-null    float64\n",
      " 2   Married            614 non-null    float64\n",
      " 3   Dependents         614 non-null    float64\n",
      " 4   Education          614 non-null    float64\n",
      " 5   Self_Employed      614 non-null    float64\n",
      " 6   ApplicantIncome    614 non-null    float64\n",
      " 7   CoapplicantIncome  614 non-null    float64\n",
      " 8   LoanAmount         614 non-null    float64\n",
      " 9   Loan_Amount_Term   614 non-null    float64\n",
      " 10  Credit_History     614 non-null    float64\n",
      " 11  Property_Area      614 non-null    float64\n",
      " 12  Loan_Status        614 non-null    float64\n",
      "dtypes: float64(12), object(1)\n",
      "memory usage: 62.5+ KB\n"
     ]
    }
   ],
   "source": [
    "train_df.info()"
   ]
  },
  {
   "cell_type": "markdown",
   "id": "c9002a58",
   "metadata": {
    "papermill": {
     "duration": null,
     "end_time": null,
     "exception": null,
     "start_time": null,
     "status": "pending"
    },
    "tags": []
   },
   "source": [
    "`Results:`\n",
    "* We have done pre-processing\n",
    "* `Now every data point is in range of 0 to 1 and  no categories along with null values`"
   ]
  },
  {
   "cell_type": "code",
   "execution_count": 21,
   "id": "fb0db6ce",
   "metadata": {
    "execution": {
     "iopub.execute_input": "2021-10-18T13:51:30.785310Z",
     "iopub.status.busy": "2021-10-18T13:51:30.784972Z",
     "iopub.status.idle": "2021-10-18T13:51:30.798183Z",
     "shell.execute_reply": "2021-10-18T13:51:30.797193Z",
     "shell.execute_reply.started": "2021-10-18T13:51:30.785282Z"
    },
    "papermill": {
     "duration": null,
     "end_time": null,
     "exception": null,
     "start_time": null,
     "status": "pending"
    },
    "tags": []
   },
   "outputs": [],
   "source": [
    "# removing the loan_ID since these are just the unique values\n",
    "train_df = train_df.drop('Loan_ID', axis=1)"
   ]
  },
  {
   "cell_type": "markdown",
   "id": "f171b582",
   "metadata": {
    "papermill": {
     "duration": null,
     "end_time": null,
     "exception": null,
     "start_time": null,
     "status": "pending"
    },
    "tags": []
   },
   "source": [
    "# Steps to build a Neural Network using Keras\n",
    "\n",
    "1. Loading the dataset. \n",
    "2. Creating training and validation set\n",
    "3. Defining architecture of the model\n",
    "    * How many `input neurons` we want\n",
    "    * How many `hidden layers` and `hidden neurons` should be there\n",
    "    * What would be the `number of neurons` in the Output layer\n",
    "* All above points will be defined while make architecture of the model\n",
    "4. Compiling the model (defining loss function, optimizer)\n",
    "    * `Define Loss Function`\n",
    "    * `Define Optimizers`\n",
    "\n",
    "Keras Framework have pre-written code for different Loss Functions like:<br>\n",
    "* `MSE`\n",
    "* `Binary Cross Entropy`…. <br>\n",
    "\n",
    "It also supports diff optimizers like: <br>\n",
    "* `SGD`\n",
    "* `RMSprop`\n",
    "* `Adam`\n",
    "\n",
    "5. Training the model\n",
    "    * While training model `define Epochs`\n",
    "6. Evaluating model performance on training and validation set"
   ]
  },
  {
   "cell_type": "code",
   "execution_count": 22,
   "id": "5110da6a",
   "metadata": {
    "execution": {
     "iopub.execute_input": "2021-10-18T13:51:30.800093Z",
     "iopub.status.busy": "2021-10-18T13:51:30.799876Z",
     "iopub.status.idle": "2021-10-18T13:51:30.810130Z",
     "shell.execute_reply": "2021-10-18T13:51:30.809277Z",
     "shell.execute_reply.started": "2021-10-18T13:51:30.800067Z"
    },
    "papermill": {
     "duration": null,
     "end_time": null,
     "exception": null,
     "start_time": null,
     "status": "pending"
    },
    "tags": []
   },
   "outputs": [],
   "source": [
    "import matplotlib.pyplot as plt\n",
    "import seaborn as sns\n",
    "import sklearn\n",
    "from sklearn.model_selection import train_test_split\n",
    "from sklearn.metrics import accuracy_score\n",
    "\n",
    "%matplotlib inline"
   ]
  },
  {
   "cell_type": "code",
   "execution_count": 23,
   "id": "05d76130",
   "metadata": {
    "execution": {
     "iopub.execute_input": "2021-10-18T13:51:30.811879Z",
     "iopub.status.busy": "2021-10-18T13:51:30.811421Z",
     "iopub.status.idle": "2021-10-18T13:51:30.828397Z",
     "shell.execute_reply": "2021-10-18T13:51:30.827730Z",
     "shell.execute_reply.started": "2021-10-18T13:51:30.811835Z"
    },
    "papermill": {
     "duration": null,
     "end_time": null,
     "exception": null,
     "start_time": null,
     "status": "pending"
    },
    "tags": []
   },
   "outputs": [
    {
     "data": {
      "text/plain": [
       "((614, 11), (614,))"
      ]
     },
     "execution_count": 23,
     "metadata": {},
     "output_type": "execute_result"
    }
   ],
   "source": [
    "X = train_df.drop('Loan_Status',axis=1)\n",
    "\n",
    "y = train_df.Loan_Status\n",
    "\n",
    "X.shape, y.shape"
   ]
  },
  {
   "cell_type": "markdown",
   "id": "ed4c9461",
   "metadata": {
    "papermill": {
     "duration": null,
     "end_time": null,
     "exception": null,
     "start_time": null,
     "status": "pending"
    },
    "tags": []
   },
   "source": [
    "# Creating Training and Validation set\n",
    "* Stratify will make sure that the distribution of classes in train and validation set is similar\n",
    "* Test size 0.2 will keep 20% data in validation and remaining 80% in train set"
   ]
  },
  {
   "cell_type": "code",
   "execution_count": 24,
   "id": "73903dd5",
   "metadata": {
    "execution": {
     "iopub.execute_input": "2021-10-18T13:51:30.830516Z",
     "iopub.status.busy": "2021-10-18T13:51:30.829768Z",
     "iopub.status.idle": "2021-10-18T13:51:30.842859Z",
     "shell.execute_reply": "2021-10-18T13:51:30.842194Z",
     "shell.execute_reply.started": "2021-10-18T13:51:30.830462Z"
    },
    "papermill": {
     "duration": null,
     "end_time": null,
     "exception": null,
     "start_time": null,
     "status": "pending"
    },
    "tags": []
   },
   "outputs": [
    {
     "data": {
      "text/plain": [
       "((491, 11), (123, 11), (491,), (123,))"
      ]
     },
     "execution_count": 24,
     "metadata": {},
     "output_type": "execute_result"
    }
   ],
   "source": [
    "X_train,X_test,y_train,y_test = train_test_split(X,y,stratify=y,test_size=0.2,random_state=1)\n",
    "\n",
    "X_train.shape,X_test.shape,y_train.shape,y_test.shape"
   ]
  },
  {
   "cell_type": "markdown",
   "id": "0a799d32",
   "metadata": {
    "papermill": {
     "duration": null,
     "end_time": null,
     "exception": null,
     "start_time": null,
     "status": "pending"
    },
    "tags": []
   },
   "source": [
    "# Defining Architecture of the Model"
   ]
  },
  {
   "cell_type": "code",
   "execution_count": 25,
   "id": "d51474e1",
   "metadata": {
    "execution": {
     "iopub.execute_input": "2021-10-18T13:51:30.844545Z",
     "iopub.status.busy": "2021-10-18T13:51:30.844273Z",
     "iopub.status.idle": "2021-10-18T13:51:30.849771Z",
     "shell.execute_reply": "2021-10-18T13:51:30.849082Z",
     "shell.execute_reply.started": "2021-10-18T13:51:30.844514Z"
    },
    "papermill": {
     "duration": null,
     "end_time": null,
     "exception": null,
     "start_time": null,
     "status": "pending"
    },
    "tags": []
   },
   "outputs": [
    {
     "name": "stdout",
     "output_type": "stream",
     "text": [
      "2.10.0\n",
      "2.10.0\n"
     ]
    }
   ],
   "source": [
    "import tensorflow\n",
    "import keras\n",
    "\n",
    "print(tensorflow.__version__)\n",
    "print(keras.__version__)"
   ]
  },
  {
   "cell_type": "markdown",
   "id": "a7d1c3f4",
   "metadata": {
    "papermill": {
     "duration": null,
     "end_time": null,
     "exception": null,
     "start_time": null,
     "status": "pending"
    },
    "tags": []
   },
   "source": [
    "* `Keras` is a library based on `Tensorflow`"
   ]
  },
  {
   "cell_type": "markdown",
   "id": "2eb5fcf6",
   "metadata": {
    "execution": {
     "iopub.execute_input": "2021-10-18T12:58:16.992762Z",
     "iopub.status.busy": "2021-10-18T12:58:16.991896Z",
     "iopub.status.idle": "2021-10-18T12:58:16.998572Z",
     "shell.execute_reply": "2021-10-18T12:58:16.996402Z",
     "shell.execute_reply.started": "2021-10-18T12:58:16.992698Z"
    },
    "papermill": {
     "duration": null,
     "end_time": null,
     "exception": null,
     "start_time": null,
     "status": "pending"
    },
    "tags": []
   },
   "source": [
    "# 1.Create Model\n",
    "`Computation graph for the Forward Propogation of a Neural Network looks like below graph:`"
   ]
  },
  {
   "attachments": {
    "2a78000d-d361-426a-a103-559183f0a1e4.png": {
     "image/png": "[encoded data removed]"
    }
   },
   "cell_type": "markdown",
   "id": "c596d431",
   "metadata": {
    "papermill": {
     "duration": null,
     "end_time": null,
     "exception": null,
     "start_time": null,
     "status": "pending"
    },
    "tags": []
   },
   "source": [
    "![image.png](attachment:2a78000d-d361-426a-a103-559183f0a1e4.png)"
   ]
  },
  {
   "cell_type": "markdown",
   "id": "ab7325b7",
   "metadata": {
    "papermill": {
     "duration": null,
     "end_time": null,
     "exception": null,
     "start_time": null,
     "status": "pending"
    },
    "tags": []
   },
   "source": [
    "**`Flow`**\n",
    "* First `taking input(X)`, multiplying it with `Weight Matrix(W)`, add `Bias (b)` to that\n",
    "* then applying `Activation Function(sigmoid above)` to calculate hiddent layer activation\n",
    "* next layer (3rd) have its own W and b\n",
    "* similarly generate final output\n",
    "\n",
    "As all these steps are being done in `Sequential` manner so `I am creating a Sequential Model here` to create a NN <br>\n",
    "\n",
    "We also have `Functional Model` in Keras I will work on that in next notebook"
   ]
  },
  {
   "cell_type": "code",
   "execution_count": 26,
   "id": "9fde1c82",
   "metadata": {
    "execution": {
     "iopub.execute_input": "2021-10-18T13:51:30.852061Z",
     "iopub.status.busy": "2021-10-18T13:51:30.851076Z",
     "iopub.status.idle": "2021-10-18T13:51:30.861774Z",
     "shell.execute_reply": "2021-10-18T13:51:30.861037Z",
     "shell.execute_reply.started": "2021-10-18T13:51:30.852016Z"
    },
    "papermill": {
     "duration": null,
     "end_time": null,
     "exception": null,
     "start_time": null,
     "status": "pending"
    },
    "tags": []
   },
   "outputs": [],
   "source": [
    "# importing sequential model for now\n",
    "\n",
    "from keras.models import Sequential"
   ]
  },
  {
   "cell_type": "markdown",
   "id": "403de723",
   "metadata": {
    "papermill": {
     "duration": null,
     "end_time": null,
     "exception": null,
     "start_time": null,
     "status": "pending"
    },
    "tags": []
   },
   "source": [
    "# 2.Defining different Layers (Architecture)\n",
    "We have 3 type of different layer in NN\n",
    "* `Input Layer` => equall to number of Features\n",
    "* Dense Layer => these layer are for defining Hidden and Output Layer\n",
    "    * `Hiddent Layer`\n",
    "    * `Output Layer` => depends on number of output here Y or N(0or1) so 1output since this is (Binary Classification Problem)"
   ]
  },
  {
   "cell_type": "code",
   "execution_count": 27,
   "id": "d7bbed5f",
   "metadata": {
    "execution": {
     "iopub.execute_input": "2021-10-18T13:51:30.863806Z",
     "iopub.status.busy": "2021-10-18T13:51:30.862812Z",
     "iopub.status.idle": "2021-10-18T13:51:30.874802Z",
     "shell.execute_reply": "2021-10-18T13:51:30.873893Z",
     "shell.execute_reply.started": "2021-10-18T13:51:30.863763Z"
    },
    "papermill": {
     "duration": null,
     "end_time": null,
     "exception": null,
     "start_time": null,
     "status": "pending"
    },
    "tags": []
   },
   "outputs": [
    {
     "name": "stdout",
     "output_type": "stream",
     "text": [
      "Shape of df: (491, 11)\n",
      "Number of Features in data: 11\n",
      "Number of Input Neurons: 11\n"
     ]
    }
   ],
   "source": [
    "# importing different layers from keras\n",
    "from keras.layers import InputLayer, Dense \n",
    "\n",
    "\n",
    "# deciding number of input neurons\n",
    "print(f'Shape of df: {X_train.shape}')\n",
    "# number of features in data\n",
    "print(f'Number of Features in data: {X_train.shape[1]}')\n",
    "\n",
    "###################################\n",
    "###################################\n",
    "\n",
    "# defining input neurons\n",
    "input_neurons = X_train.shape[1]\n",
    "print(f'Number of Input Neurons: {input_neurons}')\n",
    "\n",
    "# define hidden layers and hidden neuron in each layer (hyperparameters)\n",
    "number_of_hidden_layers = 2\n",
    "neuron_hidden_layer_1 = 10\n",
    "neuron_hidden_layer_2 = 5\n",
    "\n",
    "# define number of output neurons\n",
    "output_neurons = 1"
   ]
  },
  {
   "cell_type": "markdown",
   "id": "b6a3ba5a",
   "metadata": {
    "papermill": {
     "duration": null,
     "end_time": null,
     "exception": null,
     "start_time": null,
     "status": "pending"
    },
    "tags": []
   },
   "source": [
    "### Number of output neurons\n",
    "* As loan prediction is a Binary Classification Problem\n",
    "* We will have `Single Neuron in Output Layer`\n",
    "\n",
    "### Number of hidden layers and hidden neurons\n",
    "\n",
    "* It is a hyperparameter\n",
    "* We can pick `Hidden Layers` and `Hidden Neurons` on our own\n",
    "\n",
    "### Activation Function of different layers\n",
    "* For now `Relu` is picked as an activation function for hidden layers\n",
    "* Using `Sigmoid Activation function` in final layer, as this is binary classification problem"
   ]
  },
  {
   "cell_type": "markdown",
   "id": "1590766c",
   "metadata": {
    "papermill": {
     "duration": null,
     "end_time": null,
     "exception": null,
     "start_time": null,
     "status": "pending"
    },
    "tags": []
   },
   "source": [
    "# 3.Model Architecture"
   ]
  },
  {
   "cell_type": "code",
   "execution_count": 28,
   "id": "2a2f0173",
   "metadata": {
    "execution": {
     "iopub.execute_input": "2021-10-18T13:51:30.876318Z",
     "iopub.status.busy": "2021-10-18T13:51:30.876101Z",
     "iopub.status.idle": "2021-10-18T13:51:30.917922Z",
     "shell.execute_reply": "2021-10-18T13:51:30.916939Z",
     "shell.execute_reply.started": "2021-10-18T13:51:30.876291Z"
    },
    "papermill": {
     "duration": null,
     "end_time": null,
     "exception": null,
     "start_time": null,
     "status": "pending"
    },
    "tags": []
   },
   "outputs": [],
   "source": [
    "# defining the architecture of the model  again at one place\n",
    "\n",
    "model = Sequential()\n",
    "model.add(InputLayer(input_shape = (input_neurons,))) # adding layes\n",
    "\n",
    "model.add(Dense(units = neuron_hidden_layer_1,activation='relu')) # set number of neurons using units\n",
    "model.add(Dense(units = neuron_hidden_layer_2,activation='relu'))\n",
    "\n",
    "model.add(Dense(units = output_neurons,activation='sigmoid'))"
   ]
  },
  {
   "cell_type": "code",
   "execution_count": 29,
   "id": "63614344",
   "metadata": {
    "execution": {
     "iopub.execute_input": "2021-10-18T13:51:30.919483Z",
     "iopub.status.busy": "2021-10-18T13:51:30.919226Z",
     "iopub.status.idle": "2021-10-18T13:51:30.926945Z",
     "shell.execute_reply": "2021-10-18T13:51:30.926313Z",
     "shell.execute_reply.started": "2021-10-18T13:51:30.919453Z"
    },
    "papermill": {
     "duration": null,
     "end_time": null,
     "exception": null,
     "start_time": null,
     "status": "pending"
    },
    "tags": []
   },
   "outputs": [
    {
     "name": "stdout",
     "output_type": "stream",
     "text": [
      "Model: \"sequential\"\n",
      "_________________________________________________________________\n",
      " Layer (type)                Output Shape              Param #   \n",
      "=================================================================\n",
      " dense (Dense)               (None, 10)                120       \n",
      "                                                                 \n",
      " dense_1 (Dense)             (None, 5)                 55        \n",
      "                                                                 \n",
      " dense_2 (Dense)             (None, 1)                 6         \n",
      "                                                                 \n",
      "=================================================================\n",
      "Total params: 181\n",
      "Trainable params: 181\n",
      "Non-trainable params: 0\n",
      "_________________________________________________________________\n"
     ]
    }
   ],
   "source": [
    "# model summary\n",
    "model.summary()"
   ]
  },
  {
   "cell_type": "markdown",
   "id": "e12f6e2f",
   "metadata": {
    "papermill": {
     "duration": null,
     "end_time": null,
     "exception": null,
     "start_time": null,
     "status": "pending"
    },
    "tags": []
   },
   "source": [
    "`Observation:`\n",
    "* Input layer is not shown in above summary\n",
    "* 3-Layer are shown (dense,dense_1,dense_2)\n",
    "    * last one is output\n",
    "    * rest are dense layer\n",
    "* `Param #` number of parameters which can be trained => these are the `Weights` learned suring training process\n",
    "\n",
    "**`In first we have 120 param what!! how come ??`** apart from weight we have biases associated with each neurons "
   ]
  },
  {
   "cell_type": "code",
   "execution_count": 30,
   "id": "8cb62c72",
   "metadata": {
    "execution": {
     "iopub.execute_input": "2021-10-18T13:51:30.928727Z",
     "iopub.status.busy": "2021-10-18T13:51:30.928039Z",
     "iopub.status.idle": "2021-10-18T13:51:30.942284Z",
     "shell.execute_reply": "2021-10-18T13:51:30.941462Z",
     "shell.execute_reply.started": "2021-10-18T13:51:30.928694Z"
    },
    "papermill": {
     "duration": null,
     "end_time": null,
     "exception": null,
     "start_time": null,
     "status": "pending"
    },
    "tags": []
   },
   "outputs": [
    {
     "data": {
      "text/plain": [
       "120"
      ]
     },
     "execution_count": 30,
     "metadata": {},
     "output_type": "execute_result"
    }
   ],
   "source": [
    "# Number of parameters between input and first hidden layer, adding the bias for each neuron of first hidden layer\n",
    "\n",
    "input_neurons * neuron_hidden_layer_1 + 10  # 11 * 10 + 10"
   ]
  },
  {
   "cell_type": "markdown",
   "id": "b2009184",
   "metadata": {
    "papermill": {
     "duration": null,
     "end_time": null,
     "exception": null,
     "start_time": null,
     "status": "pending"
    },
    "tags": []
   },
   "source": [
    "*  `input layer * first hidden layer + bias(output shape)`"
   ]
  },
  {
   "cell_type": "code",
   "execution_count": 31,
   "id": "6131eb85",
   "metadata": {
    "execution": {
     "iopub.execute_input": "2021-10-18T13:51:30.947683Z",
     "iopub.status.busy": "2021-10-18T13:51:30.946740Z",
     "iopub.status.idle": "2021-10-18T13:51:30.955235Z",
     "shell.execute_reply": "2021-10-18T13:51:30.954401Z",
     "shell.execute_reply.started": "2021-10-18T13:51:30.947623Z"
    },
    "papermill": {
     "duration": null,
     "end_time": null,
     "exception": null,
     "start_time": null,
     "status": "pending"
    },
    "tags": []
   },
   "outputs": [
    {
     "data": {
      "text/plain": [
       "55"
      ]
     },
     "execution_count": 31,
     "metadata": {},
     "output_type": "execute_result"
    }
   ],
   "source": [
    "# Number of parameters between first and second hidden layer\n",
    "\n",
    "neuron_hidden_layer_1 * neuron_hidden_layer_2 + 5   "
   ]
  },
  {
   "cell_type": "markdown",
   "id": "a19f63a2",
   "metadata": {
    "papermill": {
     "duration": null,
     "end_time": null,
     "exception": null,
     "start_time": null,
     "status": "pending"
    },
    "tags": []
   },
   "source": [
    "*  `hidden_layer_1 * hidden_layer_2 + bias(output shape)`"
   ]
  },
  {
   "cell_type": "code",
   "execution_count": 32,
   "id": "71ecbe63",
   "metadata": {
    "execution": {
     "iopub.execute_input": "2021-10-18T13:51:30.958518Z",
     "iopub.status.busy": "2021-10-18T13:51:30.957478Z",
     "iopub.status.idle": "2021-10-18T13:51:30.966603Z",
     "shell.execute_reply": "2021-10-18T13:51:30.965668Z",
     "shell.execute_reply.started": "2021-10-18T13:51:30.958472Z"
    },
    "papermill": {
     "duration": null,
     "end_time": null,
     "exception": null,
     "start_time": null,
     "status": "pending"
    },
    "tags": []
   },
   "outputs": [
    {
     "data": {
      "text/plain": [
       "6"
      ]
     },
     "execution_count": 32,
     "metadata": {},
     "output_type": "execute_result"
    }
   ],
   "source": [
    "# Number of parameters between second hidden and output layer\n",
    "\n",
    "neuron_hidden_layer_2 * output_neurons + 1"
   ]
  },
  {
   "cell_type": "markdown",
   "id": "1f0b6679",
   "metadata": {
    "papermill": {
     "duration": null,
     "end_time": null,
     "exception": null,
     "start_time": null,
     "status": "pending"
    },
    "tags": []
   },
   "source": [
    "# 4. Compiling Model (defining loss function, optimizer)\n",
    "This is a Binary Classification problem\n",
    "\n",
    "* Choos loss as `binary_crossentropy`\n",
    "* Optemizer as `Adam`\n",
    "* Evaluation Metric as `accuracy`"
   ]
  },
  {
   "cell_type": "code",
   "execution_count": 33,
   "id": "1d91320c",
   "metadata": {
    "execution": {
     "iopub.execute_input": "2021-10-18T13:51:30.968222Z",
     "iopub.status.busy": "2021-10-18T13:51:30.967971Z",
     "iopub.status.idle": "2021-10-18T13:51:30.982450Z",
     "shell.execute_reply": "2021-10-18T13:51:30.981485Z",
     "shell.execute_reply.started": "2021-10-18T13:51:30.968191Z"
    },
    "papermill": {
     "duration": null,
     "end_time": null,
     "exception": null,
     "start_time": null,
     "status": "pending"
    },
    "tags": []
   },
   "outputs": [],
   "source": [
    "# loss as 'binary_crossentropy', as binart Classification Problem\n",
    "\n",
    "model.compile(loss='binary_crossentropy',optimizer='Adam',metrics=['accuracy'])"
   ]
  },
  {
   "cell_type": "markdown",
   "id": "3f5805b2",
   "metadata": {
    "papermill": {
     "duration": null,
     "end_time": null,
     "exception": null,
     "start_time": null,
     "status": "pending"
    },
    "tags": []
   },
   "source": [
    "# 5.Training Model\n",
    "* Passing independent and dependent features for training set for training model\n",
    "* Validation data will be evaluated at end of each `epoch`\n",
    "* Setting `epochs=45`\n",
    "* storing trained model in model_history variable which will be used to visualize training process"
   ]
  },
  {
   "cell_type": "code",
   "execution_count": 34,
   "id": "cd3654fe",
   "metadata": {},
   "outputs": [],
   "source": [
    "y_test=y_test.astype('int32')"
   ]
  },
  {
   "cell_type": "code",
   "execution_count": 35,
   "id": "9b6568d1",
   "metadata": {},
   "outputs": [
    {
     "data": {
      "text/plain": [
       "22     0\n",
       "604    1\n",
       "181    0\n",
       "85     1\n",
       "391    1\n",
       "      ..\n",
       "582    1\n",
       "316    1\n",
       "449    0\n",
       "224    1\n",
       "90     1\n",
       "Name: Loan_Status, Length: 123, dtype: int32"
      ]
     },
     "execution_count": 35,
     "metadata": {},
     "output_type": "execute_result"
    }
   ],
   "source": [
    "y_test"
   ]
  },
  {
   "cell_type": "code",
   "execution_count": 36,
   "id": "44b0e5d4",
   "metadata": {},
   "outputs": [],
   "source": [
    "y_train=y_train.astype('int32')"
   ]
  },
  {
   "cell_type": "code",
   "execution_count": 37,
   "id": "dc9fb016",
   "metadata": {},
   "outputs": [
    {
     "data": {
      "text/html": [
       "<div>\n",
       "<style scoped>\n",
       "    .dataframe tbody tr th:only-of-type {\n",
       "        vertical-align: middle;\n",
       "    }\n",
       "\n",
       "    .dataframe tbody tr th {\n",
       "        vertical-align: top;\n",
       "    }\n",
       "\n",
       "    .dataframe thead th {\n",
       "        text-align: right;\n",
       "    }\n",
       "</style>\n",
       "<table border=\"1\" class=\"dataframe\">\n",
       "  <thead>\n",
       "    <tr style=\"text-align: right;\">\n",
       "      <th></th>\n",
       "      <th>Gender</th>\n",
       "      <th>Married</th>\n",
       "      <th>Dependents</th>\n",
       "      <th>Education</th>\n",
       "      <th>Self_Employed</th>\n",
       "      <th>ApplicantIncome</th>\n",
       "      <th>CoapplicantIncome</th>\n",
       "      <th>LoanAmount</th>\n",
       "      <th>Loan_Amount_Term</th>\n",
       "      <th>Credit_History</th>\n",
       "      <th>Property_Area</th>\n",
       "    </tr>\n",
       "  </thead>\n",
       "  <tbody>\n",
       "    <tr>\n",
       "      <th>22</th>\n",
       "      <td>0.0</td>\n",
       "      <td>1.0</td>\n",
       "      <td>0.000000</td>\n",
       "      <td>0.0</td>\n",
       "      <td>0.0</td>\n",
       "      <td>0.030303</td>\n",
       "      <td>0.045864</td>\n",
       "      <td>0.154848</td>\n",
       "      <td>0.74359</td>\n",
       "      <td>0.0</td>\n",
       "      <td>0.5</td>\n",
       "    </tr>\n",
       "    <tr>\n",
       "      <th>604</th>\n",
       "      <td>1.0</td>\n",
       "      <td>1.0</td>\n",
       "      <td>0.333333</td>\n",
       "      <td>1.0</td>\n",
       "      <td>0.0</td>\n",
       "      <td>0.146568</td>\n",
       "      <td>0.000000</td>\n",
       "      <td>0.704776</td>\n",
       "      <td>0.74359</td>\n",
       "      <td>1.0</td>\n",
       "      <td>0.5</td>\n",
       "    </tr>\n",
       "    <tr>\n",
       "      <th>181</th>\n",
       "      <td>0.0</td>\n",
       "      <td>0.0</td>\n",
       "      <td>0.000000</td>\n",
       "      <td>1.0</td>\n",
       "      <td>0.0</td>\n",
       "      <td>0.021843</td>\n",
       "      <td>0.121511</td>\n",
       "      <td>0.083936</td>\n",
       "      <td>0.74359</td>\n",
       "      <td>1.0</td>\n",
       "      <td>0.0</td>\n",
       "    </tr>\n",
       "    <tr>\n",
       "      <th>85</th>\n",
       "      <td>0.0</td>\n",
       "      <td>0.0</td>\n",
       "      <td>0.000000</td>\n",
       "      <td>1.0</td>\n",
       "      <td>0.0</td>\n",
       "      <td>0.027409</td>\n",
       "      <td>0.060744</td>\n",
       "      <td>0.183792</td>\n",
       "      <td>0.74359</td>\n",
       "      <td>1.0</td>\n",
       "      <td>0.5</td>\n",
       "    </tr>\n",
       "    <tr>\n",
       "      <th>391</th>\n",
       "      <td>0.0</td>\n",
       "      <td>1.0</td>\n",
       "      <td>1.000000</td>\n",
       "      <td>1.0</td>\n",
       "      <td>0.0</td>\n",
       "      <td>0.115696</td>\n",
       "      <td>0.000000</td>\n",
       "      <td>0.384949</td>\n",
       "      <td>0.74359</td>\n",
       "      <td>1.0</td>\n",
       "      <td>0.0</td>\n",
       "    </tr>\n",
       "    <tr>\n",
       "      <th>...</th>\n",
       "      <td>...</td>\n",
       "      <td>...</td>\n",
       "      <td>...</td>\n",
       "      <td>...</td>\n",
       "      <td>...</td>\n",
       "      <td>...</td>\n",
       "      <td>...</td>\n",
       "      <td>...</td>\n",
       "      <td>...</td>\n",
       "      <td>...</td>\n",
       "      <td>...</td>\n",
       "    </tr>\n",
       "    <tr>\n",
       "      <th>582</th>\n",
       "      <td>1.0</td>\n",
       "      <td>1.0</td>\n",
       "      <td>0.000000</td>\n",
       "      <td>1.0</td>\n",
       "      <td>0.0</td>\n",
       "      <td>0.037304</td>\n",
       "      <td>0.000000</td>\n",
       "      <td>0.039074</td>\n",
       "      <td>0.74359</td>\n",
       "      <td>1.0</td>\n",
       "      <td>0.5</td>\n",
       "    </tr>\n",
       "    <tr>\n",
       "      <th>316</th>\n",
       "      <td>0.0</td>\n",
       "      <td>1.0</td>\n",
       "      <td>0.666667</td>\n",
       "      <td>1.0</td>\n",
       "      <td>0.0</td>\n",
       "      <td>0.044119</td>\n",
       "      <td>0.000000</td>\n",
       "      <td>0.160637</td>\n",
       "      <td>0.74359</td>\n",
       "      <td>1.0</td>\n",
       "      <td>0.5</td>\n",
       "    </tr>\n",
       "    <tr>\n",
       "      <th>449</th>\n",
       "      <td>0.0</td>\n",
       "      <td>0.0</td>\n",
       "      <td>0.333333</td>\n",
       "      <td>0.0</td>\n",
       "      <td>1.0</td>\n",
       "      <td>0.032393</td>\n",
       "      <td>0.037008</td>\n",
       "      <td>0.261939</td>\n",
       "      <td>0.74359</td>\n",
       "      <td>1.0</td>\n",
       "      <td>0.5</td>\n",
       "    </tr>\n",
       "    <tr>\n",
       "      <th>224</th>\n",
       "      <td>0.0</td>\n",
       "      <td>1.0</td>\n",
       "      <td>0.000000</td>\n",
       "      <td>1.0</td>\n",
       "      <td>0.0</td>\n",
       "      <td>0.075448</td>\n",
       "      <td>0.000000</td>\n",
       "      <td>0.172214</td>\n",
       "      <td>0.74359</td>\n",
       "      <td>1.0</td>\n",
       "      <td>0.5</td>\n",
       "    </tr>\n",
       "    <tr>\n",
       "      <th>90</th>\n",
       "      <td>0.0</td>\n",
       "      <td>1.0</td>\n",
       "      <td>0.000000</td>\n",
       "      <td>1.0</td>\n",
       "      <td>0.0</td>\n",
       "      <td>0.034731</td>\n",
       "      <td>0.069599</td>\n",
       "      <td>0.176556</td>\n",
       "      <td>0.74359</td>\n",
       "      <td>1.0</td>\n",
       "      <td>0.5</td>\n",
       "    </tr>\n",
       "  </tbody>\n",
       "</table>\n",
       "<p>123 rows × 11 columns</p>\n",
       "</div>"
      ],
      "text/plain": [
       "     Gender  Married  Dependents  Education  Self_Employed  ApplicantIncome  \\\n",
       "22      0.0      1.0    0.000000        0.0            0.0         0.030303   \n",
       "604     1.0      1.0    0.333333        1.0            0.0         0.146568   \n",
       "181     0.0      0.0    0.000000        1.0            0.0         0.021843   \n",
       "85      0.0      0.0    0.000000        1.0            0.0         0.027409   \n",
       "391     0.0      1.0    1.000000        1.0            0.0         0.115696   \n",
       "..      ...      ...         ...        ...            ...              ...   \n",
       "582     1.0      1.0    0.000000        1.0            0.0         0.037304   \n",
       "316     0.0      1.0    0.666667        1.0            0.0         0.044119   \n",
       "449     0.0      0.0    0.333333        0.0            1.0         0.032393   \n",
       "224     0.0      1.0    0.000000        1.0            0.0         0.075448   \n",
       "90      0.0      1.0    0.000000        1.0            0.0         0.034731   \n",
       "\n",
       "     CoapplicantIncome  LoanAmount  Loan_Amount_Term  Credit_History  \\\n",
       "22            0.045864    0.154848           0.74359             0.0   \n",
       "604           0.000000    0.704776           0.74359             1.0   \n",
       "181           0.121511    0.083936           0.74359             1.0   \n",
       "85            0.060744    0.183792           0.74359             1.0   \n",
       "391           0.000000    0.384949           0.74359             1.0   \n",
       "..                 ...         ...               ...             ...   \n",
       "582           0.000000    0.039074           0.74359             1.0   \n",
       "316           0.000000    0.160637           0.74359             1.0   \n",
       "449           0.037008    0.261939           0.74359             1.0   \n",
       "224           0.000000    0.172214           0.74359             1.0   \n",
       "90            0.069599    0.176556           0.74359             1.0   \n",
       "\n",
       "     Property_Area  \n",
       "22             0.5  \n",
       "604            0.5  \n",
       "181            0.0  \n",
       "85             0.5  \n",
       "391            0.0  \n",
       "..             ...  \n",
       "582            0.5  \n",
       "316            0.5  \n",
       "449            0.5  \n",
       "224            0.5  \n",
       "90             0.5  \n",
       "\n",
       "[123 rows x 11 columns]"
      ]
     },
     "execution_count": 37,
     "metadata": {},
     "output_type": "execute_result"
    }
   ],
   "source": [
    "X_test"
   ]
  },
  {
   "cell_type": "code",
   "execution_count": 38,
   "id": "4d64bee3",
   "metadata": {
    "execution": {
     "iopub.execute_input": "2021-10-18T13:51:30.984872Z",
     "iopub.status.busy": "2021-10-18T13:51:30.984304Z",
     "iopub.status.idle": "2021-10-18T13:51:34.882157Z",
     "shell.execute_reply": "2021-10-18T13:51:34.881166Z",
     "shell.execute_reply.started": "2021-10-18T13:51:30.984828Z"
    },
    "papermill": {
     "duration": null,
     "end_time": null,
     "exception": null,
     "start_time": null,
     "status": "pending"
    },
    "tags": []
   },
   "outputs": [
    {
     "name": "stdout",
     "output_type": "stream",
     "text": [
      "Epoch 1/45\n",
      "16/16 [==============================] - 2s 38ms/step - loss: 0.6008 - accuracy: 0.6925 - val_loss: 0.5982 - val_accuracy: 0.6911\n",
      "Epoch 2/45\n",
      "16/16 [==============================] - 0s 9ms/step - loss: 0.5918 - accuracy: 0.6904 - val_loss: 0.5868 - val_accuracy: 0.6911\n",
      "Epoch 3/45\n",
      "16/16 [==============================] - 0s 9ms/step - loss: 0.5840 - accuracy: 0.6925 - val_loss: 0.5806 - val_accuracy: 0.6911\n",
      "Epoch 4/45\n",
      "16/16 [==============================] - 0s 7ms/step - loss: 0.5785 - accuracy: 0.6965 - val_loss: 0.5762 - val_accuracy: 0.6911\n",
      "Epoch 5/45\n",
      "16/16 [==============================] - 0s 8ms/step - loss: 0.5724 - accuracy: 0.7088 - val_loss: 0.5683 - val_accuracy: 0.6911\n",
      "Epoch 6/45\n",
      "16/16 [==============================] - 0s 11ms/step - loss: 0.5673 - accuracy: 0.7088 - val_loss: 0.5629 - val_accuracy: 0.6992\n",
      "Epoch 7/45\n",
      "16/16 [==============================] - 0s 8ms/step - loss: 0.5620 - accuracy: 0.7108 - val_loss: 0.5562 - val_accuracy: 0.7073\n",
      "Epoch 8/45\n",
      "16/16 [==============================] - 0s 8ms/step - loss: 0.5568 - accuracy: 0.7210 - val_loss: 0.5511 - val_accuracy: 0.7154\n",
      "Epoch 9/45\n",
      "16/16 [==============================] - 0s 8ms/step - loss: 0.5518 - accuracy: 0.7251 - val_loss: 0.5446 - val_accuracy: 0.7154\n",
      "Epoch 10/45\n",
      "16/16 [==============================] - 0s 9ms/step - loss: 0.5466 - accuracy: 0.7291 - val_loss: 0.5391 - val_accuracy: 0.7398\n",
      "Epoch 11/45\n",
      "16/16 [==============================] - 0s 8ms/step - loss: 0.5420 - accuracy: 0.7393 - val_loss: 0.5326 - val_accuracy: 0.7480\n",
      "Epoch 12/45\n",
      "16/16 [==============================] - 0s 7ms/step - loss: 0.5376 - accuracy: 0.7556 - val_loss: 0.5259 - val_accuracy: 0.7805\n",
      "Epoch 13/45\n",
      "16/16 [==============================] - 0s 8ms/step - loss: 0.5329 - accuracy: 0.7882 - val_loss: 0.5193 - val_accuracy: 0.8049\n",
      "Epoch 14/45\n",
      "16/16 [==============================] - 0s 7ms/step - loss: 0.5280 - accuracy: 0.7943 - val_loss: 0.5125 - val_accuracy: 0.8130\n",
      "Epoch 15/45\n",
      "16/16 [==============================] - 0s 9ms/step - loss: 0.5237 - accuracy: 0.7963 - val_loss: 0.5061 - val_accuracy: 0.8211\n",
      "Epoch 16/45\n",
      "16/16 [==============================] - 0s 8ms/step - loss: 0.5199 - accuracy: 0.8024 - val_loss: 0.4991 - val_accuracy: 0.8374\n",
      "Epoch 17/45\n",
      "16/16 [==============================] - 0s 7ms/step - loss: 0.5150 - accuracy: 0.8024 - val_loss: 0.4923 - val_accuracy: 0.8374\n",
      "Epoch 18/45\n",
      "16/16 [==============================] - 0s 7ms/step - loss: 0.5110 - accuracy: 0.8024 - val_loss: 0.4873 - val_accuracy: 0.8374\n",
      "Epoch 19/45\n",
      "16/16 [==============================] - 0s 6ms/step - loss: 0.5073 - accuracy: 0.8024 - val_loss: 0.4823 - val_accuracy: 0.8374\n",
      "Epoch 20/45\n",
      "16/16 [==============================] - 0s 7ms/step - loss: 0.5048 - accuracy: 0.8045 - val_loss: 0.4783 - val_accuracy: 0.8374\n",
      "Epoch 21/45\n",
      "16/16 [==============================] - 0s 9ms/step - loss: 0.5018 - accuracy: 0.8045 - val_loss: 0.4730 - val_accuracy: 0.8374\n",
      "Epoch 22/45\n",
      "16/16 [==============================] - 0s 7ms/step - loss: 0.4993 - accuracy: 0.8045 - val_loss: 0.4706 - val_accuracy: 0.8374\n",
      "Epoch 23/45\n",
      "16/16 [==============================] - 0s 6ms/step - loss: 0.4988 - accuracy: 0.8045 - val_loss: 0.4712 - val_accuracy: 0.8374\n",
      "Epoch 24/45\n",
      "16/16 [==============================] - 0s 6ms/step - loss: 0.4956 - accuracy: 0.8024 - val_loss: 0.4664 - val_accuracy: 0.8374\n",
      "Epoch 25/45\n",
      "16/16 [==============================] - 0s 9ms/step - loss: 0.4941 - accuracy: 0.8045 - val_loss: 0.4635 - val_accuracy: 0.8374\n",
      "Epoch 26/45\n",
      "16/16 [==============================] - 0s 7ms/step - loss: 0.4925 - accuracy: 0.8045 - val_loss: 0.4636 - val_accuracy: 0.8374\n",
      "Epoch 27/45\n",
      "16/16 [==============================] - 0s 9ms/step - loss: 0.4917 - accuracy: 0.8024 - val_loss: 0.4607 - val_accuracy: 0.8374\n",
      "Epoch 28/45\n",
      "16/16 [==============================] - 0s 7ms/step - loss: 0.4923 - accuracy: 0.8045 - val_loss: 0.4573 - val_accuracy: 0.8374\n",
      "Epoch 29/45\n",
      "16/16 [==============================] - 0s 7ms/step - loss: 0.4896 - accuracy: 0.8024 - val_loss: 0.4591 - val_accuracy: 0.8374\n",
      "Epoch 30/45\n",
      "16/16 [==============================] - 0s 6ms/step - loss: 0.4892 - accuracy: 0.8045 - val_loss: 0.4583 - val_accuracy: 0.8374\n",
      "Epoch 31/45\n",
      "16/16 [==============================] - 0s 7ms/step - loss: 0.4888 - accuracy: 0.8065 - val_loss: 0.4533 - val_accuracy: 0.8374\n",
      "Epoch 32/45\n",
      "16/16 [==============================] - 0s 6ms/step - loss: 0.4890 - accuracy: 0.8065 - val_loss: 0.4522 - val_accuracy: 0.8374\n",
      "Epoch 33/45\n",
      "16/16 [==============================] - 0s 7ms/step - loss: 0.4899 - accuracy: 0.8045 - val_loss: 0.4567 - val_accuracy: 0.8374\n",
      "Epoch 34/45\n",
      "16/16 [==============================] - 0s 8ms/step - loss: 0.4883 - accuracy: 0.8065 - val_loss: 0.4503 - val_accuracy: 0.8374\n",
      "Epoch 35/45\n",
      "16/16 [==============================] - 0s 8ms/step - loss: 0.4859 - accuracy: 0.8045 - val_loss: 0.4504 - val_accuracy: 0.8374\n",
      "Epoch 36/45\n",
      "16/16 [==============================] - 0s 9ms/step - loss: 0.4865 - accuracy: 0.8045 - val_loss: 0.4516 - val_accuracy: 0.8374\n",
      "Epoch 37/45\n",
      "16/16 [==============================] - 0s 7ms/step - loss: 0.4849 - accuracy: 0.8045 - val_loss: 0.4475 - val_accuracy: 0.8374\n",
      "Epoch 38/45\n",
      "16/16 [==============================] - 0s 7ms/step - loss: 0.4843 - accuracy: 0.8045 - val_loss: 0.4484 - val_accuracy: 0.8374\n",
      "Epoch 39/45\n",
      "16/16 [==============================] - 0s 8ms/step - loss: 0.4843 - accuracy: 0.8045 - val_loss: 0.4479 - val_accuracy: 0.8374\n",
      "Epoch 40/45\n",
      "16/16 [==============================] - 0s 7ms/step - loss: 0.4840 - accuracy: 0.8045 - val_loss: 0.4477 - val_accuracy: 0.8374\n",
      "Epoch 41/45\n",
      "16/16 [==============================] - 0s 6ms/step - loss: 0.4832 - accuracy: 0.8045 - val_loss: 0.4449 - val_accuracy: 0.8374\n",
      "Epoch 42/45\n",
      "16/16 [==============================] - 0s 9ms/step - loss: 0.4834 - accuracy: 0.8045 - val_loss: 0.4448 - val_accuracy: 0.8374\n",
      "Epoch 43/45\n",
      "16/16 [==============================] - 0s 8ms/step - loss: 0.4830 - accuracy: 0.8045 - val_loss: 0.4435 - val_accuracy: 0.8374\n",
      "Epoch 44/45\n",
      "16/16 [==============================] - 0s 7ms/step - loss: 0.4827 - accuracy: 0.8065 - val_loss: 0.4433 - val_accuracy: 0.8374\n",
      "Epoch 45/45\n",
      "16/16 [==============================] - 0s 7ms/step - loss: 0.4828 - accuracy: 0.8045 - val_loss: 0.4454 - val_accuracy: 0.8374\n"
     ]
    }
   ],
   "source": [
    "model_history = model.fit(X_train,y_train,validation_data=(X_test,y_test),epochs=45)\n"
   ]
  },
  {
   "cell_type": "markdown",
   "id": "6304cc76",
   "metadata": {
    "papermill": {
     "duration": null,
     "end_time": null,
     "exception": null,
     "start_time": null,
     "status": "pending"
    },
    "tags": []
   },
   "source": [
    "# 6.Evaluating ModelPerformance on Validation Set\n"
   ]
  },
  {
   "cell_type": "code",
   "execution_count": 39,
   "id": "ba1ebfd8",
   "metadata": {
    "execution": {
     "iopub.execute_input": "2021-10-18T13:51:34.883745Z",
     "iopub.status.busy": "2021-10-18T13:51:34.883527Z",
     "iopub.status.idle": "2021-10-18T13:51:34.997849Z",
     "shell.execute_reply": "2021-10-18T13:51:34.996857Z",
     "shell.execute_reply.started": "2021-10-18T13:51:34.883720Z"
    },
    "papermill": {
     "duration": null,
     "end_time": null,
     "exception": null,
     "start_time": null,
     "status": "pending"
    },
    "tags": []
   },
   "outputs": [
    {
     "name": "stdout",
     "output_type": "stream",
     "text": [
      "4/4 [==============================] - 0s 3ms/step\n"
     ]
    }
   ],
   "source": [
    "# Getting predictions for validation set\n",
    "prediction = (model.predict(X_test) > 0.5).astype(\"int32\")"
   ]
  },
  {
   "cell_type": "code",
   "execution_count": 40,
   "id": "5f909050",
   "metadata": {
    "execution": {
     "iopub.execute_input": "2021-10-18T13:51:35.001168Z",
     "iopub.status.busy": "2021-10-18T13:51:35.000539Z",
     "iopub.status.idle": "2021-10-18T13:51:35.009551Z",
     "shell.execute_reply": "2021-10-18T13:51:35.008378Z",
     "shell.execute_reply.started": "2021-10-18T13:51:35.001120Z"
    },
    "papermill": {
     "duration": null,
     "end_time": null,
     "exception": null,
     "start_time": null,
     "status": "pending"
    },
    "tags": []
   },
   "outputs": [
    {
     "data": {
      "text/plain": [
       "0.8373983739837398"
      ]
     },
     "execution_count": 40,
     "metadata": {},
     "output_type": "execute_result"
    }
   ],
   "source": [
    "# calculating accuracy on validation set\n",
    "accuracy_score(y_test,prediction)"
   ]
  },
  {
   "cell_type": "code",
   "execution_count": 41,
   "id": "54adb9c1",
   "metadata": {},
   "outputs": [
    {
     "data": {
      "text/plain": [
       "(123, 1)"
      ]
     },
     "execution_count": 41,
     "metadata": {},
     "output_type": "execute_result"
    }
   ],
   "source": [
    "prediction.shape"
   ]
  },
  {
   "cell_type": "code",
   "execution_count": 42,
   "id": "760d3000",
   "metadata": {},
   "outputs": [
    {
     "name": "stdout",
     "output_type": "stream",
     "text": [
      "0.8095238095238095\n",
      "1.0\n",
      "0.8947368421052632\n"
     ]
    }
   ],
   "source": [
    "from sklearn.metrics import precision_score, recall_score,f1_score\n",
    "print(precision_score(y_test, prediction))\n",
    "print(recall_score(y_test, prediction)) \n",
    "print(f1_score(y_test,prediction))"
   ]
  },
  {
   "cell_type": "code",
   "execution_count": 43,
   "id": "cd52eb1c",
   "metadata": {},
   "outputs": [
    {
     "data": {
      "image/png": "[encoded data removed]",
      "text/plain": [
       "<Figure size 640x480 with 2 Axes>"
      ]
     },
     "metadata": {},
     "output_type": "display_data"
    }
   ],
   "source": [
    "import seaborn as sns\n",
    "from sklearn.metrics import confusion_matrix\n",
    "\n",
    "#Generate the confusion matrix\n",
    "cf_matrix = confusion_matrix(y_test, prediction)\n",
    "\n",
    "# print(cf_matrix)\n",
    "ax = sns.heatmap(cf_matrix, annot=True, cmap='Blues')\n",
    "\n",
    "ax.set_title('Seaborn Confusion Matrix with labels\\n\\n');\n",
    "ax.set_xlabel('\\nPredicted Values')\n",
    "ax.set_ylabel('Actual Values ');\n",
    "\n",
    "## Ticket labels - List must be in alphabetical order\n",
    "ax.xaxis.set_ticklabels(['False','True'])\n",
    "ax.yaxis.set_ticklabels(['False','True'])\n",
    "\n",
    "## Display the visualization of the Confusion Matrix.\n",
    "plt.show()"
   ]
  },
  {
   "cell_type": "code",
   "execution_count": 44,
   "id": "79528644",
   "metadata": {},
   "outputs": [
    {
     "name": "stdout",
     "output_type": "stream",
     "text": [
      "              precision    recall  f1-score   support\n",
      "\n",
      "           0       1.00      0.47      0.64        38\n",
      "           1       0.81      1.00      0.89        85\n",
      "\n",
      "    accuracy                           0.84       123\n",
      "   macro avg       0.90      0.74      0.77       123\n",
      "weighted avg       0.87      0.84      0.82       123\n",
      "\n"
     ]
    }
   ],
   "source": [
    "from sklearn.metrics import classification_report\n",
    "print(classification_report(y_test, prediction))"
   ]
  },
  {
   "cell_type": "markdown",
   "id": "d9647f77",
   "metadata": {
    "papermill": {
     "duration": null,
     "end_time": null,
     "exception": null,
     "start_time": null,
     "status": "pending"
    },
    "tags": []
   },
   "source": [
    "# Visualizing Model Performance\n",
    "As I have saved the model performance as epoch increase in model_history so I will plot it from there"
   ]
  },
  {
   "cell_type": "code",
   "execution_count": 45,
   "id": "53dd6bba",
   "metadata": {
    "execution": {
     "iopub.execute_input": "2021-10-18T13:51:35.011903Z",
     "iopub.status.busy": "2021-10-18T13:51:35.011570Z",
     "iopub.status.idle": "2021-10-18T13:51:35.245801Z",
     "shell.execute_reply": "2021-10-18T13:51:35.244922Z",
     "shell.execute_reply.started": "2021-10-18T13:51:35.011863Z"
    },
    "papermill": {
     "duration": null,
     "end_time": null,
     "exception": null,
     "start_time": null,
     "status": "pending"
    },
    "tags": []
   },
   "outputs": [
    {
     "data": {
      "image/png": "[encoded data removed]",
      "text/plain": [
       "<Figure size 1000x400 with 1 Axes>"
      ]
     },
     "metadata": {},
     "output_type": "display_data"
    }
   ],
   "source": [
    "# summarize history for loss\n",
    "\n",
    "plt.figure(figsize=(10,4))\n",
    "plt.plot(model_history.history['loss'])\n",
    "plt.plot(model_history.history['val_loss'])   # validation loss values\n",
    "\n",
    "plt.title('Model Loss')\n",
    "plt.ylabel('loss')\n",
    "plt.xlabel('epoch')\n",
    "plt.legend(['train','validation'], loc='upper right')\n",
    "\n",
    "plt.show()"
   ]
  },
  {
   "cell_type": "markdown",
   "id": "e2a41783",
   "metadata": {
    "papermill": {
     "duration": null,
     "end_time": null,
     "exception": null,
     "start_time": null,
     "status": "pending"
    },
    "tags": []
   },
   "source": [
    "`Observation:`\n",
    "training and validation loss is decreasing as the epoch are increasing"
   ]
  },
  {
   "cell_type": "code",
   "execution_count": 46,
   "id": "45bba0d5",
   "metadata": {
    "execution": {
     "iopub.execute_input": "2021-10-18T13:51:35.247796Z",
     "iopub.status.busy": "2021-10-18T13:51:35.247164Z",
     "iopub.status.idle": "2021-10-18T13:51:35.484853Z",
     "shell.execute_reply": "2021-10-18T13:51:35.483962Z",
     "shell.execute_reply.started": "2021-10-18T13:51:35.247746Z"
    },
    "papermill": {
     "duration": null,
     "end_time": null,
     "exception": null,
     "start_time": null,
     "status": "pending"
    },
    "tags": []
   },
   "outputs": [
    {
     "data": {
      "image/png": "[encoded data removed]",
      "text/plain": [
       "<Figure size 1000x400 with 1 Axes>"
      ]
     },
     "metadata": {},
     "output_type": "display_data"
    }
   ],
   "source": [
    "# summarize history for accuracy\n",
    "\n",
    "plt.figure(figsize=(10,4))\n",
    "plt.plot(model_history.history['accuracy'])\n",
    "plt.plot(model_history.history['val_accuracy'])\n",
    "\n",
    "plt.title('Model Accuracy',)\n",
    "plt.ylabel('accuracy')\n",
    "plt.xlabel('epoch')\n",
    "plt.legend(['train','validation'], loc='lower right')\n",
    "plt.show()"
   ]
  },
  {
   "cell_type": "code",
   "execution_count": 47,
   "id": "254e1bda",
   "metadata": {},
   "outputs": [
    {
     "data": {
      "text/html": [
       "<div>\n",
       "<style scoped>\n",
       "    .dataframe tbody tr th:only-of-type {\n",
       "        vertical-align: middle;\n",
       "    }\n",
       "\n",
       "    .dataframe tbody tr th {\n",
       "        vertical-align: top;\n",
       "    }\n",
       "\n",
       "    .dataframe thead th {\n",
       "        text-align: right;\n",
       "    }\n",
       "</style>\n",
       "<table border=\"1\" class=\"dataframe\">\n",
       "  <thead>\n",
       "    <tr style=\"text-align: right;\">\n",
       "      <th></th>\n",
       "      <th>Gender</th>\n",
       "      <th>Married</th>\n",
       "      <th>Dependents</th>\n",
       "      <th>Education</th>\n",
       "      <th>Self_Employed</th>\n",
       "      <th>ApplicantIncome</th>\n",
       "      <th>CoapplicantIncome</th>\n",
       "      <th>LoanAmount</th>\n",
       "      <th>Loan_Amount_Term</th>\n",
       "      <th>Credit_History</th>\n",
       "      <th>Property_Area</th>\n",
       "    </tr>\n",
       "  </thead>\n",
       "  <tbody>\n",
       "    <tr>\n",
       "      <th>22</th>\n",
       "      <td>0.0</td>\n",
       "      <td>1.0</td>\n",
       "      <td>0.000000</td>\n",
       "      <td>0.0</td>\n",
       "      <td>0.0</td>\n",
       "      <td>0.030303</td>\n",
       "      <td>0.045864</td>\n",
       "      <td>0.154848</td>\n",
       "      <td>0.74359</td>\n",
       "      <td>0.0</td>\n",
       "      <td>0.5</td>\n",
       "    </tr>\n",
       "    <tr>\n",
       "      <th>604</th>\n",
       "      <td>1.0</td>\n",
       "      <td>1.0</td>\n",
       "      <td>0.333333</td>\n",
       "      <td>1.0</td>\n",
       "      <td>0.0</td>\n",
       "      <td>0.146568</td>\n",
       "      <td>0.000000</td>\n",
       "      <td>0.704776</td>\n",
       "      <td>0.74359</td>\n",
       "      <td>1.0</td>\n",
       "      <td>0.5</td>\n",
       "    </tr>\n",
       "    <tr>\n",
       "      <th>181</th>\n",
       "      <td>0.0</td>\n",
       "      <td>0.0</td>\n",
       "      <td>0.000000</td>\n",
       "      <td>1.0</td>\n",
       "      <td>0.0</td>\n",
       "      <td>0.021843</td>\n",
       "      <td>0.121511</td>\n",
       "      <td>0.083936</td>\n",
       "      <td>0.74359</td>\n",
       "      <td>1.0</td>\n",
       "      <td>0.0</td>\n",
       "    </tr>\n",
       "    <tr>\n",
       "      <th>85</th>\n",
       "      <td>0.0</td>\n",
       "      <td>0.0</td>\n",
       "      <td>0.000000</td>\n",
       "      <td>1.0</td>\n",
       "      <td>0.0</td>\n",
       "      <td>0.027409</td>\n",
       "      <td>0.060744</td>\n",
       "      <td>0.183792</td>\n",
       "      <td>0.74359</td>\n",
       "      <td>1.0</td>\n",
       "      <td>0.5</td>\n",
       "    </tr>\n",
       "    <tr>\n",
       "      <th>391</th>\n",
       "      <td>0.0</td>\n",
       "      <td>1.0</td>\n",
       "      <td>1.000000</td>\n",
       "      <td>1.0</td>\n",
       "      <td>0.0</td>\n",
       "      <td>0.115696</td>\n",
       "      <td>0.000000</td>\n",
       "      <td>0.384949</td>\n",
       "      <td>0.74359</td>\n",
       "      <td>1.0</td>\n",
       "      <td>0.0</td>\n",
       "    </tr>\n",
       "    <tr>\n",
       "      <th>...</th>\n",
       "      <td>...</td>\n",
       "      <td>...</td>\n",
       "      <td>...</td>\n",
       "      <td>...</td>\n",
       "      <td>...</td>\n",
       "      <td>...</td>\n",
       "      <td>...</td>\n",
       "      <td>...</td>\n",
       "      <td>...</td>\n",
       "      <td>...</td>\n",
       "      <td>...</td>\n",
       "    </tr>\n",
       "    <tr>\n",
       "      <th>582</th>\n",
       "      <td>1.0</td>\n",
       "      <td>1.0</td>\n",
       "      <td>0.000000</td>\n",
       "      <td>1.0</td>\n",
       "      <td>0.0</td>\n",
       "      <td>0.037304</td>\n",
       "      <td>0.000000</td>\n",
       "      <td>0.039074</td>\n",
       "      <td>0.74359</td>\n",
       "      <td>1.0</td>\n",
       "      <td>0.5</td>\n",
       "    </tr>\n",
       "    <tr>\n",
       "      <th>316</th>\n",
       "      <td>0.0</td>\n",
       "      <td>1.0</td>\n",
       "      <td>0.666667</td>\n",
       "      <td>1.0</td>\n",
       "      <td>0.0</td>\n",
       "      <td>0.044119</td>\n",
       "      <td>0.000000</td>\n",
       "      <td>0.160637</td>\n",
       "      <td>0.74359</td>\n",
       "      <td>1.0</td>\n",
       "      <td>0.5</td>\n",
       "    </tr>\n",
       "    <tr>\n",
       "      <th>449</th>\n",
       "      <td>0.0</td>\n",
       "      <td>0.0</td>\n",
       "      <td>0.333333</td>\n",
       "      <td>0.0</td>\n",
       "      <td>1.0</td>\n",
       "      <td>0.032393</td>\n",
       "      <td>0.037008</td>\n",
       "      <td>0.261939</td>\n",
       "      <td>0.74359</td>\n",
       "      <td>1.0</td>\n",
       "      <td>0.5</td>\n",
       "    </tr>\n",
       "    <tr>\n",
       "      <th>224</th>\n",
       "      <td>0.0</td>\n",
       "      <td>1.0</td>\n",
       "      <td>0.000000</td>\n",
       "      <td>1.0</td>\n",
       "      <td>0.0</td>\n",
       "      <td>0.075448</td>\n",
       "      <td>0.000000</td>\n",
       "      <td>0.172214</td>\n",
       "      <td>0.74359</td>\n",
       "      <td>1.0</td>\n",
       "      <td>0.5</td>\n",
       "    </tr>\n",
       "    <tr>\n",
       "      <th>90</th>\n",
       "      <td>0.0</td>\n",
       "      <td>1.0</td>\n",
       "      <td>0.000000</td>\n",
       "      <td>1.0</td>\n",
       "      <td>0.0</td>\n",
       "      <td>0.034731</td>\n",
       "      <td>0.069599</td>\n",
       "      <td>0.176556</td>\n",
       "      <td>0.74359</td>\n",
       "      <td>1.0</td>\n",
       "      <td>0.5</td>\n",
       "    </tr>\n",
       "  </tbody>\n",
       "</table>\n",
       "<p>123 rows × 11 columns</p>\n",
       "</div>"
      ],
      "text/plain": [
       "     Gender  Married  Dependents  Education  Self_Employed  ApplicantIncome  \\\n",
       "22      0.0      1.0    0.000000        0.0            0.0         0.030303   \n",
       "604     1.0      1.0    0.333333        1.0            0.0         0.146568   \n",
       "181     0.0      0.0    0.000000        1.0            0.0         0.021843   \n",
       "85      0.0      0.0    0.000000        1.0            0.0         0.027409   \n",
       "391     0.0      1.0    1.000000        1.0            0.0         0.115696   \n",
       "..      ...      ...         ...        ...            ...              ...   \n",
       "582     1.0      1.0    0.000000        1.0            0.0         0.037304   \n",
       "316     0.0      1.0    0.666667        1.0            0.0         0.044119   \n",
       "449     0.0      0.0    0.333333        0.0            1.0         0.032393   \n",
       "224     0.0      1.0    0.000000        1.0            0.0         0.075448   \n",
       "90      0.0      1.0    0.000000        1.0            0.0         0.034731   \n",
       "\n",
       "     CoapplicantIncome  LoanAmount  Loan_Amount_Term  Credit_History  \\\n",
       "22            0.045864    0.154848           0.74359             0.0   \n",
       "604           0.000000    0.704776           0.74359             1.0   \n",
       "181           0.121511    0.083936           0.74359             1.0   \n",
       "85            0.060744    0.183792           0.74359             1.0   \n",
       "391           0.000000    0.384949           0.74359             1.0   \n",
       "..                 ...         ...               ...             ...   \n",
       "582           0.000000    0.039074           0.74359             1.0   \n",
       "316           0.000000    0.160637           0.74359             1.0   \n",
       "449           0.037008    0.261939           0.74359             1.0   \n",
       "224           0.000000    0.172214           0.74359             1.0   \n",
       "90            0.069599    0.176556           0.74359             1.0   \n",
       "\n",
       "     Property_Area  \n",
       "22             0.5  \n",
       "604            0.5  \n",
       "181            0.0  \n",
       "85             0.5  \n",
       "391            0.0  \n",
       "..             ...  \n",
       "582            0.5  \n",
       "316            0.5  \n",
       "449            0.5  \n",
       "224            0.5  \n",
       "90             0.5  \n",
       "\n",
       "[123 rows x 11 columns]"
      ]
     },
     "execution_count": 47,
     "metadata": {},
     "output_type": "execute_result"
    }
   ],
   "source": [
    "X_test"
   ]
  },
  {
   "cell_type": "code",
   "execution_count": 48,
   "id": "d4225c9e",
   "metadata": {
    "scrolled": true
   },
   "outputs": [
    {
     "data": {
      "text/html": [
       "<div>\n",
       "<style scoped>\n",
       "    .dataframe tbody tr th:only-of-type {\n",
       "        vertical-align: middle;\n",
       "    }\n",
       "\n",
       "    .dataframe tbody tr th {\n",
       "        vertical-align: top;\n",
       "    }\n",
       "\n",
       "    .dataframe thead th {\n",
       "        text-align: right;\n",
       "    }\n",
       "</style>\n",
       "<table border=\"1\" class=\"dataframe\">\n",
       "  <thead>\n",
       "    <tr style=\"text-align: right;\">\n",
       "      <th></th>\n",
       "      <th>Loan_ID</th>\n",
       "      <th>Gender</th>\n",
       "      <th>Married</th>\n",
       "      <th>Dependents</th>\n",
       "      <th>Education</th>\n",
       "      <th>Self_Employed</th>\n",
       "      <th>ApplicantIncome</th>\n",
       "      <th>CoapplicantIncome</th>\n",
       "      <th>LoanAmount</th>\n",
       "      <th>Loan_Amount_Term</th>\n",
       "      <th>Credit_History</th>\n",
       "      <th>Property_Area</th>\n",
       "    </tr>\n",
       "  </thead>\n",
       "  <tbody>\n",
       "    <tr>\n",
       "      <th>0</th>\n",
       "      <td>LP001015</td>\n",
       "      <td>0</td>\n",
       "      <td>1</td>\n",
       "      <td>0</td>\n",
       "      <td>1</td>\n",
       "      <td>0</td>\n",
       "      <td>5720</td>\n",
       "      <td>0</td>\n",
       "      <td>110.0</td>\n",
       "      <td>360.0</td>\n",
       "      <td>1.0</td>\n",
       "      <td>2</td>\n",
       "    </tr>\n",
       "    <tr>\n",
       "      <th>1</th>\n",
       "      <td>LP001022</td>\n",
       "      <td>0</td>\n",
       "      <td>1</td>\n",
       "      <td>1</td>\n",
       "      <td>1</td>\n",
       "      <td>0</td>\n",
       "      <td>3076</td>\n",
       "      <td>1500</td>\n",
       "      <td>126.0</td>\n",
       "      <td>360.0</td>\n",
       "      <td>1.0</td>\n",
       "      <td>2</td>\n",
       "    </tr>\n",
       "    <tr>\n",
       "      <th>2</th>\n",
       "      <td>LP001031</td>\n",
       "      <td>0</td>\n",
       "      <td>1</td>\n",
       "      <td>2</td>\n",
       "      <td>1</td>\n",
       "      <td>0</td>\n",
       "      <td>5000</td>\n",
       "      <td>1800</td>\n",
       "      <td>208.0</td>\n",
       "      <td>360.0</td>\n",
       "      <td>1.0</td>\n",
       "      <td>2</td>\n",
       "    </tr>\n",
       "    <tr>\n",
       "      <th>3</th>\n",
       "      <td>LP001035</td>\n",
       "      <td>0</td>\n",
       "      <td>1</td>\n",
       "      <td>2</td>\n",
       "      <td>1</td>\n",
       "      <td>0</td>\n",
       "      <td>2340</td>\n",
       "      <td>2546</td>\n",
       "      <td>100.0</td>\n",
       "      <td>360.0</td>\n",
       "      <td>1.0</td>\n",
       "      <td>2</td>\n",
       "    </tr>\n",
       "    <tr>\n",
       "      <th>4</th>\n",
       "      <td>LP001051</td>\n",
       "      <td>0</td>\n",
       "      <td>0</td>\n",
       "      <td>0</td>\n",
       "      <td>0</td>\n",
       "      <td>0</td>\n",
       "      <td>3276</td>\n",
       "      <td>0</td>\n",
       "      <td>78.0</td>\n",
       "      <td>360.0</td>\n",
       "      <td>1.0</td>\n",
       "      <td>2</td>\n",
       "    </tr>\n",
       "    <tr>\n",
       "      <th>...</th>\n",
       "      <td>...</td>\n",
       "      <td>...</td>\n",
       "      <td>...</td>\n",
       "      <td>...</td>\n",
       "      <td>...</td>\n",
       "      <td>...</td>\n",
       "      <td>...</td>\n",
       "      <td>...</td>\n",
       "      <td>...</td>\n",
       "      <td>...</td>\n",
       "      <td>...</td>\n",
       "      <td>...</td>\n",
       "    </tr>\n",
       "    <tr>\n",
       "      <th>362</th>\n",
       "      <td>LP002971</td>\n",
       "      <td>0</td>\n",
       "      <td>1</td>\n",
       "      <td>3</td>\n",
       "      <td>0</td>\n",
       "      <td>1</td>\n",
       "      <td>4009</td>\n",
       "      <td>1777</td>\n",
       "      <td>113.0</td>\n",
       "      <td>360.0</td>\n",
       "      <td>1.0</td>\n",
       "      <td>2</td>\n",
       "    </tr>\n",
       "    <tr>\n",
       "      <th>363</th>\n",
       "      <td>LP002975</td>\n",
       "      <td>0</td>\n",
       "      <td>1</td>\n",
       "      <td>0</td>\n",
       "      <td>1</td>\n",
       "      <td>0</td>\n",
       "      <td>4158</td>\n",
       "      <td>709</td>\n",
       "      <td>115.0</td>\n",
       "      <td>360.0</td>\n",
       "      <td>1.0</td>\n",
       "      <td>2</td>\n",
       "    </tr>\n",
       "    <tr>\n",
       "      <th>364</th>\n",
       "      <td>LP002980</td>\n",
       "      <td>0</td>\n",
       "      <td>0</td>\n",
       "      <td>0</td>\n",
       "      <td>1</td>\n",
       "      <td>0</td>\n",
       "      <td>3250</td>\n",
       "      <td>1993</td>\n",
       "      <td>126.0</td>\n",
       "      <td>360.0</td>\n",
       "      <td>1.0</td>\n",
       "      <td>1</td>\n",
       "    </tr>\n",
       "    <tr>\n",
       "      <th>365</th>\n",
       "      <td>LP002986</td>\n",
       "      <td>0</td>\n",
       "      <td>1</td>\n",
       "      <td>0</td>\n",
       "      <td>1</td>\n",
       "      <td>0</td>\n",
       "      <td>5000</td>\n",
       "      <td>2393</td>\n",
       "      <td>158.0</td>\n",
       "      <td>360.0</td>\n",
       "      <td>1.0</td>\n",
       "      <td>0</td>\n",
       "    </tr>\n",
       "    <tr>\n",
       "      <th>366</th>\n",
       "      <td>LP002989</td>\n",
       "      <td>0</td>\n",
       "      <td>0</td>\n",
       "      <td>0</td>\n",
       "      <td>1</td>\n",
       "      <td>1</td>\n",
       "      <td>9200</td>\n",
       "      <td>0</td>\n",
       "      <td>98.0</td>\n",
       "      <td>180.0</td>\n",
       "      <td>1.0</td>\n",
       "      <td>0</td>\n",
       "    </tr>\n",
       "  </tbody>\n",
       "</table>\n",
       "<p>367 rows × 12 columns</p>\n",
       "</div>"
      ],
      "text/plain": [
       "      Loan_ID  Gender  Married  Dependents  Education  Self_Employed  \\\n",
       "0    LP001015       0        1           0          1              0   \n",
       "1    LP001022       0        1           1          1              0   \n",
       "2    LP001031       0        1           2          1              0   \n",
       "3    LP001035       0        1           2          1              0   \n",
       "4    LP001051       0        0           0          0              0   \n",
       "..        ...     ...      ...         ...        ...            ...   \n",
       "362  LP002971       0        1           3          0              1   \n",
       "363  LP002975       0        1           0          1              0   \n",
       "364  LP002980       0        0           0          1              0   \n",
       "365  LP002986       0        1           0          1              0   \n",
       "366  LP002989       0        0           0          1              1   \n",
       "\n",
       "     ApplicantIncome  CoapplicantIncome  LoanAmount  Loan_Amount_Term  \\\n",
       "0               5720                  0       110.0             360.0   \n",
       "1               3076               1500       126.0             360.0   \n",
       "2               5000               1800       208.0             360.0   \n",
       "3               2340               2546       100.0             360.0   \n",
       "4               3276                  0        78.0             360.0   \n",
       "..               ...                ...         ...               ...   \n",
       "362             4009               1777       113.0             360.0   \n",
       "363             4158                709       115.0             360.0   \n",
       "364             3250               1993       126.0             360.0   \n",
       "365             5000               2393       158.0             360.0   \n",
       "366             9200                  0        98.0             180.0   \n",
       "\n",
       "     Credit_History  Property_Area  \n",
       "0               1.0              2  \n",
       "1               1.0              2  \n",
       "2               1.0              2  \n",
       "3               1.0              2  \n",
       "4               1.0              2  \n",
       "..              ...            ...  \n",
       "362             1.0              2  \n",
       "363             1.0              2  \n",
       "364             1.0              1  \n",
       "365             1.0              0  \n",
       "366             1.0              0  \n",
       "\n",
       "[367 rows x 12 columns]"
      ]
     },
     "execution_count": 48,
     "metadata": {},
     "output_type": "execute_result"
    }
   ],
   "source": [
    "test_df"
   ]
  },
  {
   "cell_type": "code",
   "execution_count": 49,
   "id": "53047538",
   "metadata": {},
   "outputs": [],
   "source": [
    "test=test_df.drop(columns=['Loan_ID'])\n",
    "# applying for loop to bring all the variables in range 0 to 1\n",
    "for i in  test.columns:\n",
    "    test[i] = (test[i] - test[i].min()) / (test[i].max() - test[i].min())"
   ]
  },
  {
   "cell_type": "code",
   "execution_count": 51,
   "id": "147e0eaa",
   "metadata": {},
   "outputs": [],
   "source": [
    "# test.drop(columns='Loan_Status',inplace=True)"
   ]
  },
  {
   "cell_type": "code",
   "execution_count": 52,
   "id": "17450823",
   "metadata": {},
   "outputs": [
    {
     "name": "stdout",
     "output_type": "stream",
     "text": [
      "12/12 [==============================] - 0s 3ms/step\n"
     ]
    }
   ],
   "source": [
    "pred = (model.predict(test) > 0.5).astype(\"int32\")"
   ]
  },
  {
   "cell_type": "code",
   "execution_count": 53,
   "id": "63796245",
   "metadata": {},
   "outputs": [
    {
     "data": {
      "text/plain": [
       "array([[1],\n",
       "       [1],\n",
       "       [1],\n",
       "       [1],\n",
       "       [1],\n",
       "       [1],\n",
       "       [1],\n",
       "       [0],\n",
       "       [1],\n",
       "       [1],\n",
       "       [1],\n",
       "       [1],\n",
       "       [1],\n",
       "       [0],\n",
       "       [1],\n",
       "       [1],\n",
       "       [1],\n",
       "       [1],\n",
       "       [1],\n",
       "       [1],\n",
       "       [1],\n",
       "       [1],\n",
       "       [1],\n",
       "       [1],\n",
       "       [1],\n",
       "       [0],\n",
       "       [1],\n",
       "       [1],\n",
       "       [1],\n",
       "       [1],\n",
       "       [1],\n",
       "       [1],\n",
       "       [1],\n",
       "       [1],\n",
       "       [1],\n",
       "       [0],\n",
       "       [1],\n",
       "       [1],\n",
       "       [1],\n",
       "       [1],\n",
       "       [1],\n",
       "       [1],\n",
       "       [1],\n",
       "       [1],\n",
       "       [1],\n",
       "       [1],\n",
       "       [1],\n",
       "       [1],\n",
       "       [1],\n",
       "       [1],\n",
       "       [1],\n",
       "       [1],\n",
       "       [1],\n",
       "       [1],\n",
       "       [1],\n",
       "       [0],\n",
       "       [1],\n",
       "       [1],\n",
       "       [0],\n",
       "       [1],\n",
       "       [1],\n",
       "       [1],\n",
       "       [1],\n",
       "       [0],\n",
       "       [1],\n",
       "       [1],\n",
       "       [0],\n",
       "       [0],\n",
       "       [1],\n",
       "       [0],\n",
       "       [1],\n",
       "       [1],\n",
       "       [1],\n",
       "       [1],\n",
       "       [1],\n",
       "       [1],\n",
       "       [1],\n",
       "       [1],\n",
       "       [1],\n",
       "       [1],\n",
       "       [0],\n",
       "       [1],\n",
       "       [0],\n",
       "       [1],\n",
       "       [0],\n",
       "       [1],\n",
       "       [1],\n",
       "       [1],\n",
       "       [1],\n",
       "       [1],\n",
       "       [1],\n",
       "       [1],\n",
       "       [1],\n",
       "       [1],\n",
       "       [0],\n",
       "       [1],\n",
       "       [1],\n",
       "       [1],\n",
       "       [1],\n",
       "       [1],\n",
       "       [1],\n",
       "       [0],\n",
       "       [1],\n",
       "       [1],\n",
       "       [1],\n",
       "       [1],\n",
       "       [0],\n",
       "       [1],\n",
       "       [1],\n",
       "       [1],\n",
       "       [1],\n",
       "       [1],\n",
       "       [1],\n",
       "       [1],\n",
       "       [1],\n",
       "       [1],\n",
       "       [1],\n",
       "       [0],\n",
       "       [0],\n",
       "       [0],\n",
       "       [1],\n",
       "       [1],\n",
       "       [1],\n",
       "       [0],\n",
       "       [0],\n",
       "       [1],\n",
       "       [0],\n",
       "       [1],\n",
       "       [1],\n",
       "       [1],\n",
       "       [1],\n",
       "       [1],\n",
       "       [1],\n",
       "       [1],\n",
       "       [1],\n",
       "       [1],\n",
       "       [1],\n",
       "       [1],\n",
       "       [1],\n",
       "       [1],\n",
       "       [0],\n",
       "       [1],\n",
       "       [0],\n",
       "       [1],\n",
       "       [1],\n",
       "       [1],\n",
       "       [1],\n",
       "       [0],\n",
       "       [1],\n",
       "       [1],\n",
       "       [1],\n",
       "       [1],\n",
       "       [1],\n",
       "       [0],\n",
       "       [1],\n",
       "       [1],\n",
       "       [1],\n",
       "       [1],\n",
       "       [1],\n",
       "       [1],\n",
       "       [1],\n",
       "       [0],\n",
       "       [1],\n",
       "       [1],\n",
       "       [1],\n",
       "       [0],\n",
       "       [0],\n",
       "       [1],\n",
       "       [0],\n",
       "       [1],\n",
       "       [1],\n",
       "       [1],\n",
       "       [1],\n",
       "       [0],\n",
       "       [0],\n",
       "       [1],\n",
       "       [1],\n",
       "       [1],\n",
       "       [1],\n",
       "       [1],\n",
       "       [1],\n",
       "       [1],\n",
       "       [1],\n",
       "       [1],\n",
       "       [1],\n",
       "       [1],\n",
       "       [1],\n",
       "       [1],\n",
       "       [1],\n",
       "       [1],\n",
       "       [1],\n",
       "       [1],\n",
       "       [0],\n",
       "       [0],\n",
       "       [1],\n",
       "       [1],\n",
       "       [0],\n",
       "       [1],\n",
       "       [0],\n",
       "       [1],\n",
       "       [1],\n",
       "       [1],\n",
       "       [1],\n",
       "       [1],\n",
       "       [1],\n",
       "       [1],\n",
       "       [1],\n",
       "       [1],\n",
       "       [1],\n",
       "       [1],\n",
       "       [1],\n",
       "       [0],\n",
       "       [1],\n",
       "       [1],\n",
       "       [1],\n",
       "       [1],\n",
       "       [1],\n",
       "       [1],\n",
       "       [1],\n",
       "       [1],\n",
       "       [1],\n",
       "       [1],\n",
       "       [1],\n",
       "       [1],\n",
       "       [0],\n",
       "       [1],\n",
       "       [1],\n",
       "       [1],\n",
       "       [1],\n",
       "       [0],\n",
       "       [0],\n",
       "       [1],\n",
       "       [1],\n",
       "       [1],\n",
       "       [1],\n",
       "       [0],\n",
       "       [0],\n",
       "       [1],\n",
       "       [1],\n",
       "       [1],\n",
       "       [1],\n",
       "       [0],\n",
       "       [1],\n",
       "       [0],\n",
       "       [1],\n",
       "       [0],\n",
       "       [1],\n",
       "       [1],\n",
       "       [1],\n",
       "       [1],\n",
       "       [0],\n",
       "       [1],\n",
       "       [1],\n",
       "       [1],\n",
       "       [1],\n",
       "       [0],\n",
       "       [1],\n",
       "       [1],\n",
       "       [1],\n",
       "       [1],\n",
       "       [1],\n",
       "       [1],\n",
       "       [1],\n",
       "       [1],\n",
       "       [1],\n",
       "       [1],\n",
       "       [0],\n",
       "       [1],\n",
       "       [0],\n",
       "       [1],\n",
       "       [1],\n",
       "       [1],\n",
       "       [1],\n",
       "       [0],\n",
       "       [0],\n",
       "       [1],\n",
       "       [1],\n",
       "       [1],\n",
       "       [0],\n",
       "       [1],\n",
       "       [1],\n",
       "       [1],\n",
       "       [1],\n",
       "       [1],\n",
       "       [0],\n",
       "       [1],\n",
       "       [1],\n",
       "       [1],\n",
       "       [1],\n",
       "       [1],\n",
       "       [1],\n",
       "       [1],\n",
       "       [1],\n",
       "       [0],\n",
       "       [1],\n",
       "       [1],\n",
       "       [1],\n",
       "       [1],\n",
       "       [1],\n",
       "       [1],\n",
       "       [1],\n",
       "       [0],\n",
       "       [1],\n",
       "       [1],\n",
       "       [1],\n",
       "       [1],\n",
       "       [1],\n",
       "       [1],\n",
       "       [1],\n",
       "       [1],\n",
       "       [1],\n",
       "       [0],\n",
       "       [1],\n",
       "       [1],\n",
       "       [1],\n",
       "       [1],\n",
       "       [1],\n",
       "       [0],\n",
       "       [1],\n",
       "       [1],\n",
       "       [1],\n",
       "       [1],\n",
       "       [1],\n",
       "       [1],\n",
       "       [1],\n",
       "       [0],\n",
       "       [1],\n",
       "       [1],\n",
       "       [1],\n",
       "       [1],\n",
       "       [1],\n",
       "       [1],\n",
       "       [1],\n",
       "       [1],\n",
       "       [1],\n",
       "       [1],\n",
       "       [1],\n",
       "       [1],\n",
       "       [1],\n",
       "       [0],\n",
       "       [1],\n",
       "       [1],\n",
       "       [1],\n",
       "       [1],\n",
       "       [1],\n",
       "       [1],\n",
       "       [0],\n",
       "       [1],\n",
       "       [1],\n",
       "       [1],\n",
       "       [1],\n",
       "       [1],\n",
       "       [1],\n",
       "       [1],\n",
       "       [0],\n",
       "       [1],\n",
       "       [1],\n",
       "       [1],\n",
       "       [1],\n",
       "       [1],\n",
       "       [1],\n",
       "       [1],\n",
       "       [1],\n",
       "       [1],\n",
       "       [1],\n",
       "       [1],\n",
       "       [1]])"
      ]
     },
     "execution_count": 53,
     "metadata": {},
     "output_type": "execute_result"
    }
   ],
   "source": [
    "pred"
   ]
  },
  {
   "cell_type": "code",
   "execution_count": 54,
   "id": "2ba75860",
   "metadata": {},
   "outputs": [],
   "source": [
    "test_df['Loan_Status']=pred"
   ]
  },
  {
   "cell_type": "code",
   "execution_count": 55,
   "id": "0fb8eb1b",
   "metadata": {},
   "outputs": [
    {
     "data": {
      "text/html": [
       "<div>\n",
       "<style scoped>\n",
       "    .dataframe tbody tr th:only-of-type {\n",
       "        vertical-align: middle;\n",
       "    }\n",
       "\n",
       "    .dataframe tbody tr th {\n",
       "        vertical-align: top;\n",
       "    }\n",
       "\n",
       "    .dataframe thead th {\n",
       "        text-align: right;\n",
       "    }\n",
       "</style>\n",
       "<table border=\"1\" class=\"dataframe\">\n",
       "  <thead>\n",
       "    <tr style=\"text-align: right;\">\n",
       "      <th></th>\n",
       "      <th>Loan_ID</th>\n",
       "      <th>Gender</th>\n",
       "      <th>Married</th>\n",
       "      <th>Dependents</th>\n",
       "      <th>Education</th>\n",
       "      <th>Self_Employed</th>\n",
       "      <th>ApplicantIncome</th>\n",
       "      <th>CoapplicantIncome</th>\n",
       "      <th>LoanAmount</th>\n",
       "      <th>Loan_Amount_Term</th>\n",
       "      <th>Credit_History</th>\n",
       "      <th>Property_Area</th>\n",
       "      <th>Loan_Status</th>\n",
       "    </tr>\n",
       "  </thead>\n",
       "  <tbody>\n",
       "    <tr>\n",
       "      <th>0</th>\n",
       "      <td>LP001015</td>\n",
       "      <td>0</td>\n",
       "      <td>1</td>\n",
       "      <td>0</td>\n",
       "      <td>1</td>\n",
       "      <td>0</td>\n",
       "      <td>5720</td>\n",
       "      <td>0</td>\n",
       "      <td>110.0</td>\n",
       "      <td>360.0</td>\n",
       "      <td>1.0</td>\n",
       "      <td>2</td>\n",
       "      <td>1</td>\n",
       "    </tr>\n",
       "    <tr>\n",
       "      <th>1</th>\n",
       "      <td>LP001022</td>\n",
       "      <td>0</td>\n",
       "      <td>1</td>\n",
       "      <td>1</td>\n",
       "      <td>1</td>\n",
       "      <td>0</td>\n",
       "      <td>3076</td>\n",
       "      <td>1500</td>\n",
       "      <td>126.0</td>\n",
       "      <td>360.0</td>\n",
       "      <td>1.0</td>\n",
       "      <td>2</td>\n",
       "      <td>1</td>\n",
       "    </tr>\n",
       "    <tr>\n",
       "      <th>2</th>\n",
       "      <td>LP001031</td>\n",
       "      <td>0</td>\n",
       "      <td>1</td>\n",
       "      <td>2</td>\n",
       "      <td>1</td>\n",
       "      <td>0</td>\n",
       "      <td>5000</td>\n",
       "      <td>1800</td>\n",
       "      <td>208.0</td>\n",
       "      <td>360.0</td>\n",
       "      <td>1.0</td>\n",
       "      <td>2</td>\n",
       "      <td>1</td>\n",
       "    </tr>\n",
       "    <tr>\n",
       "      <th>3</th>\n",
       "      <td>LP001035</td>\n",
       "      <td>0</td>\n",
       "      <td>1</td>\n",
       "      <td>2</td>\n",
       "      <td>1</td>\n",
       "      <td>0</td>\n",
       "      <td>2340</td>\n",
       "      <td>2546</td>\n",
       "      <td>100.0</td>\n",
       "      <td>360.0</td>\n",
       "      <td>1.0</td>\n",
       "      <td>2</td>\n",
       "      <td>1</td>\n",
       "    </tr>\n",
       "    <tr>\n",
       "      <th>4</th>\n",
       "      <td>LP001051</td>\n",
       "      <td>0</td>\n",
       "      <td>0</td>\n",
       "      <td>0</td>\n",
       "      <td>0</td>\n",
       "      <td>0</td>\n",
       "      <td>3276</td>\n",
       "      <td>0</td>\n",
       "      <td>78.0</td>\n",
       "      <td>360.0</td>\n",
       "      <td>1.0</td>\n",
       "      <td>2</td>\n",
       "      <td>1</td>\n",
       "    </tr>\n",
       "    <tr>\n",
       "      <th>...</th>\n",
       "      <td>...</td>\n",
       "      <td>...</td>\n",
       "      <td>...</td>\n",
       "      <td>...</td>\n",
       "      <td>...</td>\n",
       "      <td>...</td>\n",
       "      <td>...</td>\n",
       "      <td>...</td>\n",
       "      <td>...</td>\n",
       "      <td>...</td>\n",
       "      <td>...</td>\n",
       "      <td>...</td>\n",
       "      <td>...</td>\n",
       "    </tr>\n",
       "    <tr>\n",
       "      <th>362</th>\n",
       "      <td>LP002971</td>\n",
       "      <td>0</td>\n",
       "      <td>1</td>\n",
       "      <td>3</td>\n",
       "      <td>0</td>\n",
       "      <td>1</td>\n",
       "      <td>4009</td>\n",
       "      <td>1777</td>\n",
       "      <td>113.0</td>\n",
       "      <td>360.0</td>\n",
       "      <td>1.0</td>\n",
       "      <td>2</td>\n",
       "      <td>1</td>\n",
       "    </tr>\n",
       "    <tr>\n",
       "      <th>363</th>\n",
       "      <td>LP002975</td>\n",
       "      <td>0</td>\n",
       "      <td>1</td>\n",
       "      <td>0</td>\n",
       "      <td>1</td>\n",
       "      <td>0</td>\n",
       "      <td>4158</td>\n",
       "      <td>709</td>\n",
       "      <td>115.0</td>\n",
       "      <td>360.0</td>\n",
       "      <td>1.0</td>\n",
       "      <td>2</td>\n",
       "      <td>1</td>\n",
       "    </tr>\n",
       "    <tr>\n",
       "      <th>364</th>\n",
       "      <td>LP002980</td>\n",
       "      <td>0</td>\n",
       "      <td>0</td>\n",
       "      <td>0</td>\n",
       "      <td>1</td>\n",
       "      <td>0</td>\n",
       "      <td>3250</td>\n",
       "      <td>1993</td>\n",
       "      <td>126.0</td>\n",
       "      <td>360.0</td>\n",
       "      <td>1.0</td>\n",
       "      <td>1</td>\n",
       "      <td>1</td>\n",
       "    </tr>\n",
       "    <tr>\n",
       "      <th>365</th>\n",
       "      <td>LP002986</td>\n",
       "      <td>0</td>\n",
       "      <td>1</td>\n",
       "      <td>0</td>\n",
       "      <td>1</td>\n",
       "      <td>0</td>\n",
       "      <td>5000</td>\n",
       "      <td>2393</td>\n",
       "      <td>158.0</td>\n",
       "      <td>360.0</td>\n",
       "      <td>1.0</td>\n",
       "      <td>0</td>\n",
       "      <td>1</td>\n",
       "    </tr>\n",
       "    <tr>\n",
       "      <th>366</th>\n",
       "      <td>LP002989</td>\n",
       "      <td>0</td>\n",
       "      <td>0</td>\n",
       "      <td>0</td>\n",
       "      <td>1</td>\n",
       "      <td>1</td>\n",
       "      <td>9200</td>\n",
       "      <td>0</td>\n",
       "      <td>98.0</td>\n",
       "      <td>180.0</td>\n",
       "      <td>1.0</td>\n",
       "      <td>0</td>\n",
       "      <td>1</td>\n",
       "    </tr>\n",
       "  </tbody>\n",
       "</table>\n",
       "<p>367 rows × 13 columns</p>\n",
       "</div>"
      ],
      "text/plain": [
       "      Loan_ID  Gender  Married  Dependents  Education  Self_Employed  \\\n",
       "0    LP001015       0        1           0          1              0   \n",
       "1    LP001022       0        1           1          1              0   \n",
       "2    LP001031       0        1           2          1              0   \n",
       "3    LP001035       0        1           2          1              0   \n",
       "4    LP001051       0        0           0          0              0   \n",
       "..        ...     ...      ...         ...        ...            ...   \n",
       "362  LP002971       0        1           3          0              1   \n",
       "363  LP002975       0        1           0          1              0   \n",
       "364  LP002980       0        0           0          1              0   \n",
       "365  LP002986       0        1           0          1              0   \n",
       "366  LP002989       0        0           0          1              1   \n",
       "\n",
       "     ApplicantIncome  CoapplicantIncome  LoanAmount  Loan_Amount_Term  \\\n",
       "0               5720                  0       110.0             360.0   \n",
       "1               3076               1500       126.0             360.0   \n",
       "2               5000               1800       208.0             360.0   \n",
       "3               2340               2546       100.0             360.0   \n",
       "4               3276                  0        78.0             360.0   \n",
       "..               ...                ...         ...               ...   \n",
       "362             4009               1777       113.0             360.0   \n",
       "363             4158                709       115.0             360.0   \n",
       "364             3250               1993       126.0             360.0   \n",
       "365             5000               2393       158.0             360.0   \n",
       "366             9200                  0        98.0             180.0   \n",
       "\n",
       "     Credit_History  Property_Area  Loan_Status  \n",
       "0               1.0              2            1  \n",
       "1               1.0              2            1  \n",
       "2               1.0              2            1  \n",
       "3               1.0              2            1  \n",
       "4               1.0              2            1  \n",
       "..              ...            ...          ...  \n",
       "362             1.0              2            1  \n",
       "363             1.0              2            1  \n",
       "364             1.0              1            1  \n",
       "365             1.0              0            1  \n",
       "366             1.0              0            1  \n",
       "\n",
       "[367 rows x 13 columns]"
      ]
     },
     "execution_count": 55,
     "metadata": {},
     "output_type": "execute_result"
    }
   ],
   "source": [
    "test_df"
   ]
  },
  {
   "cell_type": "code",
   "execution_count": 56,
   "id": "79685ec0",
   "metadata": {},
   "outputs": [
    {
     "data": {
      "text/html": [
       "<div>\n",
       "<style scoped>\n",
       "    .dataframe tbody tr th:only-of-type {\n",
       "        vertical-align: middle;\n",
       "    }\n",
       "\n",
       "    .dataframe tbody tr th {\n",
       "        vertical-align: top;\n",
       "    }\n",
       "\n",
       "    .dataframe thead th {\n",
       "        text-align: right;\n",
       "    }\n",
       "</style>\n",
       "<table border=\"1\" class=\"dataframe\">\n",
       "  <thead>\n",
       "    <tr style=\"text-align: right;\">\n",
       "      <th></th>\n",
       "      <th>Loan_ID</th>\n",
       "      <th>Gender</th>\n",
       "      <th>Married</th>\n",
       "      <th>Dependents</th>\n",
       "      <th>Education</th>\n",
       "      <th>Self_Employed</th>\n",
       "      <th>ApplicantIncome</th>\n",
       "      <th>CoapplicantIncome</th>\n",
       "      <th>LoanAmount</th>\n",
       "      <th>Loan_Amount_Term</th>\n",
       "      <th>Credit_History</th>\n",
       "      <th>Property_Area</th>\n",
       "      <th>Loan_Status</th>\n",
       "    </tr>\n",
       "  </thead>\n",
       "  <tbody>\n",
       "    <tr>\n",
       "      <th>0</th>\n",
       "      <td>LP001015</td>\n",
       "      <td>0</td>\n",
       "      <td>1</td>\n",
       "      <td>0</td>\n",
       "      <td>1</td>\n",
       "      <td>0</td>\n",
       "      <td>5720</td>\n",
       "      <td>0</td>\n",
       "      <td>110.0</td>\n",
       "      <td>360.0</td>\n",
       "      <td>1.0</td>\n",
       "      <td>2</td>\n",
       "      <td>Y</td>\n",
       "    </tr>\n",
       "    <tr>\n",
       "      <th>1</th>\n",
       "      <td>LP001022</td>\n",
       "      <td>0</td>\n",
       "      <td>1</td>\n",
       "      <td>1</td>\n",
       "      <td>1</td>\n",
       "      <td>0</td>\n",
       "      <td>3076</td>\n",
       "      <td>1500</td>\n",
       "      <td>126.0</td>\n",
       "      <td>360.0</td>\n",
       "      <td>1.0</td>\n",
       "      <td>2</td>\n",
       "      <td>Y</td>\n",
       "    </tr>\n",
       "    <tr>\n",
       "      <th>2</th>\n",
       "      <td>LP001031</td>\n",
       "      <td>0</td>\n",
       "      <td>1</td>\n",
       "      <td>2</td>\n",
       "      <td>1</td>\n",
       "      <td>0</td>\n",
       "      <td>5000</td>\n",
       "      <td>1800</td>\n",
       "      <td>208.0</td>\n",
       "      <td>360.0</td>\n",
       "      <td>1.0</td>\n",
       "      <td>2</td>\n",
       "      <td>Y</td>\n",
       "    </tr>\n",
       "    <tr>\n",
       "      <th>3</th>\n",
       "      <td>LP001035</td>\n",
       "      <td>0</td>\n",
       "      <td>1</td>\n",
       "      <td>2</td>\n",
       "      <td>1</td>\n",
       "      <td>0</td>\n",
       "      <td>2340</td>\n",
       "      <td>2546</td>\n",
       "      <td>100.0</td>\n",
       "      <td>360.0</td>\n",
       "      <td>1.0</td>\n",
       "      <td>2</td>\n",
       "      <td>Y</td>\n",
       "    </tr>\n",
       "    <tr>\n",
       "      <th>4</th>\n",
       "      <td>LP001051</td>\n",
       "      <td>0</td>\n",
       "      <td>0</td>\n",
       "      <td>0</td>\n",
       "      <td>0</td>\n",
       "      <td>0</td>\n",
       "      <td>3276</td>\n",
       "      <td>0</td>\n",
       "      <td>78.0</td>\n",
       "      <td>360.0</td>\n",
       "      <td>1.0</td>\n",
       "      <td>2</td>\n",
       "      <td>Y</td>\n",
       "    </tr>\n",
       "  </tbody>\n",
       "</table>\n",
       "</div>"
      ],
      "text/plain": [
       "    Loan_ID  Gender  Married  Dependents  Education  Self_Employed  \\\n",
       "0  LP001015       0        1           0          1              0   \n",
       "1  LP001022       0        1           1          1              0   \n",
       "2  LP001031       0        1           2          1              0   \n",
       "3  LP001035       0        1           2          1              0   \n",
       "4  LP001051       0        0           0          0              0   \n",
       "\n",
       "   ApplicantIncome  CoapplicantIncome  LoanAmount  Loan_Amount_Term  \\\n",
       "0             5720                  0       110.0             360.0   \n",
       "1             3076               1500       126.0             360.0   \n",
       "2             5000               1800       208.0             360.0   \n",
       "3             2340               2546       100.0             360.0   \n",
       "4             3276                  0        78.0             360.0   \n",
       "\n",
       "   Credit_History  Property_Area Loan_Status  \n",
       "0             1.0              2           Y  \n",
       "1             1.0              2           Y  \n",
       "2             1.0              2           Y  \n",
       "3             1.0              2           Y  \n",
       "4             1.0              2           Y  "
      ]
     },
     "execution_count": 56,
     "metadata": {},
     "output_type": "execute_result"
    }
   ],
   "source": [
    "\n",
    "\n",
    "test_df['Loan_Status']=test_df.Loan_Status.map({1:'Y',0:'N'})\n",
    "test_df.head()\n"
   ]
  },
  {
   "cell_type": "code",
   "execution_count": null,
   "id": "e922a210",
   "metadata": {},
   "outputs": [],
   "source": []
  }
 ],
 "metadata": {
  "kernelspec": {
   "display_name": "Python 3 (ipykernel)",
   "language": "python",
   "name": "python3"
  },
  "language_info": {
   "codemirror_mode": {
    "name": "ipython",
    "version": 3
   },
   "file_extension": ".py",
   "mimetype": "text/x-python",
   "name": "python",
   "nbconvert_exporter": "python",
   "pygments_lexer": "ipython3",
   "version": "3.9.12"
  },
  "papermill": {
   "default_parameters": {},
   "duration": 32.704552,
   "end_time": "2021-10-18T14:51:52.992263",
   "environment_variables": {},
   "exception": true,
   "input_path": "__notebook__.ipynb",
   "output_path": "__notebook__.ipynb",
   "parameters": {},
   "start_time": "2021-10-18T14:51:20.287711",
   "version": "2.3.3"
  },
  "widgets": {
   "application/vnd.jupyter.widget-state+json": {
    "state": {
     "08b46d26a92b44acad9f852c0ed14c4a": {
      "model_module": "@jupyter-widgets/controls",
      "model_module_version": "1.5.0",
      "model_name": "DescriptionStyleModel",
      "state": {
       "_model_module": "@jupyter-widgets/controls",
       "_model_module_version": "1.5.0",
       "_model_name": "DescriptionStyleModel",
       "_view_count": null,
       "_view_module": "@jupyter-widgets/base",
       "_view_module_version": "1.2.0",
       "_view_name": "StyleView",
       "description_width": ""
      }
     },
     "1db299c9386a49ae9f88deb055e23614": {
      "model_module": "@jupyter-widgets/base",
      "model_module_version": "1.2.0",
      "model_name": "LayoutModel",
      "state": {
       "_model_module": "@jupyter-widgets/base",
       "_model_module_version": "1.2.0",
       "_model_name": "LayoutModel",
       "_view_count": null,
       "_view_module": "@jupyter-widgets/base",
       "_view_module_version": "1.2.0",
       "_view_name": "LayoutView",
       "align_content": null,
       "align_items": null,
       "align_self": null,
       "border": null,
       "bottom": null,
       "display": null,
       "flex": null,
       "flex_flow": null,
       "grid_area": null,
       "grid_auto_columns": null,
       "grid_auto_flow": null,
       "grid_auto_rows": null,
       "grid_column": null,
       "grid_gap": null,
       "grid_row": null,
       "grid_template_areas": null,
       "grid_template_columns": null,
       "grid_template_rows": null,
       "height": null,
       "justify_content": null,
       "justify_items": null,
       "left": null,
       "margin": null,
       "max_height": null,
       "max_width": null,
       "min_height": null,
       "min_width": null,
       "object_fit": null,
       "object_position": null,
       "order": null,
       "overflow": null,
       "overflow_x": null,
       "overflow_y": null,
       "padding": null,
       "right": null,
       "top": null,
       "visibility": null,
       "width": null
      }
     },
     "1e4ef80235c34532bb4bd61630c20696": {
      "model_module": "@jupyter-widgets/base",
      "model_module_version": "1.2.0",
      "model_name": "LayoutModel",
      "state": {
       "_model_module": "@jupyter-widgets/base",
       "_model_module_version": "1.2.0",
       "_model_name": "LayoutModel",
       "_view_count": null,
       "_view_module": "@jupyter-widgets/base",
       "_view_module_version": "1.2.0",
       "_view_name": "LayoutView",
       "align_content": null,
       "align_items": null,
       "align_self": null,
       "border": null,
       "bottom": null,
       "display": null,
       "flex": null,
       "flex_flow": null,
       "grid_area": null,
       "grid_auto_columns": null,
       "grid_auto_flow": null,
       "grid_auto_rows": null,
       "grid_column": null,
       "grid_gap": null,
       "grid_row": null,
       "grid_template_areas": null,
       "grid_template_columns": null,
       "grid_template_rows": null,
       "height": null,
       "justify_content": null,
       "justify_items": null,
       "left": null,
       "margin": null,
       "max_height": null,
       "max_width": null,
       "min_height": null,
       "min_width": null,
       "object_fit": null,
       "object_position": null,
       "order": null,
       "overflow": null,
       "overflow_x": null,
       "overflow_y": null,
       "padding": null,
       "right": null,
       "top": null,
       "visibility": null,
       "width": null
      }
     },
     "2a84819987bc48318cdfde72f68b3cb8": {
      "model_module": "@jupyter-widgets/controls",
      "model_module_version": "1.5.0",
      "model_name": "FloatProgressModel",
      "state": {
       "_dom_classes": [],
       "_model_module": "@jupyter-widgets/controls",
       "_model_module_version": "1.5.0",
       "_model_name": "FloatProgressModel",
       "_view_count": null,
       "_view_module": "@jupyter-widgets/controls",
       "_view_module_version": "1.5.0",
       "_view_name": "ProgressView",
       "bar_style": "success",
       "description": "",
       "description_tooltip": null,
       "layout": "IPY_MODEL_1e4ef80235c34532bb4bd61630c20696",
       "max": 26,
       "min": 0,
       "orientation": "horizontal",
       "style": "IPY_MODEL_4ed26d5ebb764c32b6dbf79ad1fd85a7",
       "value": 26
      }
     },
     "4ed26d5ebb764c32b6dbf79ad1fd85a7": {
      "model_module": "@jupyter-widgets/controls",
      "model_module_version": "1.5.0",
      "model_name": "ProgressStyleModel",
      "state": {
       "_model_module": "@jupyter-widgets/controls",
       "_model_module_version": "1.5.0",
       "_model_name": "ProgressStyleModel",
       "_view_count": null,
       "_view_module": "@jupyter-widgets/base",
       "_view_module_version": "1.2.0",
       "_view_name": "StyleView",
       "bar_color": null,
       "description_width": ""
      }
     },
     "50790a8251a44466a5396ac6bb5b8319": {
      "model_module": "@jupyter-widgets/base",
      "model_module_version": "1.2.0",
      "model_name": "LayoutModel",
      "state": {
       "_model_module": "@jupyter-widgets/base",
       "_model_module_version": "1.2.0",
       "_model_name": "LayoutModel",
       "_view_count": null,
       "_view_module": "@jupyter-widgets/base",
       "_view_module_version": "1.2.0",
       "_view_name": "LayoutView",
       "align_content": null,
       "align_items": null,
       "align_self": null,
       "border": null,
       "bottom": null,
       "display": null,
       "flex": null,
       "flex_flow": null,
       "grid_area": null,
       "grid_auto_columns": null,
       "grid_auto_flow": null,
       "grid_auto_rows": null,
       "grid_column": null,
       "grid_gap": null,
       "grid_row": null,
       "grid_template_areas": null,
       "grid_template_columns": null,
       "grid_template_rows": null,
       "height": null,
       "justify_content": null,
       "justify_items": null,
       "left": null,
       "margin": null,
       "max_height": null,
       "max_width": null,
       "min_height": null,
       "min_width": null,
       "object_fit": null,
       "object_position": null,
       "order": null,
       "overflow": null,
       "overflow_x": null,
       "overflow_y": null,
       "padding": null,
       "right": null,
       "top": null,
       "visibility": null,
       "width": null
      }
     },
     "5706e9a899f5483398eaaeb9eb39e473": {
      "model_module": "@jupyter-widgets/controls",
      "model_module_version": "1.5.0",
      "model_name": "DescriptionStyleModel",
      "state": {
       "_model_module": "@jupyter-widgets/controls",
       "_model_module_version": "1.5.0",
       "_model_name": "DescriptionStyleModel",
       "_view_count": null,
       "_view_module": "@jupyter-widgets/base",
       "_view_module_version": "1.2.0",
       "_view_name": "StyleView",
       "description_width": ""
      }
     },
     "5a89a6d8a7d64eb1af02834f1cde7160": {
      "model_module": "@jupyter-widgets/base",
      "model_module_version": "1.2.0",
      "model_name": "LayoutModel",
      "state": {
       "_model_module": "@jupyter-widgets/base",
       "_model_module_version": "1.2.0",
       "_model_name": "LayoutModel",
       "_view_count": null,
       "_view_module": "@jupyter-widgets/base",
       "_view_module_version": "1.2.0",
       "_view_name": "LayoutView",
       "align_content": null,
       "align_items": null,
       "align_self": null,
       "border": null,
       "bottom": null,
       "display": null,
       "flex": null,
       "flex_flow": null,
       "grid_area": null,
       "grid_auto_columns": null,
       "grid_auto_flow": null,
       "grid_auto_rows": null,
       "grid_column": null,
       "grid_gap": null,
       "grid_row": null,
       "grid_template_areas": null,
       "grid_template_columns": null,
       "grid_template_rows": null,
       "height": null,
       "justify_content": null,
       "justify_items": null,
       "left": null,
       "margin": null,
       "max_height": null,
       "max_width": null,
       "min_height": null,
       "min_width": null,
       "object_fit": null,
       "object_position": null,
       "order": null,
       "overflow": null,
       "overflow_x": null,
       "overflow_y": null,
       "padding": null,
       "right": null,
       "top": null,
       "visibility": null,
       "width": null
      }
     },
     "5aed7406692a45aca1d407df821f4fca": {
      "model_module": "@jupyter-widgets/controls",
      "model_module_version": "1.5.0",
      "model_name": "HTMLModel",
      "state": {
       "_dom_classes": [],
       "_model_module": "@jupyter-widgets/controls",
       "_model_module_version": "1.5.0",
       "_model_name": "HTMLModel",
       "_view_count": null,
       "_view_module": "@jupyter-widgets/controls",
       "_view_module_version": "1.5.0",
       "_view_name": "HTMLView",
       "description": "",
       "description_tooltip": null,
       "layout": "IPY_MODEL_d9d55382f31944169e3b5044730f3718",
       "placeholder": "​",
       "style": "IPY_MODEL_f0164a5f174d415ca05a8b89e299676e",
       "value": "Summarize dataset: 100%"
      }
     },
     "5f4eb1cbcdee4cd4870a329b3b7b4b3e": {
      "model_module": "@jupyter-widgets/base",
      "model_module_version": "1.2.0",
      "model_name": "LayoutModel",
      "state": {
       "_model_module": "@jupyter-widgets/base",
       "_model_module_version": "1.2.0",
       "_model_name": "LayoutModel",
       "_view_count": null,
       "_view_module": "@jupyter-widgets/base",
       "_view_module_version": "1.2.0",
       "_view_name": "LayoutView",
       "align_content": null,
       "align_items": null,
       "align_self": null,
       "border": null,
       "bottom": null,
       "display": null,
       "flex": null,
       "flex_flow": null,
       "grid_area": null,
       "grid_auto_columns": null,
       "grid_auto_flow": null,
       "grid_auto_rows": null,
       "grid_column": null,
       "grid_gap": null,
       "grid_row": null,
       "grid_template_areas": null,
       "grid_template_columns": null,
       "grid_template_rows": null,
       "height": null,
       "justify_content": null,
       "justify_items": null,
       "left": null,
       "margin": null,
       "max_height": null,
       "max_width": null,
       "min_height": null,
       "min_width": null,
       "object_fit": null,
       "object_position": null,
       "order": null,
       "overflow": null,
       "overflow_x": null,
       "overflow_y": null,
       "padding": null,
       "right": null,
       "top": null,
       "visibility": null,
       "width": null
      }
     },
     "6e1ea5802d1241d2a94dd2fd42ab228a": {
      "model_module": "@jupyter-widgets/controls",
      "model_module_version": "1.5.0",
      "model_name": "HTMLModel",
      "state": {
       "_dom_classes": [],
       "_model_module": "@jupyter-widgets/controls",
       "_model_module_version": "1.5.0",
       "_model_name": "HTMLModel",
       "_view_count": null,
       "_view_module": "@jupyter-widgets/controls",
       "_view_module_version": "1.5.0",
       "_view_name": "HTMLView",
       "description": "",
       "description_tooltip": null,
       "layout": "IPY_MODEL_c44cb7a4fe2b49279533bae3590f3a0e",
       "placeholder": "​",
       "style": "IPY_MODEL_9e2072c0447e40008c901d74b2f21806",
       "value": " 1/1 [00:07&lt;00:00,  7.19s/it]"
      }
     },
     "718ec96d657046ada58311a6141d65ba": {
      "model_module": "@jupyter-widgets/base",
      "model_module_version": "1.2.0",
      "model_name": "LayoutModel",
      "state": {
       "_model_module": "@jupyter-widgets/base",
       "_model_module_version": "1.2.0",
       "_model_name": "LayoutModel",
       "_view_count": null,
       "_view_module": "@jupyter-widgets/base",
       "_view_module_version": "1.2.0",
       "_view_name": "LayoutView",
       "align_content": null,
       "align_items": null,
       "align_self": null,
       "border": null,
       "bottom": null,
       "display": null,
       "flex": null,
       "flex_flow": null,
       "grid_area": null,
       "grid_auto_columns": null,
       "grid_auto_flow": null,
       "grid_auto_rows": null,
       "grid_column": null,
       "grid_gap": null,
       "grid_row": null,
       "grid_template_areas": null,
       "grid_template_columns": null,
       "grid_template_rows": null,
       "height": null,
       "justify_content": null,
       "justify_items": null,
       "left": null,
       "margin": null,
       "max_height": null,
       "max_width": null,
       "min_height": null,
       "min_width": null,
       "object_fit": null,
       "object_position": null,
       "order": null,
       "overflow": null,
       "overflow_x": null,
       "overflow_y": null,
       "padding": null,
       "right": null,
       "top": null,
       "visibility": null,
       "width": null
      }
     },
     "7210c937d5a44033b117c56ab127d0d1": {
      "model_module": "@jupyter-widgets/controls",
      "model_module_version": "1.5.0",
      "model_name": "HBoxModel",
      "state": {
       "_dom_classes": [],
       "_model_module": "@jupyter-widgets/controls",
       "_model_module_version": "1.5.0",
       "_model_name": "HBoxModel",
       "_view_count": null,
       "_view_module": "@jupyter-widgets/controls",
       "_view_module_version": "1.5.0",
       "_view_name": "HBoxView",
       "box_style": "",
       "children": [
        "IPY_MODEL_f6dc29ad32c64b779d95d99ebc5302ed",
        "IPY_MODEL_d8c0e0e581da429385fba1367f53a6ad",
        "IPY_MODEL_6e1ea5802d1241d2a94dd2fd42ab228a"
       ],
       "layout": "IPY_MODEL_ac7452222506479c957563fe732d61c9"
      }
     },
     "907c2b3b9d4b4dc8a93c29a494b1b2f8": {
      "model_module": "@jupyter-widgets/controls",
      "model_module_version": "1.5.0",
      "model_name": "DescriptionStyleModel",
      "state": {
       "_model_module": "@jupyter-widgets/controls",
       "_model_module_version": "1.5.0",
       "_model_name": "DescriptionStyleModel",
       "_view_count": null,
       "_view_module": "@jupyter-widgets/base",
       "_view_module_version": "1.2.0",
       "_view_name": "StyleView",
       "description_width": ""
      }
     },
     "9a085cc87f3f4fc293699a3905c3b608": {
      "model_module": "@jupyter-widgets/controls",
      "model_module_version": "1.5.0",
      "model_name": "HTMLModel",
      "state": {
       "_dom_classes": [],
       "_model_module": "@jupyter-widgets/controls",
       "_model_module_version": "1.5.0",
       "_model_name": "HTMLModel",
       "_view_count": null,
       "_view_module": "@jupyter-widgets/controls",
       "_view_module_version": "1.5.0",
       "_view_name": "HTMLView",
       "description": "",
       "description_tooltip": null,
       "layout": "IPY_MODEL_718ec96d657046ada58311a6141d65ba",
       "placeholder": "​",
       "style": "IPY_MODEL_5706e9a899f5483398eaaeb9eb39e473",
       "value": "Render HTML: 100%"
      }
     },
     "9e2072c0447e40008c901d74b2f21806": {
      "model_module": "@jupyter-widgets/controls",
      "model_module_version": "1.5.0",
      "model_name": "DescriptionStyleModel",
      "state": {
       "_model_module": "@jupyter-widgets/controls",
       "_model_module_version": "1.5.0",
       "_model_name": "DescriptionStyleModel",
       "_view_count": null,
       "_view_module": "@jupyter-widgets/base",
       "_view_module_version": "1.2.0",
       "_view_name": "StyleView",
       "description_width": ""
      }
     },
     "a1f904f81c964426b34ca585b529123a": {
      "model_module": "@jupyter-widgets/controls",
      "model_module_version": "1.5.0",
      "model_name": "HBoxModel",
      "state": {
       "_dom_classes": [],
       "_model_module": "@jupyter-widgets/controls",
       "_model_module_version": "1.5.0",
       "_model_name": "HBoxModel",
       "_view_count": null,
       "_view_module": "@jupyter-widgets/controls",
       "_view_module_version": "1.5.0",
       "_view_name": "HBoxView",
       "box_style": "",
       "children": [
        "IPY_MODEL_9a085cc87f3f4fc293699a3905c3b608",
        "IPY_MODEL_e3053ebe909d4db180e8bfda5eb2ce45",
        "IPY_MODEL_bf6cc8efdab7414f87abcf58bb1b6b61"
       ],
       "layout": "IPY_MODEL_5f4eb1cbcdee4cd4870a329b3b7b4b3e"
      }
     },
     "a54d9a9def884c4a8120892e94570c6f": {
      "model_module": "@jupyter-widgets/controls",
      "model_module_version": "1.5.0",
      "model_name": "DescriptionStyleModel",
      "state": {
       "_model_module": "@jupyter-widgets/controls",
       "_model_module_version": "1.5.0",
       "_model_name": "DescriptionStyleModel",
       "_view_count": null,
       "_view_module": "@jupyter-widgets/base",
       "_view_module_version": "1.2.0",
       "_view_name": "StyleView",
       "description_width": ""
      }
     },
     "ac68c2a4c2584892b8213b9c4efff590": {
      "model_module": "@jupyter-widgets/base",
      "model_module_version": "1.2.0",
      "model_name": "LayoutModel",
      "state": {
       "_model_module": "@jupyter-widgets/base",
       "_model_module_version": "1.2.0",
       "_model_name": "LayoutModel",
       "_view_count": null,
       "_view_module": "@jupyter-widgets/base",
       "_view_module_version": "1.2.0",
       "_view_name": "LayoutView",
       "align_content": null,
       "align_items": null,
       "align_self": null,
       "border": null,
       "bottom": null,
       "display": null,
       "flex": null,
       "flex_flow": null,
       "grid_area": null,
       "grid_auto_columns": null,
       "grid_auto_flow": null,
       "grid_auto_rows": null,
       "grid_column": null,
       "grid_gap": null,
       "grid_row": null,
       "grid_template_areas": null,
       "grid_template_columns": null,
       "grid_template_rows": null,
       "height": null,
       "justify_content": null,
       "justify_items": null,
       "left": null,
       "margin": null,
       "max_height": null,
       "max_width": null,
       "min_height": null,
       "min_width": null,
       "object_fit": null,
       "object_position": null,
       "order": null,
       "overflow": null,
       "overflow_x": null,
       "overflow_y": null,
       "padding": null,
       "right": null,
       "top": null,
       "visibility": null,
       "width": null
      }
     },
     "ac7452222506479c957563fe732d61c9": {
      "model_module": "@jupyter-widgets/base",
      "model_module_version": "1.2.0",
      "model_name": "LayoutModel",
      "state": {
       "_model_module": "@jupyter-widgets/base",
       "_model_module_version": "1.2.0",
       "_model_name": "LayoutModel",
       "_view_count": null,
       "_view_module": "@jupyter-widgets/base",
       "_view_module_version": "1.2.0",
       "_view_name": "LayoutView",
       "align_content": null,
       "align_items": null,
       "align_self": null,
       "border": null,
       "bottom": null,
       "display": null,
       "flex": null,
       "flex_flow": null,
       "grid_area": null,
       "grid_auto_columns": null,
       "grid_auto_flow": null,
       "grid_auto_rows": null,
       "grid_column": null,
       "grid_gap": null,
       "grid_row": null,
       "grid_template_areas": null,
       "grid_template_columns": null,
       "grid_template_rows": null,
       "height": null,
       "justify_content": null,
       "justify_items": null,
       "left": null,
       "margin": null,
       "max_height": null,
       "max_width": null,
       "min_height": null,
       "min_width": null,
       "object_fit": null,
       "object_position": null,
       "order": null,
       "overflow": null,
       "overflow_x": null,
       "overflow_y": null,
       "padding": null,
       "right": null,
       "top": null,
       "visibility": null,
       "width": null
      }
     },
     "bc243b81bd964248bb217fdab6bb0223": {
      "model_module": "@jupyter-widgets/controls",
      "model_module_version": "1.5.0",
      "model_name": "ProgressStyleModel",
      "state": {
       "_model_module": "@jupyter-widgets/controls",
       "_model_module_version": "1.5.0",
       "_model_name": "ProgressStyleModel",
       "_view_count": null,
       "_view_module": "@jupyter-widgets/base",
       "_view_module_version": "1.2.0",
       "_view_name": "StyleView",
       "bar_color": null,
       "description_width": ""
      }
     },
     "bf6cc8efdab7414f87abcf58bb1b6b61": {
      "model_module": "@jupyter-widgets/controls",
      "model_module_version": "1.5.0",
      "model_name": "HTMLModel",
      "state": {
       "_dom_classes": [],
       "_model_module": "@jupyter-widgets/controls",
       "_model_module_version": "1.5.0",
       "_model_name": "HTMLModel",
       "_view_count": null,
       "_view_module": "@jupyter-widgets/controls",
       "_view_module_version": "1.5.0",
       "_view_name": "HTMLView",
       "description": "",
       "description_tooltip": null,
       "layout": "IPY_MODEL_e025d8f1abd84def89b1cb4b612b20ec",
       "placeholder": "​",
       "style": "IPY_MODEL_08b46d26a92b44acad9f852c0ed14c4a",
       "value": " 1/1 [00:01&lt;00:00,  1.74s/it]"
      }
     },
     "c44cb7a4fe2b49279533bae3590f3a0e": {
      "model_module": "@jupyter-widgets/base",
      "model_module_version": "1.2.0",
      "model_name": "LayoutModel",
      "state": {
       "_model_module": "@jupyter-widgets/base",
       "_model_module_version": "1.2.0",
       "_model_name": "LayoutModel",
       "_view_count": null,
       "_view_module": "@jupyter-widgets/base",
       "_view_module_version": "1.2.0",
       "_view_name": "LayoutView",
       "align_content": null,
       "align_items": null,
       "align_self": null,
       "border": null,
       "bottom": null,
       "display": null,
       "flex": null,
       "flex_flow": null,
       "grid_area": null,
       "grid_auto_columns": null,
       "grid_auto_flow": null,
       "grid_auto_rows": null,
       "grid_column": null,
       "grid_gap": null,
       "grid_row": null,
       "grid_template_areas": null,
       "grid_template_columns": null,
       "grid_template_rows": null,
       "height": null,
       "justify_content": null,
       "justify_items": null,
       "left": null,
       "margin": null,
       "max_height": null,
       "max_width": null,
       "min_height": null,
       "min_width": null,
       "object_fit": null,
       "object_position": null,
       "order": null,
       "overflow": null,
       "overflow_x": null,
       "overflow_y": null,
       "padding": null,
       "right": null,
       "top": null,
       "visibility": null,
       "width": null
      }
     },
     "cba2caa885514ab3a7e2940d4400a595": {
      "model_module": "@jupyter-widgets/controls",
      "model_module_version": "1.5.0",
      "model_name": "ProgressStyleModel",
      "state": {
       "_model_module": "@jupyter-widgets/controls",
       "_model_module_version": "1.5.0",
       "_model_name": "ProgressStyleModel",
       "_view_count": null,
       "_view_module": "@jupyter-widgets/base",
       "_view_module_version": "1.2.0",
       "_view_name": "StyleView",
       "bar_color": null,
       "description_width": ""
      }
     },
     "cd012d04b0ac492dba618b0e4f5bd325": {
      "model_module": "@jupyter-widgets/base",
      "model_module_version": "1.2.0",
      "model_name": "LayoutModel",
      "state": {
       "_model_module": "@jupyter-widgets/base",
       "_model_module_version": "1.2.0",
       "_model_name": "LayoutModel",
       "_view_count": null,
       "_view_module": "@jupyter-widgets/base",
       "_view_module_version": "1.2.0",
       "_view_name": "LayoutView",
       "align_content": null,
       "align_items": null,
       "align_self": null,
       "border": null,
       "bottom": null,
       "display": null,
       "flex": null,
       "flex_flow": null,
       "grid_area": null,
       "grid_auto_columns": null,
       "grid_auto_flow": null,
       "grid_auto_rows": null,
       "grid_column": null,
       "grid_gap": null,
       "grid_row": null,
       "grid_template_areas": null,
       "grid_template_columns": null,
       "grid_template_rows": null,
       "height": null,
       "justify_content": null,
       "justify_items": null,
       "left": null,
       "margin": null,
       "max_height": null,
       "max_width": null,
       "min_height": null,
       "min_width": null,
       "object_fit": null,
       "object_position": null,
       "order": null,
       "overflow": null,
       "overflow_x": null,
       "overflow_y": null,
       "padding": null,
       "right": null,
       "top": null,
       "visibility": null,
       "width": null
      }
     },
     "d0ae1596cd5646b2baf61c4577e7d922": {
      "model_module": "@jupyter-widgets/controls",
      "model_module_version": "1.5.0",
      "model_name": "HTMLModel",
      "state": {
       "_dom_classes": [],
       "_model_module": "@jupyter-widgets/controls",
       "_model_module_version": "1.5.0",
       "_model_name": "HTMLModel",
       "_view_count": null,
       "_view_module": "@jupyter-widgets/controls",
       "_view_module_version": "1.5.0",
       "_view_name": "HTMLView",
       "description": "",
       "description_tooltip": null,
       "layout": "IPY_MODEL_5a89a6d8a7d64eb1af02834f1cde7160",
       "placeholder": "​",
       "style": "IPY_MODEL_a54d9a9def884c4a8120892e94570c6f",
       "value": " 26/26 [00:09&lt;00:00,  1.65it/s, Completed]"
      }
     },
     "d8c0e0e581da429385fba1367f53a6ad": {
      "model_module": "@jupyter-widgets/controls",
      "model_module_version": "1.5.0",
      "model_name": "FloatProgressModel",
      "state": {
       "_dom_classes": [],
       "_model_module": "@jupyter-widgets/controls",
       "_model_module_version": "1.5.0",
       "_model_name": "FloatProgressModel",
       "_view_count": null,
       "_view_module": "@jupyter-widgets/controls",
       "_view_module_version": "1.5.0",
       "_view_name": "ProgressView",
       "bar_style": "success",
       "description": "",
       "description_tooltip": null,
       "layout": "IPY_MODEL_ac68c2a4c2584892b8213b9c4efff590",
       "max": 1,
       "min": 0,
       "orientation": "horizontal",
       "style": "IPY_MODEL_cba2caa885514ab3a7e2940d4400a595",
       "value": 1
      }
     },
     "d9d55382f31944169e3b5044730f3718": {
      "model_module": "@jupyter-widgets/base",
      "model_module_version": "1.2.0",
      "model_name": "LayoutModel",
      "state": {
       "_model_module": "@jupyter-widgets/base",
       "_model_module_version": "1.2.0",
       "_model_name": "LayoutModel",
       "_view_count": null,
       "_view_module": "@jupyter-widgets/base",
       "_view_module_version": "1.2.0",
       "_view_name": "LayoutView",
       "align_content": null,
       "align_items": null,
       "align_self": null,
       "border": null,
       "bottom": null,
       "display": null,
       "flex": null,
       "flex_flow": null,
       "grid_area": null,
       "grid_auto_columns": null,
       "grid_auto_flow": null,
       "grid_auto_rows": null,
       "grid_column": null,
       "grid_gap": null,
       "grid_row": null,
       "grid_template_areas": null,
       "grid_template_columns": null,
       "grid_template_rows": null,
       "height": null,
       "justify_content": null,
       "justify_items": null,
       "left": null,
       "margin": null,
       "max_height": null,
       "max_width": null,
       "min_height": null,
       "min_width": null,
       "object_fit": null,
       "object_position": null,
       "order": null,
       "overflow": null,
       "overflow_x": null,
       "overflow_y": null,
       "padding": null,
       "right": null,
       "top": null,
       "visibility": null,
       "width": null
      }
     },
     "e025d8f1abd84def89b1cb4b612b20ec": {
      "model_module": "@jupyter-widgets/base",
      "model_module_version": "1.2.0",
      "model_name": "LayoutModel",
      "state": {
       "_model_module": "@jupyter-widgets/base",
       "_model_module_version": "1.2.0",
       "_model_name": "LayoutModel",
       "_view_count": null,
       "_view_module": "@jupyter-widgets/base",
       "_view_module_version": "1.2.0",
       "_view_name": "LayoutView",
       "align_content": null,
       "align_items": null,
       "align_self": null,
       "border": null,
       "bottom": null,
       "display": null,
       "flex": null,
       "flex_flow": null,
       "grid_area": null,
       "grid_auto_columns": null,
       "grid_auto_flow": null,
       "grid_auto_rows": null,
       "grid_column": null,
       "grid_gap": null,
       "grid_row": null,
       "grid_template_areas": null,
       "grid_template_columns": null,
       "grid_template_rows": null,
       "height": null,
       "justify_content": null,
       "justify_items": null,
       "left": null,
       "margin": null,
       "max_height": null,
       "max_width": null,
       "min_height": null,
       "min_width": null,
       "object_fit": null,
       "object_position": null,
       "order": null,
       "overflow": null,
       "overflow_x": null,
       "overflow_y": null,
       "padding": null,
       "right": null,
       "top": null,
       "visibility": null,
       "width": null
      }
     },
     "e3053ebe909d4db180e8bfda5eb2ce45": {
      "model_module": "@jupyter-widgets/controls",
      "model_module_version": "1.5.0",
      "model_name": "FloatProgressModel",
      "state": {
       "_dom_classes": [],
       "_model_module": "@jupyter-widgets/controls",
       "_model_module_version": "1.5.0",
       "_model_name": "FloatProgressModel",
       "_view_count": null,
       "_view_module": "@jupyter-widgets/controls",
       "_view_module_version": "1.5.0",
       "_view_name": "ProgressView",
       "bar_style": "success",
       "description": "",
       "description_tooltip": null,
       "layout": "IPY_MODEL_50790a8251a44466a5396ac6bb5b8319",
       "max": 1,
       "min": 0,
       "orientation": "horizontal",
       "style": "IPY_MODEL_bc243b81bd964248bb217fdab6bb0223",
       "value": 1
      }
     },
     "f0164a5f174d415ca05a8b89e299676e": {
      "model_module": "@jupyter-widgets/controls",
      "model_module_version": "1.5.0",
      "model_name": "DescriptionStyleModel",
      "state": {
       "_model_module": "@jupyter-widgets/controls",
       "_model_module_version": "1.5.0",
       "_model_name": "DescriptionStyleModel",
       "_view_count": null,
       "_view_module": "@jupyter-widgets/base",
       "_view_module_version": "1.2.0",
       "_view_name": "StyleView",
       "description_width": ""
      }
     },
     "f6dc29ad32c64b779d95d99ebc5302ed": {
      "model_module": "@jupyter-widgets/controls",
      "model_module_version": "1.5.0",
      "model_name": "HTMLModel",
      "state": {
       "_dom_classes": [],
       "_model_module": "@jupyter-widgets/controls",
       "_model_module_version": "1.5.0",
       "_model_name": "HTMLModel",
       "_view_count": null,
       "_view_module": "@jupyter-widgets/controls",
       "_view_module_version": "1.5.0",
       "_view_name": "HTMLView",
       "description": "",
       "description_tooltip": null,
       "layout": "IPY_MODEL_cd012d04b0ac492dba618b0e4f5bd325",
       "placeholder": "​",
       "style": "IPY_MODEL_907c2b3b9d4b4dc8a93c29a494b1b2f8",
       "value": "Generate report structure: 100%"
      }
     },
     "fd3ec9b247ec4d52b6cb38d73c15d90d": {
      "model_module": "@jupyter-widgets/controls",
      "model_module_version": "1.5.0",
      "model_name": "HBoxModel",
      "state": {
       "_dom_classes": [],
       "_model_module": "@jupyter-widgets/controls",
       "_model_module_version": "1.5.0",
       "_model_name": "HBoxModel",
       "_view_count": null,
       "_view_module": "@jupyter-widgets/controls",
       "_view_module_version": "1.5.0",
       "_view_name": "HBoxView",
       "box_style": "",
       "children": [
        "IPY_MODEL_5aed7406692a45aca1d407df821f4fca",
        "IPY_MODEL_2a84819987bc48318cdfde72f68b3cb8",
        "IPY_MODEL_d0ae1596cd5646b2baf61c4577e7d922"
       ],
       "layout": "IPY_MODEL_1db299c9386a49ae9f88deb055e23614"
      }
     }
    },
    "version_major": 2,
    "version_minor": 0
   }
  }
 },
 "nbformat": 4,
 "nbformat_minor": 5
}
